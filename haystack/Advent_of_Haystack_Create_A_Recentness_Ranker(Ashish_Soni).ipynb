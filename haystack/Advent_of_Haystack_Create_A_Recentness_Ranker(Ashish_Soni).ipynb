{
  "nbformat": 4,
  "nbformat_minor": 0,
  "metadata": {
    "colab": {
      "provenance": [],
      "include_colab_link": true
    },
    "kernelspec": {
      "name": "python3",
      "display_name": "Python 3"
    },
    "language_info": {
      "name": "python"
    }
  },
  "cells": [
    {
      "cell_type": "markdown",
      "metadata": {
        "id": "view-in-github",
        "colab_type": "text"
      },
      "source": [
        "<a href=\"https://colab.research.google.com/github/Ashish-Soni08/Playground/blob/main/haystack/Advent_of_Haystack_Create_A_Recentness_Ranker(Ashish_Soni).ipynb\" target=\"_parent\"><img src=\"https://colab.research.google.com/assets/colab-badge.svg\" alt=\"Open In Colab\"/></a>"
      ]
    },
    {
      "cell_type": "markdown",
      "source": [
        "# Advent of Haystack - Day 8\n",
        "\n",
        "Here we have some documents that contain meeting notes (generated with ChatGPT 🤝), and the date of the meeting in the `meta` field.\n",
        "\n",
        "🚀 Your task is to create a custom component that can rank these documents from newets to oldest based on the date field in `meta`. Do this in **Step 3**\n",
        "\n",
        "We have prepared a pipeline that needs to use this component. The pipeline already has a component added with `pipe.add_component(\"recentness\", date_ranker)`."
      ],
      "metadata": {
        "id": "V18t0dxY7G3u"
      }
    },
    {
      "cell_type": "markdown",
      "source": [
        "#Installation\n",
        "**Note:** There is a known issue with colab due to a version conflict error related to `llmx` which comes with Colab. You might get an `llmx` error. You can safely ignore this, or run `pip uninstall -y llmx`"
      ],
      "metadata": {
        "id": "AbrakOGeXui-"
      }
    },
    {
      "cell_type": "code",
      "execution_count": 1,
      "metadata": {
        "id": "c-bWpypics6k"
      },
      "outputs": [],
      "source": [
        "%%capture\n",
        "\n",
        "!pip install haystack-ai"
      ]
    },
    {
      "cell_type": "markdown",
      "source": [
        "### Enabling Telemetry\n",
        "\n",
        "Knowing you’re running this challenge helps us know whether Advent of Haystack is helping people learn about Haystack 2.0-Beta. But you can always opt out by commenting the following line."
      ],
      "metadata": {
        "id": "6dA3YaY5UDSq"
      }
    },
    {
      "cell_type": "code",
      "source": [
        "from haystack.telemetry import tutorial_running\n",
        "\n",
        "tutorial_running(\"challenge_8\")"
      ],
      "metadata": {
        "id": "9kvjEyq-UCqp"
      },
      "execution_count": 2,
      "outputs": []
    },
    {
      "cell_type": "markdown",
      "source": [
        "## 1. Set up our Meeting Notes"
      ],
      "metadata": {
        "id": "hiGV9KVA8OQ-"
      }
    },
    {
      "cell_type": "code",
      "source": [
        "import datetime\n",
        "from haystack.dataclasses import Document\n",
        "\n",
        "documents = [Document(content=\"Decision: Prioritize Project A over Project B for the upcoming quarter. Rationale: Project A has a more immediate impact on client satisfaction. Action Items: Project teams to reallocate resources accordingly.\", meta={\"date\": datetime.datetime(2023, 11, 10)}),\n",
        "             Document(content=\"Decision: Revert back to the original plan, prioritizing Project B. Rationale: Client feedback and market analysis indicate higher long-term potential for Project B. Action Items: Project teams to readjust resources, and communicate changes to stakeholders.\", meta={\"date\": datetime.datetime(2023, 11, 12)}),\n",
        "             Document(content=\"Decision: Allocate 20% of the training budget to online courses. Rationale: Online courses offer cost-effective and flexible learning options. Action Items: HR to update the budget and communicate the changes to employees.\", meta={\"date\": datetime.datetime(2023, 11, 11)}),]"
      ],
      "metadata": {
        "id": "E1OCUd8IczrI"
      },
      "execution_count": 3,
      "outputs": []
    },
    {
      "cell_type": "markdown",
      "source": [
        "## 2. Create a prompt template and Generator\n",
        "Here, we've created a prompt template that asks for a summary of meeting notes."
      ],
      "metadata": {
        "id": "7Da0lTlG8Tcm"
      }
    },
    {
      "cell_type": "code",
      "source": [
        "from getpass import getpass\n",
        "\n",
        "api_key = getpass(\"OpenAI Key: \")"
      ],
      "metadata": {
        "id": "4IIqPZNEe6YL",
        "colab": {
          "base_uri": "https://localhost:8080/"
        },
        "outputId": "10c3509d-398f-4bee-a59a-375d643a14f1"
      },
      "execution_count": 4,
      "outputs": [
        {
          "name": "stdout",
          "output_type": "stream",
          "text": [
            "OpenAI Key: ··········\n"
          ]
        }
      ]
    },
    {
      "cell_type": "code",
      "source": [
        "from haystack import Pipeline\n",
        "from haystack.components.builders.prompt_builder import PromptBuilder\n",
        "from haystack.components.generators import GPTGenerator\n",
        "\n",
        "prompt_template = \"\"\"\n",
        "You will be provided meeting notes in order. The order is from newest to oldest . Create\n",
        "a summary of the decisions, indicating the progression.\n",
        "\n",
        "Meeting notes in order or recency:\n",
        "{% for document in documents %}\n",
        "  \"Meeting Notes:\"\n",
        "  {{document.content}}\n",
        "{% endfor %}\n",
        "\"\"\"\n",
        "\n",
        "prompt_builder = PromptBuilder(template=prompt_template)\n",
        "llm = GPTGenerator(model_name=\"gpt-3.5-turbo-1106\", api_key=api_key)"
      ],
      "metadata": {
        "id": "2vX5cqDkeTsW"
      },
      "execution_count": 5,
      "outputs": []
    },
    {
      "cell_type": "code",
      "source": [
        "llm.run(\"HI\")"
      ],
      "metadata": {
        "colab": {
          "base_uri": "https://localhost:8080/"
        },
        "id": "6X6e6_p6gae4",
        "outputId": "9e7d92b8-3c3d-4288-ff69-d5885af6ed24"
      },
      "execution_count": 7,
      "outputs": [
        {
          "output_type": "execute_result",
          "data": {
            "text/plain": [
              "{'replies': ['Hello! How can I help you today?'],\n",
              " 'metadata': [{'model': 'gpt-3.5-turbo-1106',\n",
              "   'index': 0,\n",
              "   'finish_reason': 'stop',\n",
              "   'usage': {'prompt_tokens': 8, 'completion_tokens': 9, 'total_tokens': 17}}]}"
            ]
          },
          "metadata": {},
          "execution_count": 7
        }
      ]
    },
    {
      "cell_type": "markdown",
      "source": [
        "## 3. Create a custom `DateRanker`\n",
        "\n",
        "Complete the custom component below so as to have a ranker which can rank a List of Documents based on date."
      ],
      "metadata": {
        "id": "xc7gCVSe8d8G"
      }
    },
    {
      "cell_type": "code",
      "source": [
        "type(documents)"
      ],
      "metadata": {
        "colab": {
          "base_uri": "https://localhost:8080/"
        },
        "id": "shaM9lftYmfK",
        "outputId": "44eec816-5887-4477-c2fa-553d819cc991"
      },
      "execution_count": 8,
      "outputs": [
        {
          "output_type": "execute_result",
          "data": {
            "text/plain": [
              "list"
            ]
          },
          "metadata": {},
          "execution_count": 8
        }
      ]
    },
    {
      "cell_type": "code",
      "source": [
        "documents[0].content"
      ],
      "metadata": {
        "colab": {
          "base_uri": "https://localhost:8080/",
          "height": 53
        },
        "id": "SmRavwaTYpRg",
        "outputId": "b27d9ff7-d827-4950-ea23-6864319d7678"
      },
      "execution_count": 9,
      "outputs": [
        {
          "output_type": "execute_result",
          "data": {
            "text/plain": [
              "'Decision: Prioritize Project A over Project B for the upcoming quarter. Rationale: Project A has a more immediate impact on client satisfaction. Action Items: Project teams to reallocate resources accordingly.'"
            ],
            "application/vnd.google.colaboratory.intrinsic+json": {
              "type": "string"
            }
          },
          "metadata": {},
          "execution_count": 9
        }
      ]
    },
    {
      "cell_type": "code",
      "source": [
        "type(documents[0].content)"
      ],
      "metadata": {
        "colab": {
          "base_uri": "https://localhost:8080/"
        },
        "id": "sl98jTh5aUdY",
        "outputId": "28d5d33a-c633-47ba-9b97-72d83da19196"
      },
      "execution_count": 10,
      "outputs": [
        {
          "output_type": "execute_result",
          "data": {
            "text/plain": [
              "str"
            ]
          },
          "metadata": {},
          "execution_count": 10
        }
      ]
    },
    {
      "cell_type": "code",
      "source": [
        "documents[0].meta.get('date')"
      ],
      "metadata": {
        "colab": {
          "base_uri": "https://localhost:8080/"
        },
        "id": "aMSJLJrl3LEW",
        "outputId": "7d9e640c-2b10-4c1f-eda9-40fce86f77d3"
      },
      "execution_count": 11,
      "outputs": [
        {
          "output_type": "execute_result",
          "data": {
            "text/plain": [
              "datetime.datetime(2023, 11, 10, 0, 0)"
            ]
          },
          "metadata": {},
          "execution_count": 11
        }
      ]
    },
    {
      "cell_type": "code",
      "source": [
        "type(documents[0].meta.get('date'))"
      ],
      "metadata": {
        "colab": {
          "base_uri": "https://localhost:8080/"
        },
        "id": "yKXceE-waPDr",
        "outputId": "d522edc2-adb4-4351-b19e-c9b74fdc4d01"
      },
      "execution_count": 12,
      "outputs": [
        {
          "output_type": "execute_result",
          "data": {
            "text/plain": [
              "datetime.datetime"
            ]
          },
          "metadata": {},
          "execution_count": 12
        }
      ]
    },
    {
      "cell_type": "code",
      "source": [
        "from typing import List, Optional\n",
        "from haystack import component\n",
        "\n",
        "@component\n",
        "class DateRanker():\n",
        "    def __init__(self, date_field: str = \"date\"):\n",
        "        self.date_field = date_field\n",
        "\n",
        "    @component.output_types(documents=List[Document])\n",
        "    def run(self, documents: List[Document]) -> dict:\n",
        "        \"\"\"\n",
        "        Rank a list of documents based on the specified date field.\n",
        "\n",
        "        Args:\n",
        "            documents (List[Document]): List of input documents.\n",
        "\n",
        "        Returns:\n",
        "            dict: Dictionary with the ranked documents.\n",
        "        \"\"\"\n",
        "        # Sort all documents based on the date field\n",
        "        ranked_documents = sorted(documents, key=lambda doc: doc.meta.get(self.date_field), reverse=True)\n",
        "\n",
        "        return {\"documents\": ranked_documents}"
      ],
      "metadata": {
        "id": "CMTMh9AkiaZn"
      },
      "execution_count": 13,
      "outputs": []
    },
    {
      "cell_type": "code",
      "source": [
        "date_ranker = DateRanker()"
      ],
      "metadata": {
        "id": "5-KcSOutkvk-"
      },
      "execution_count": 14,
      "outputs": []
    },
    {
      "cell_type": "markdown",
      "source": [
        "## 4. Create and run the RAG pipeline\n",
        "\n",
        "Below is the pipeline that we would like to run to create a summary of the meeting notes. This pipeline uses a component calles `date_ranker` that you should create in the section above"
      ],
      "metadata": {
        "id": "i2_uYko78yCR"
      }
    },
    {
      "cell_type": "code",
      "source": [
        "pipe = Pipeline()\n",
        "pipe.add_component(\"recentness\", date_ranker)\n",
        "pipe.add_component(\"prompt_builder\", prompt_builder)\n",
        "pipe.add_component(\"llm\", llm)"
      ],
      "metadata": {
        "id": "pkCMpI5Jla_F"
      },
      "execution_count": 15,
      "outputs": []
    },
    {
      "cell_type": "code",
      "source": [
        "pipe.connect(\"recentness.documents\", \"prompt_builder.documents\")\n",
        "pipe.connect(\"prompt_builder\", \"llm\")"
      ],
      "metadata": {
        "id": "gH-AiTjneCk-"
      },
      "execution_count": 16,
      "outputs": []
    },
    {
      "cell_type": "code",
      "source": [
        "pipe.draw(\"/content/pipeline_day_8.png\")"
      ],
      "metadata": {
        "id": "vFCi861heRR6"
      },
      "execution_count": 17,
      "outputs": []
    },
    {
      "cell_type": "code",
      "source": [
        "result = pipe.run(data={\"recentness\":{\"documents\": documents}})\n",
        "\n",
        "\n",
        "print(result['llm'][\"replies\"][0])"
      ],
      "metadata": {
        "id": "0fipnYSRlvdC",
        "colab": {
          "base_uri": "https://localhost:8080/"
        },
        "outputId": "01bb5378-a4e4-44c5-f284-cf7c003a58bc"
      },
      "execution_count": 18,
      "outputs": [
        {
          "output_type": "stream",
          "name": "stdout",
          "text": [
            "Summary of Decisions:\n",
            "\n",
            "1. Reverting back to the original plan and prioritizing Project B due to higher long-term potential.\n",
            "2. Allocating 20% of the training budget to online courses for cost-effective and flexible learning options.\n",
            "3. Prioritizing Project A over Project B for the upcoming quarter due to its immediate impact on client satisfaction.\n"
          ]
        }
      ]
    }
  ]
}