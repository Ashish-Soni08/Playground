{
  "nbformat": 4,
  "nbformat_minor": 0,
  "metadata": {
    "colab": {
      "provenance": [],
      "include_colab_link": true
    },
    "kernelspec": {
      "name": "python3",
      "display_name": "Python 3"
    },
    "language_info": {
      "name": "python"
    }
  },
  "cells": [
    {
      "cell_type": "markdown",
      "metadata": {
        "id": "view-in-github",
        "colab_type": "text"
      },
      "source": [
        "<a href=\"https://colab.research.google.com/github/Ashish-Soni08/Playground/blob/main/haystack/Advent_of_Haystack_Branch_based_on_language(Ashish_Soni).ipynb\" target=\"_parent\"><img src=\"https://colab.research.google.com/assets/colab-badge.svg\" alt=\"Open In Colab\"/></a>"
      ]
    },
    {
      "cell_type": "markdown",
      "source": [
        "# Advent of Haystack - Day 4\n",
        "_Make a copy of this Colab to start!_\n",
        "\n",
        "\n",
        "In this challenge, your task is to route documents to a specific document store based on the language of the document!\n",
        "\n",
        "We've already started a pipeline that adds French documents to a French `InMemoryDocumentStore`, and English ones to another.\n",
        "\n",
        "However, the dummy documents here include hotel reviews in German, Spanish, French, Dutch, and English.\n",
        "\n",
        "👉 Your task is to complete the **Write Documents to `InMemoryDocumentStore`** section by adding branches to the pipeline. These branches should index documents to a document stores based on language.\n",
        "\n",
        "👉 **Optionally**, you can also add a section at the end that does question answering where the answer to the question is generated from the documents with the language the question was asked in. For this section, you should use the [`TextLanguageRouter`](https://docs.haystack.deepset.ai/v2.0/docs/textlanguagerouter)\n",
        "\n",
        "**Useful Components:**\n",
        "\n",
        "- [`DocumentLanguageClassifier`](https://docs.haystack.deepset.ai/v2.0/docs/documentlanguageclassifier): Use this component to classify documents based on language. The language will be added to the documents `metadata`\n",
        "- [`MetadataRouter`](https://docs.haystack.deepset.ai/v2.0/docs/metadatarouter): Use this components to route documents to different document stores based on metadata. In this challenge, you will set it to be routed based on language."
      ],
      "metadata": {
        "id": "sZVlYSmRjzuk"
      }
    },
    {
      "cell_type": "markdown",
      "source": [
        "#Installation\n",
        "**Note:** There is a known issue with colab due to a version conflict error related to `llmx` which comes with Colab. You might get an `llmx` error. You can safely ignore this, or run `pip uninstall -y llmx`"
      ],
      "metadata": {
        "id": "Lmn5QnGcXQ-e"
      }
    },
    {
      "cell_type": "code",
      "source": [
        "%%capture\n",
        "\n",
        "!pip install haystack-ai\n",
        "!pip install langdetect\n",
        "!pip install transformers[torch,sentencepiece]==4.32.1 sentence-transformers>=2.2.0"
      ],
      "metadata": {
        "id": "lxgAfuxcdftS"
      },
      "execution_count": 1,
      "outputs": []
    },
    {
      "cell_type": "markdown",
      "source": [
        "## Write Documents Into `InMemoryDocumentStore`\n",
        "\n",
        "The following indexing pipeline writes French and English documents into their own `InMemoryDocuementStores` based on langauge. Add more branches to this pipeline so that you can have a separate document store for every language 👇"
      ],
      "metadata": {
        "id": "K0wRwkyvkV3Z"
      }
    },
    {
      "cell_type": "code",
      "source": [
        "from haystack import Document, Pipeline\n",
        "from haystack.document_stores import InMemoryDocumentStore\n",
        "from haystack.components.classifiers import DocumentLanguageClassifier\n",
        "from haystack.components.routers import MetadataRouter\n",
        "from haystack.components.writers import DocumentWriter\n",
        "\n",
        "\n",
        "documents = [Document(content = \"Durchgängig Lärm, weil direkt an der Partymeile; schmutziges Geschirr; unvollständige Küchenausstattung; Abzugshaube über Herd ging für zwei Stunden automatisch an und lies sich nicht abstellen; Reaktionen auf Anfragen entweder gar nicht oder unfreundlich\"),\n",
        "             Document(content = \"Das Personal ist sehr zuvorkommend! Über WhatsApp war man im guten Kontakt und konnte alles erfragen. Auch das Angebot des Shuttleservices war super und würde ich empfehlen - sehr unkompliziert! Unser Flug hatte Verspätung und der Shuttle hat auf uns gewartet. Die Lage zur Innenstadt ist sehr gut,jedoch ist die Fensterfront direkt zur Club-Straße deshalb war es nachts bis drei/vier Uhr immer recht laut. Die Kaffeemaschine oder auch die Couch hätten sauberer sein können. Ansonsten war das Appartement aber völlig ok.\"),\n",
        "             Document(content = \"Super appartement. Juste au dessus de plusieurs bars qui ferment très tard. A savoir à l'avance. (Bouchons d'oreilles fournis !)\"),\n",
        "             Document(content = \"El apartamento estaba genial y muy céntrico, todo a mano. Al lado de la librería Lello y De la Torre de los clérigos. Está situado en una zona de marcha, así que si vais en fin de semana , habrá ruido, aunque a nosotros no nos molestaba para dormir\"),\n",
        "             Document(content = \"The keypad with a code is convenient and the location is convenient. Basically everything else, very noisy, wi-fi didn't work, check-in person didn't explain anything about facilities, shower head was broken, there's no cleaning and everything else one may need is charged.\"),\n",
        "             Document(content = \"It is very central and appartement has a nice appearance (even though a lot IKEA stuff), *W A R N I N G** the appartement presents itself as a elegant and as a place to relax, very wrong place to relax - you cannot sleep in this appartement, even the beds are vibrating from the bass of the clubs in the same building - you get ear plugs from the hotel -> now I understand why -> I missed a trip as it was so loud and I could not hear the alarm next day due to the ear plugs.- there is a green light indicating 'emergency exit' just above the bed, which shines very bright at night - during the arrival process, you felt the urge of the agent to leave as soon as possible. - try to go to 'RVA clerigos appartements' -> same price, super quiet, beautiful, city center and very nice staff (not an agency)- you are basically sleeping next to the fridge, which makes a lot of noise, when the compressor is running -> had to switch it off - but then had no cool food and drinks. - the bed was somehow broken down - the wooden part behind the bed was almost falling appart and some hooks were broken before- when the neighbour room is cooking you hear the fan very loud. I initially thought that I somehow activated the kitchen fan\"),\n",
        "             Document(content = \"Un peu salé surtout le sol. Manque de service et de souplesse\"),\n",
        "             Document(content = \"De comfort zo centraal voor die prijs.\"),\n",
        "             Document(content = \"Die Lage war sehr Zentral und man konnte alles sehenswertes zu Fuß erreichen. Wer am Wochenende nachts schlafen möchte, sollte diese Unterkunft auf keinen Fall nehmen. Party direkt vor der Tür so das man denkt, man schläft mitten drin. Sehr Sehr laut also und das bis früh 5 Uhr. Ab 7 kommt dann die Straßenreinigung die keineswegs leiser ist.\"),\n",
        "             Document(content = \"Nous avons passé un séjour formidable. Merci aux personnes , le bonjours à Ricardo notre taxi man, très sympathique. Je pense refaire un séjour parmi vous, après le confinement, tout était parfait, surtout leur gentillesse, aucune chaude négative. Je n'ai rien à redire de négative, Ils étaient a notre écoute, un gentil message tout les matins, pour nous demander si nous avions besoins de renseignement et savoir si tout allait bien pendant notre séjour.\"),\n",
        "             Document(content = \"Céntrico. Muy cómodo para moverse y ver Oporto. Edificio con terraza propia en la última planta. Todo reformado y nuevo. Te traen un estupendo desayuno todas las mañanas al apartamento. Solo que se puede escuchar algo de ruido de la calle a primeras horas de la noche. Es un zona de ocio nocturno. Pero respetan los horarios.\")\n",
        "]\n",
        "\n",
        "fr_document_store = InMemoryDocumentStore()\n",
        "en_document_store = InMemoryDocumentStore()\n",
        "de_document_store = InMemoryDocumentStore()\n",
        "es_document_store = InMemoryDocumentStore()\n",
        "nl_document_store = InMemoryDocumentStore()\n",
        "\n",
        "\n",
        "language_classifier = DocumentLanguageClassifier(languages = [\"en\", \"fr\", \"de\", \"es\", \"nl\"])\n",
        "router_rules = {\n",
        "                \"en\": {\"language\": {\"$eq\": \"en\"}},\n",
        "                \"fr\": {\"language\": {\"$eq\": \"fr\"}},\n",
        "                \"de\": {\"language\": {\"$eq\": \"de\"}},\n",
        "                \"es\": {\"language\": {\"$eq\": \"es\"}},\n",
        "                \"nl\": {\"language\": {\"$eq\": \"nl\"}}\n",
        "                }\n",
        "router = MetadataRouter(rules=router_rules)\n",
        "\n",
        "fr_writer = DocumentWriter(document_store = fr_document_store)\n",
        "en_writer = DocumentWriter(document_store = en_document_store)\n",
        "de_writer = DocumentWriter(document_store = de_document_store)\n",
        "es_writer = DocumentWriter(document_store = es_document_store)\n",
        "nl_writer = DocumentWriter(document_store = nl_document_store)\n",
        "\n",
        "indexing_pipeline = Pipeline()\n",
        "indexing_pipeline.add_component(instance=language_classifier, name=\"language_classifier\")\n",
        "indexing_pipeline.add_component(instance=router, name=\"router\")\n",
        "indexing_pipeline.add_component(instance=fr_writer, name=\"fr_writer\")\n",
        "indexing_pipeline.add_component(instance=en_writer, name=\"en_writer\")\n",
        "indexing_pipeline.add_component(instance=de_writer, name=\"de_writer\")\n",
        "indexing_pipeline.add_component(instance=es_writer, name=\"es_writer\")\n",
        "indexing_pipeline.add_component(instance=nl_writer, name=\"nl_writer\")\n",
        "\n",
        "\n",
        "indexing_pipeline.connect(\"language_classifier\", \"router\")\n",
        "indexing_pipeline.connect(\"router.en\", \"en_writer\")\n",
        "indexing_pipeline.connect(\"router.fr\", \"fr_writer\")\n",
        "indexing_pipeline.connect(\"router.de\", \"de_writer\")\n",
        "indexing_pipeline.connect(\"router.es\", \"es_writer\")\n",
        "indexing_pipeline.connect(\"router.nl\", \"nl_writer\")"
      ],
      "metadata": {
        "id": "BdvO_fEfcVAY"
      },
      "execution_count": 2,
      "outputs": []
    },
    {
      "cell_type": "code",
      "source": [
        "indexing_pipeline.run(data={\"language_classifier\": {\"documents\": documents}})"
      ],
      "metadata": {
        "id": "lE5XE8cPXN5-",
        "colab": {
          "base_uri": "https://localhost:8080/"
        },
        "outputId": "3234194d-ecc9-45f6-bc22-e3468199ec30"
      },
      "execution_count": 3,
      "outputs": [
        {
          "output_type": "execute_result",
          "data": {
            "text/plain": [
              "{'router': {'unmatched': []},\n",
              " 'en_writer': {'documents_written': 2},\n",
              " 'fr_writer': {'documents_written': 3},\n",
              " 'de_writer': {'documents_written': 3},\n",
              " 'es_writer': {'documents_written': 2},\n",
              " 'nl_writer': {'documents_written': 1}}"
            ]
          },
          "metadata": {},
          "execution_count": 3
        }
      ]
    },
    {
      "cell_type": "markdown",
      "source": [
        "## Check the Contents of Your Document Stores\n",
        "\n",
        "You can check the contents of your document stores 👇"
      ],
      "metadata": {
        "id": "R-Q2SxDnu3v-"
      }
    },
    {
      "cell_type": "code",
      "source": [
        "len(documents)"
      ],
      "metadata": {
        "colab": {
          "base_uri": "https://localhost:8080/"
        },
        "id": "MLbV4uefstNE",
        "outputId": "9420fa3b-242d-4b1a-e10c-48cb5ca69e7a"
      },
      "execution_count": 10,
      "outputs": [
        {
          "output_type": "execute_result",
          "data": {
            "text/plain": [
              "11"
            ]
          },
          "metadata": {},
          "execution_count": 10
        }
      ]
    },
    {
      "cell_type": "code",
      "source": [
        "en_document_store.filter_documents()"
      ],
      "metadata": {
        "id": "LNHzxz52uxZV",
        "colab": {
          "base_uri": "https://localhost:8080/"
        },
        "outputId": "5e116e45-b116-41cb-c466-ffc4d9875bd8"
      },
      "execution_count": 4,
      "outputs": [
        {
          "output_type": "execute_result",
          "data": {
            "text/plain": [
              "[Document(id=8f64ab234c6a5d5652d02bed144d069ec6e988903b071d16fffbf400abfc1047, content: 'The keypad with a code is convenient and the location is convenient. Basically everything else, very...', meta: {'language': 'en'}),\n",
              " Document(id=d4d878288efba5e28a43ae0195e43dadd0298fe36d3d9b3075c5c5120d27763e, content: 'It is very central and appartement has a nice appearance (even though a lot IKEA stuff), *W A R N I ...', meta: {'language': 'en'})]"
            ]
          },
          "metadata": {},
          "execution_count": 4
        }
      ]
    },
    {
      "cell_type": "code",
      "source": [
        "fr_document_store.filter_documents()"
      ],
      "metadata": {
        "colab": {
          "base_uri": "https://localhost:8080/"
        },
        "id": "mJInOry6sQZ1",
        "outputId": "bbcd7f8d-3714-49cc-fe26-9f3c21c510e4"
      },
      "execution_count": 5,
      "outputs": [
        {
          "output_type": "execute_result",
          "data": {
            "text/plain": [
              "[Document(id=ea7ea338874232de2d8105a258813f50345db82772e21ad2c4549dbb7adce8a3, content: 'Super appartement. Juste au dessus de plusieurs bars qui ferment très tard. A savoir à l'avance. (Bo...', meta: {'language': 'fr'}),\n",
              " Document(id=6b64c8a60543ee32b81cd39bc8d6e09fae4bff1b22c6ccdcf414db26fa354e7a, content: 'Un peu salé surtout le sol. Manque de service et de souplesse', meta: {'language': 'fr'}),\n",
              " Document(id=b1be23526f19a8af80a190e775bfd05e65878e585529037cb45b47267a4eaa98, content: 'Nous avons passé un séjour formidable. Merci aux personnes , le bonjours à Ricardo notre taxi man, t...', meta: {'language': 'fr'})]"
            ]
          },
          "metadata": {},
          "execution_count": 5
        }
      ]
    },
    {
      "cell_type": "code",
      "source": [
        "de_document_store.filter_documents()"
      ],
      "metadata": {
        "colab": {
          "base_uri": "https://localhost:8080/"
        },
        "id": "XQ6MC0zFsQz-",
        "outputId": "e937e979-5dbb-4599-a829-a759e1c91e2a"
      },
      "execution_count": 6,
      "outputs": [
        {
          "output_type": "execute_result",
          "data": {
            "text/plain": [
              "[Document(id=d565bf734fac0a7e8eebfde8f67ec7f98c485d4b8c3e959249e272dabdbd51a9, content: 'Durchgängig Lärm, weil direkt an der Partymeile; schmutziges Geschirr; unvollständige Küchenausstatt...', meta: {'language': 'de'}),\n",
              " Document(id=3f34d6e83d3ddf1ddf811efe2ad8a506906353a2a7f5bbf8d4e90ef5f173d693, content: 'Das Personal ist sehr zuvorkommend! Über WhatsApp war man im guten Kontakt und konnte alles erfragen...', meta: {'language': 'de'}),\n",
              " Document(id=89a1da2e53f3987f9cd79405223b118b44beff2941d345bce86dd2502398fe72, content: 'Die Lage war sehr Zentral und man konnte alles sehenswertes zu Fuß erreichen. Wer am Wochenende nach...', meta: {'language': 'de'})]"
            ]
          },
          "metadata": {},
          "execution_count": 6
        }
      ]
    },
    {
      "cell_type": "code",
      "source": [
        "es_document_store.filter_documents()"
      ],
      "metadata": {
        "colab": {
          "base_uri": "https://localhost:8080/"
        },
        "id": "Z6rMRxhjsRR-",
        "outputId": "37ed6dd2-689b-4098-9403-1da64690ec21"
      },
      "execution_count": 7,
      "outputs": [
        {
          "output_type": "execute_result",
          "data": {
            "text/plain": [
              "[Document(id=72b094c163b22a660528bc5adbdf0fecf96b4b4d753c1b117f15dba482d2f948, content: 'El apartamento estaba genial y muy céntrico, todo a mano. Al lado de la librería Lello y De la Torre...', meta: {'language': 'es'}),\n",
              " Document(id=4b37b8bdfffccfb3211ea167b4fdc5121ca51fc5f869b4f834e8da473f0d3353, content: 'Céntrico. Muy cómodo para moverse y ver Oporto. Edificio con terraza propia en la última planta. Tod...', meta: {'language': 'es'})]"
            ]
          },
          "metadata": {},
          "execution_count": 7
        }
      ]
    },
    {
      "cell_type": "code",
      "source": [
        "nl_document_store.filter_documents()"
      ],
      "metadata": {
        "colab": {
          "base_uri": "https://localhost:8080/"
        },
        "id": "_7CVOLovsR9t",
        "outputId": "dcf1189f-f874-4e88-ebbc-ccc752a48e28"
      },
      "execution_count": 8,
      "outputs": [
        {
          "output_type": "execute_result",
          "data": {
            "text/plain": [
              "[Document(id=301e7c12f68ff64e23c23841911ad537199d697318ea2f4ca3fb9289b3cec5d0, content: 'De comfort zo centraal voor die prijs.', meta: {'language': 'nl'})]"
            ]
          },
          "metadata": {},
          "execution_count": 8
        }
      ]
    }
  ]
}