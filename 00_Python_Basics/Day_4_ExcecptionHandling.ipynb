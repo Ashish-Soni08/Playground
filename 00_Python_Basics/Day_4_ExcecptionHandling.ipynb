{
  "metadata": {
    "kernelspec": {
      "name": "python",
      "display_name": "Pyolite",
      "language": "python"
    },
    "language_info": {
      "codemirror_mode": {
        "name": "python",
        "version": 3
      },
      "file_extension": ".py",
      "mimetype": "text/x-python",
      "name": "python",
      "nbconvert_exporter": "python",
      "pygments_lexer": "ipython3",
      "version": "3.8"
    },
    "colab": {
      "name": "Day_4_ExcecptionHandling.ipynb",
      "provenance": [],
      "include_colab_link": true
    }
  },
  "nbformat_minor": 0,
  "nbformat": 4,
  "cells": [
    {
      "cell_type": "markdown",
      "metadata": {
        "id": "view-in-github",
        "colab_type": "text"
      },
      "source": [
        "<a href=\"https://colab.research.google.com/github/Ashish-Soni08/100-Days-Of-Code/blob/main/Day_4_ExcecptionHandling.ipynb\" target=\"_parent\"><img src=\"https://colab.research.google.com/assets/colab-badge.svg\" alt=\"Open In Colab\"/></a>"
      ]
    },
    {
      "cell_type": "markdown",
      "source": [
        "<center>\n",
        "    <img src=\"https://cf-courses-data.s3.us.cloud-object-storage.appdomain.cloud/IBMDeveloperSkillsNetwork-PY0101EN-SkillsNetwork/IDSNlogo.png\" width=\"300\" alt=\"cognitiveclass.ai logo\"  />\n",
        "</center>\n"
      ],
      "metadata": {
        "id": "AYOn53DrojFA"
      }
    },
    {
      "cell_type": "markdown",
      "source": [
        "# **Exception Handling**\n",
        "\n",
        "Estimated time needed: **15** minutes\n",
        "\n",
        "## Objectives\n",
        "\n",
        "After completing this lab you will be able to:\n",
        "\n",
        "*   Understand exceptions\n",
        "*   Handle the exceptions\n"
      ],
      "metadata": {
        "id": "qBx9suU3ojFF"
      }
    },
    {
      "cell_type": "markdown",
      "source": [
        "## Table of Contents\n"
      ],
      "metadata": {
        "id": "hG0xJpCPojFG"
      }
    },
    {
      "cell_type": "markdown",
      "source": [
        "*   What is an Exception?\n",
        "*   Exception Handling\n"
      ],
      "metadata": {
        "id": "1wD7EnJbojFG"
      }
    },
    {
      "cell_type": "markdown",
      "source": [
        "***\n"
      ],
      "metadata": {
        "id": "FhFhsQOxojFH"
      }
    },
    {
      "cell_type": "markdown",
      "source": [
        "## What is an Exception?\n"
      ],
      "metadata": {
        "id": "o-HiDLoAojFH"
      }
    },
    {
      "cell_type": "markdown",
      "source": [
        "In this section you will learn about what an exception is and see examples of them.\n"
      ],
      "metadata": {
        "id": "bW3GuACjojFL"
      }
    },
    {
      "cell_type": "markdown",
      "source": [
        "### Definition\n"
      ],
      "metadata": {
        "id": "iPbWm0UcojFM"
      }
    },
    {
      "cell_type": "markdown",
      "source": [
        "An exception is an error that occurs during the execution of code. This error causes the code to raise an exception and if not prepared to handle it will halt the execution of the code.\n"
      ],
      "metadata": {
        "id": "9E-Ja7rgojFN"
      }
    },
    {
      "cell_type": "markdown",
      "source": [
        "### Examples\n"
      ],
      "metadata": {
        "id": "1rc-J_4fojFN"
      }
    },
    {
      "cell_type": "markdown",
      "source": [
        "Run each piece of code and observe the exception raised\n"
      ],
      "metadata": {
        "id": "4CRcIoz1ojFQ"
      }
    },
    {
      "cell_type": "code",
      "source": [
        "1/0"
      ],
      "metadata": {
        "trusted": true,
        "id": "B-g_U_qiojFQ",
        "outputId": "c599072d-b6d9-4e93-e742-417f282c72c0"
      },
      "execution_count": null,
      "outputs": [
        {
          "ename": "<class 'ZeroDivisionError'>",
          "evalue": "division by zero",
          "traceback": [
            "\u001b[0;31m---------------------------------------------------------------------------\u001b[0m",
            "\u001b[0;31mZeroDivisionError\u001b[0m                         Traceback (most recent call last)",
            "Input \u001b[0;32mIn [1]\u001b[0m, in \u001b[0;36m<cell line: 1>\u001b[0;34m()\u001b[0m\n\u001b[0;32m----> 1\u001b[0m \u001b[38;5;241;43m1\u001b[39;49m\u001b[38;5;241;43m/\u001b[39;49m\u001b[38;5;241;43m0\u001b[39;49m\n",
            "\u001b[0;31mZeroDivisionError\u001b[0m: division by zero"
          ],
          "output_type": "error"
        }
      ]
    },
    {
      "cell_type": "markdown",
      "source": [
        "<code>ZeroDivisionError</code> occurs when you try to divide by zero.\n"
      ],
      "metadata": {
        "id": "FNINx8ivojFS"
      }
    },
    {
      "cell_type": "code",
      "source": [
        "y = a + 5"
      ],
      "metadata": {
        "trusted": true,
        "id": "amzIX4FGojFS",
        "outputId": "7cdae92c-c9d5-46e2-dbdd-29bfdc64f5bf"
      },
      "execution_count": null,
      "outputs": [
        {
          "ename": "<class 'NameError'>",
          "evalue": "name 'a' is not defined",
          "traceback": [
            "\u001b[0;31m---------------------------------------------------------------------------\u001b[0m",
            "\u001b[0;31mNameError\u001b[0m                                 Traceback (most recent call last)",
            "Input \u001b[0;32mIn [2]\u001b[0m, in \u001b[0;36m<cell line: 1>\u001b[0;34m()\u001b[0m\n\u001b[0;32m----> 1\u001b[0m y \u001b[38;5;241m=\u001b[39m \u001b[43ma\u001b[49m \u001b[38;5;241m+\u001b[39m \u001b[38;5;241m5\u001b[39m\n",
            "\u001b[0;31mNameError\u001b[0m: name 'a' is not defined"
          ],
          "output_type": "error"
        }
      ]
    },
    {
      "cell_type": "markdown",
      "source": [
        "<code>NameError</code> -- in this case, it means that you tried to use the variable a when it was not defined.\n"
      ],
      "metadata": {
        "id": "FiVoNIGYojFS"
      }
    },
    {
      "cell_type": "code",
      "source": [
        "a = [1, 2, 3]\n",
        "a[10]"
      ],
      "metadata": {
        "trusted": true,
        "id": "y9l-YZbSojFS",
        "outputId": "5881c7dd-dc5d-4657-f4f5-4af68ab2ccd5"
      },
      "execution_count": null,
      "outputs": [
        {
          "ename": "<class 'IndexError'>",
          "evalue": "list index out of range",
          "traceback": [
            "\u001b[0;31m---------------------------------------------------------------------------\u001b[0m",
            "\u001b[0;31mIndexError\u001b[0m                                Traceback (most recent call last)",
            "Input \u001b[0;32mIn [3]\u001b[0m, in \u001b[0;36m<cell line: 2>\u001b[0;34m()\u001b[0m\n\u001b[1;32m      1\u001b[0m a \u001b[38;5;241m=\u001b[39m [\u001b[38;5;241m1\u001b[39m, \u001b[38;5;241m2\u001b[39m, \u001b[38;5;241m3\u001b[39m]\n\u001b[0;32m----> 2\u001b[0m \u001b[43ma\u001b[49m\u001b[43m[\u001b[49m\u001b[38;5;241;43m10\u001b[39;49m\u001b[43m]\u001b[49m\n",
            "\u001b[0;31mIndexError\u001b[0m: list index out of range"
          ],
          "output_type": "error"
        }
      ]
    },
    {
      "cell_type": "markdown",
      "source": [
        "<code>IndexError</code> -- in this case, it occured because you tried to access data from a list using an index that does not exist for this list.\n"
      ],
      "metadata": {
        "id": "ijDToRp8ojFT"
      }
    },
    {
      "cell_type": "markdown",
      "source": [
        "There are many more exceptions that are built into Python, here is a list of them [https://docs.python.org/3/library/exceptions.html](https://docs.python.org/3/library/exceptions.html?utm_medium=Exinfluencer&utm_source=Exinfluencer&utm_content=000026UJ&utm_term=10006555&utm_id=NA-SkillsNetwork-Channel-SkillsNetworkCoursesIBMDeveloperSkillsNetworkPY0101ENSkillsNetwork19487395-2021-01-01)\n"
      ],
      "metadata": {
        "id": "S1HUAu46ojFT"
      }
    },
    {
      "cell_type": "markdown",
      "source": [
        "## Exception Handling\n"
      ],
      "metadata": {
        "id": "TQ4RBUXaojFT"
      }
    },
    {
      "cell_type": "markdown",
      "source": [
        "In this section you will learn how to handle exceptions. You will understand how to make your program perform specified tasks instead of halting code execution when an exception is encountered.\n"
      ],
      "metadata": {
        "id": "-iYCs7D2ojFT"
      }
    },
    {
      "cell_type": "markdown",
      "source": [
        "### Try Except\n"
      ],
      "metadata": {
        "id": "FRLBplnmojFU"
      }
    },
    {
      "cell_type": "markdown",
      "source": [
        "A <code>try except</code> will allow you to execute code that might raise an exception and in the case of any exception or a specific one we can handle or catch the exception and execute specific code. This will allow us to continue the execution of our program even if there is an exception.\n",
        "\n",
        "Python tries to execute the code in the <code>try</code> block. In this case if there is any exception raised by the code in the <code>try</code> block, it will be caught and the code block in the <code>except</code> block will be executed. After that, the code that comes <em>after</em> the try except will be executed.\n"
      ],
      "metadata": {
        "id": "Io85ap7AojFU"
      }
    },
    {
      "cell_type": "code",
      "source": [
        "# potential code before try catch\n",
        "\n",
        "try:\n",
        "    # code to try to execute\n",
        "except:\n",
        "    # code to execute if there is an exception\n",
        "    \n",
        "# code that will still execute if there is an exception"
      ],
      "metadata": {
        "trusted": true,
        "id": "9uZPXqgQojFU",
        "outputId": "0efa2485-d437-49ec-ee9f-f049ff01151c"
      },
      "execution_count": null,
      "outputs": [
        {
          "ename": "<class 'IndentationError'>",
          "evalue": "expected an indented block after 'try' statement on line 3 (<ipython-input-4-5647baae0eae>, line 5)",
          "traceback": [
            "\u001b[0;36m  Input \u001b[0;32mIn [4]\u001b[0;36m\u001b[0m\n\u001b[0;31m    except:\u001b[0m\n\u001b[0m    ^\u001b[0m\n\u001b[0;31mIndentationError\u001b[0m\u001b[0;31m:\u001b[0m expected an indented block after 'try' statement on line 3\n"
          ],
          "output_type": "error"
        }
      ]
    },
    {
      "cell_type": "markdown",
      "source": [
        "### Try Except Example\n"
      ],
      "metadata": {
        "id": "mpFKuPaEojFU"
      }
    },
    {
      "cell_type": "markdown",
      "source": [
        "In this example we are trying to divide a number given by the user, save the outcome in the variable <code>a</code>, and then we would like to print the result of the operation. When taking user input and dividing a number by it there are a couple of exceptions that can be raised. For example if we divide by zero. Try running the following block of code with <code>b</code> as a number. An exception will only be raised if <code>b</code> is zero.\n"
      ],
      "metadata": {
        "id": "6xcudRP0ojFW"
      }
    },
    {
      "cell_type": "code",
      "source": [
        "a = 1\n",
        "\n",
        "try:\n",
        "    b = int(input(\"Please enter a number to divide a\"))\n",
        "    a = a/b\n",
        "    print(\"Success a=\",a)\n",
        "except:\n",
        "    print(\"There was an error\")"
      ],
      "metadata": {
        "trusted": true,
        "id": "DyRzRPnzojFW",
        "outputId": "c6e52895-29a5-49f9-85ad-1c78aaa92be6"
      },
      "execution_count": null,
      "outputs": [
        {
          "name": "stdout",
          "text": "There was an error\n",
          "output_type": "stream"
        },
        {
          "output_type": "stream",
          "name": "stdin",
          "text": "Please enter a number to divide a 44\n"
        }
      ]
    },
    {
      "cell_type": "markdown",
      "source": [
        "### Try Except Specific\n"
      ],
      "metadata": {
        "id": "JYX9a_ytojFX"
      }
    },
    {
      "cell_type": "markdown",
      "source": [
        "A specific <code>try except</code> allows you to catch certain exceptions and also execute certain code depending on the exception. This is useful if you do not want to deal with some exceptions and the execution should halt. It can also help you find errors in your code that you might not be aware of. Furthermore, it can help you differentiate responses to different exceptions. In this case, the code after the try except might not run depending on the error.\n"
      ],
      "metadata": {
        "id": "lM8YJvw3ojFX"
      }
    },
    {
      "cell_type": "markdown",
      "source": [
        "<b>Do not run, just to illustrate:</b>\n"
      ],
      "metadata": {
        "id": "7cEqKyIgojFY"
      }
    },
    {
      "cell_type": "code",
      "source": [
        "# potential code before try catch\n",
        "\n",
        "try:\n",
        "    # code to try to execute\n",
        "except (ZeroDivisionError, NameError):\n",
        "    # code to execute if there is an exception of the given types\n",
        "    \n",
        "# code that will execute if there is no exception or a one that we are handling"
      ],
      "metadata": {
        "id": "sZQeyjblojFY"
      },
      "execution_count": null,
      "outputs": []
    },
    {
      "cell_type": "code",
      "source": [
        "# potential code before try catch\n",
        "\n",
        "try:\n",
        "    # code to try to execute\n",
        "except ZeroDivisionError:\n",
        "    # code to execute if there is a ZeroDivisionError\n",
        "except NameError:\n",
        "    # code to execute if there is a NameError\n",
        "    \n",
        "# code that will execute if there is no exception or a one that we are handling"
      ],
      "metadata": {
        "id": "3sH8xi2oojFd"
      },
      "execution_count": null,
      "outputs": []
    },
    {
      "cell_type": "markdown",
      "source": [
        "You can also have an empty <code>except</code> at the end to catch an unexpected exception:\n"
      ],
      "metadata": {
        "id": "5robaNuAojFg"
      }
    },
    {
      "cell_type": "markdown",
      "source": [
        "<b>Do not run, just to illustrate:</b>\n"
      ],
      "metadata": {
        "id": "78RK1MiGojFg"
      }
    },
    {
      "cell_type": "code",
      "source": [
        "# potential code before try catch\n",
        "\n",
        "try:\n",
        "    # code to try to execute\n",
        "except ZeroDivisionError:\n",
        "    # code to execute if there is a ZeroDivisionError\n",
        "except NameError:\n",
        "    # code to execute if there is a NameError\n",
        "except:\n",
        "    # code to execute if ther is any exception\n",
        "    \n",
        "# code that will execute if there is no exception or a one that we are handling"
      ],
      "metadata": {
        "id": "ISd1Gvu-ojFg"
      },
      "execution_count": null,
      "outputs": []
    },
    {
      "cell_type": "markdown",
      "source": [
        "### Try Except Specific Example\n"
      ],
      "metadata": {
        "id": "KRTKSmTeojFh"
      }
    },
    {
      "cell_type": "markdown",
      "source": [
        "This is the same example as above, but now we will add differentiated messages depending on the exception, letting the user know what is wrong with the input.\n"
      ],
      "metadata": {
        "id": "AXkxz_QZojFh"
      }
    },
    {
      "cell_type": "code",
      "source": [
        "a = 1\n",
        "\n",
        "try:\n",
        "    b = int(input(\"Please enter a number to divide a\"))\n",
        "    a = a/b\n",
        "    print(\"Success a=\",a)\n",
        "except ZeroDivisionError:\n",
        "    print(\"The number you provided cant divide 1 because it is 0\")\n",
        "except ValueError:\n",
        "    print(\"You did not provide a number\")\n",
        "except:\n",
        "    print(\"Something went wrong\")\n",
        "        \n"
      ],
      "metadata": {
        "trusted": true,
        "id": "ZildpR6UojFh",
        "outputId": "490f454c-ab54-4664-d989-23e54aaa1ae9"
      },
      "execution_count": null,
      "outputs": [
        {
          "name": "stdout",
          "text": "Something went wrong\n",
          "output_type": "stream"
        }
      ]
    },
    {
      "cell_type": "markdown",
      "source": [
        "### Try Except Else and Finally\n"
      ],
      "metadata": {
        "id": "WnJWA74SojFh"
      }
    },
    {
      "cell_type": "markdown",
      "source": [
        "<code>else</code> allows one to check if there was no exception when executing the try block. This is useful when we want to execute something only if there were no errors.\n"
      ],
      "metadata": {
        "id": "NpmQ0AkuojFh"
      }
    },
    {
      "cell_type": "markdown",
      "source": [
        "<b>do not run, just to illustrate</b>\n"
      ],
      "metadata": {
        "id": "7P_MNsKgojFi"
      }
    },
    {
      "cell_type": "code",
      "source": [
        "# potential code before try catch\n",
        "\n",
        "try:\n",
        "    # code to try to execute\n",
        "except ZeroDivisionError:\n",
        "    # code to execute if there is a ZeroDivisionError\n",
        "except NameError:\n",
        "    # code to execute if there is a NameError\n",
        "except:\n",
        "    # code to execute if ther is any exception\n",
        "else:\n",
        "    # code to execute if there is no exception\n",
        "    \n",
        "# code that will execute if there is no exception or a one that we are handling"
      ],
      "metadata": {
        "id": "HpyEqOIpojFi"
      },
      "execution_count": null,
      "outputs": []
    },
    {
      "cell_type": "markdown",
      "source": [
        "<code>finally</code> allows us to always execute something even if there is an exception or not. This is usually used to signify the end of the try except.\n"
      ],
      "metadata": {
        "id": "ySp2wD3rojFi"
      }
    },
    {
      "cell_type": "code",
      "source": [
        "# potential code before try catch\n",
        "\n",
        "try:\n",
        "    # code to try to execute\n",
        "except ZeroDivisionError:\n",
        "    # code to execute if there is a ZeroDivisionError\n",
        "except NameError:\n",
        "    # code to execute if there is a NameError\n",
        "except:\n",
        "    # code to execute if ther is any exception\n",
        "else:\n",
        "    # code to execute if there is no exception\n",
        "finally:\n",
        "    # code to execute at the end of the try except no matter what\n",
        "    \n",
        "# code that will execute if there is no exception or a one that we are handling"
      ],
      "metadata": {
        "id": "z0KHY-5dojFi"
      },
      "execution_count": null,
      "outputs": []
    },
    {
      "cell_type": "markdown",
      "source": [
        "### Try Except Else and Finally Example\n"
      ],
      "metadata": {
        "id": "QTuh9JCOojFj"
      }
    },
    {
      "cell_type": "markdown",
      "source": [
        "You might have noticed that even if there is an error the value of <code>a</code> is always printed. Let's use the <code>else</code> and print the value of <code>a</code> only if there is no error.\n"
      ],
      "metadata": {
        "id": "iwP_AK5JojFj"
      }
    },
    {
      "cell_type": "code",
      "source": [
        "a = 1\n",
        "\n",
        "try:\n",
        "    b = int(input(\"Please enter a number to divide a\"))\n",
        "    a = a/b\n",
        "except ZeroDivisionError:\n",
        "    print(\"The number you provided cant divide 1 because it is 0\")\n",
        "except ValueError:\n",
        "    print(\"You did not provide a number\")\n",
        "except:\n",
        "    print(\"Something went wrong\")\n",
        "else:\n",
        "    print(\"success a=\",a)"
      ],
      "metadata": {
        "id": "xYiawdEXojFj"
      },
      "execution_count": null,
      "outputs": []
    },
    {
      "cell_type": "markdown",
      "source": [
        "Now lets let the user know that we are done processing their answer. Using the <code>finally</code>, let's add a print.\n"
      ],
      "metadata": {
        "id": "QeaBwoe0ojFj"
      }
    },
    {
      "cell_type": "code",
      "source": [
        "a = 1\n",
        "\n",
        "try:\n",
        "    b = int(input(\"Please enter a number to divide a\"))\n",
        "    a = a/b\n",
        "except ZeroDivisionError:\n",
        "    print(\"The number you provided cant divide 1 because it is 0\")\n",
        "except ValueError:\n",
        "    print(\"You did not provide a number\")\n",
        "except:\n",
        "    print(\"Something went wrong\")\n",
        "else:\n",
        "    print(\"success a=\",a)\n",
        "finally:\n",
        "    print(\"Processing Complete\")"
      ],
      "metadata": {
        "id": "Zwp95m5jojFj"
      },
      "execution_count": null,
      "outputs": []
    },
    {
      "cell_type": "markdown",
      "source": [
        "## Authors\n"
      ],
      "metadata": {
        "id": "hOMXLcS_ojFk"
      }
    },
    {
      "cell_type": "markdown",
      "source": [
        "<a href=\"https://www.linkedin.com/in/joseph-s-50398b136/?utm_medium=Exinfluencer&utm_source=Exinfluencer&utm_content=000026UJ&utm_term=10006555&utm_id=NA-SkillsNetwork-Channel-SkillsNetworkCoursesIBMDeveloperSkillsNetworkPY0101ENSkillsNetwork19487395-2021-01-01\" target=\"_blank\">Joseph Santarcangelo</a>\n"
      ],
      "metadata": {
        "id": "kzjg-V4zojFk"
      }
    },
    {
      "cell_type": "markdown",
      "source": [
        "## Change Log\n",
        "\n",
        "| Date (YYYY-MM-DD) | Version | Changed By | Change Description           |\n",
        "| ----------------- | ------- | ---------- | ---------------------------- |\n",
        "| 2020-09-02        | 2.0     | Simran     | Template updates to the file |\n",
        "|                   |         |            |                              |\n",
        "|                   |         |            |                              |\n",
        "\n",
        "## <h3 align=\"center\"> © IBM Corporation 2020. All rights reserved. <h3/>\n"
      ],
      "metadata": {
        "id": "vA148vVsojFk"
      }
    }
  ]
}