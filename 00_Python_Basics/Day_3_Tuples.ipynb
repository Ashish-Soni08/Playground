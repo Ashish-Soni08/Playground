{
  "metadata": {
    "kernelspec": {
      "name": "python",
      "display_name": "Pyolite",
      "language": "python"
    },
    "language_info": {
      "codemirror_mode": {
        "name": "python",
        "version": 3
      },
      "file_extension": ".py",
      "mimetype": "text/x-python",
      "name": "python",
      "nbconvert_exporter": "python",
      "pygments_lexer": "ipython3",
      "version": "3.8"
    },
    "colab": {
      "name": "Day_3_Tuples.ipynb",
      "provenance": [],
      "include_colab_link": true
    }
  },
  "nbformat_minor": 0,
  "nbformat": 4,
  "cells": [
    {
      "cell_type": "markdown",
      "metadata": {
        "id": "view-in-github",
        "colab_type": "text"
      },
      "source": [
        "<a href=\"https://colab.research.google.com/github/Ashish-Soni08/100-Days-Of-Code/blob/main/Day_3_Tuples.ipynb\" target=\"_parent\"><img src=\"https://colab.research.google.com/assets/colab-badge.svg\" alt=\"Open In Colab\"/></a>"
      ]
    },
    {
      "cell_type": "markdown",
      "source": [
        "<center>\n",
        "    <img src=\"https://cf-courses-data.s3.us.cloud-object-storage.appdomain.cloud/IBMDeveloperSkillsNetwork-PY0101EN-SkillsNetwork/IDSNlogo.png\" width=\"300\" alt=\"cognitiveclass.ai logo\"  />\n",
        "</center>\n",
        "\n",
        "# Tuples in Python\n",
        "\n",
        "Estimated time needed: **15** minutes\n",
        "\n",
        "## Objectives\n",
        "\n",
        "After completing this lab you will be able to:\n",
        "\n",
        "*   Perform the basics tuple operations in Python, including indexing, slicing and sorting\n"
      ],
      "metadata": {
        "id": "9IrlfsA8wkNG"
      }
    },
    {
      "cell_type": "markdown",
      "source": [
        "<h2>Table of Contents</h2>\n",
        "<div class=\"alert alert-block alert-info\" style=\"margin-top: 20px\">\n",
        "    <ul>\n",
        "        <li>\n",
        "            <a href=\"https://#dataset\">About the Dataset</a>\n",
        "        </li>\n",
        "        <li>\n",
        "            <a href=\"https://#tuple\">Tuples</a>\n",
        "            <ul>\n",
        "                <li><a href=\"https://index/?utm_medium=Exinfluencer&utm_source=Exinfluencer&utm_content=000026UJ&utm_term=10006555&utm_id=NA-SkillsNetwork-Channel-SkillsNetworkCoursesIBMDeveloperSkillsNetworkPY0101ENSkillsNetwork19487395-2021-01-01\">Indexing</a></li>\n",
        "                <li><a href=\"https://slice/?utm_medium=Exinfluencer&utm_source=Exinfluencer&utm_content=000026UJ&utm_term=10006555&utm_id=NA-SkillsNetwork-Channel-SkillsNetworkCoursesIBMDeveloperSkillsNetworkPY0101ENSkillsNetwork19487395-2021-01-01\">Slicing</a></li>\n",
        "                <li><a href=\"https://sort/?utm_medium=Exinfluencer&utm_source=Exinfluencer&utm_content=000026UJ&utm_term=10006555&utm_id=NA-SkillsNetwork-Channel-SkillsNetworkCoursesIBMDeveloperSkillsNetworkPY0101ENSkillsNetwork19487395-2021-01-01\">Sorting</a></li>\n",
        "            </ul>\n",
        "        </li>\n",
        "        <li>\n",
        "            <a href=\"https://#escape\">Quiz on Tuples</a>\n",
        "        </li>\n",
        "    </ul>\n",
        "\n",
        "</div>\n",
        "\n",
        "<hr>\n"
      ],
      "metadata": {
        "id": "C411eiG5wkNJ"
      }
    },
    {
      "cell_type": "markdown",
      "source": [
        "<h2 id=\"dataset\">About the Dataset</h2>\n"
      ],
      "metadata": {
        "id": "xdMWPhewwkNL"
      }
    },
    {
      "cell_type": "markdown",
      "source": [
        "Imagine you received album recommendations from your friends and compiled all of the recommendations into a table, with specific information about each album.\n",
        "\n",
        "The table has one row for each movie and several columns:\n",
        "\n",
        "*   **artist** - Name of the artist\n",
        "*   **album** - Name of the album\n",
        "*   **released_year** - Year the album was released\n",
        "*   **length_min_sec** - Length of the album (hours,minutes,seconds)\n",
        "*   **genre** - Genre of the album\n",
        "*   **music_recording_sales_millions** - Music recording sales (millions in USD) on [SONG://DATABASE](http://www.song-database.com/?utm_medium=Exinfluencer&utm_source=Exinfluencer&utm_content=000026UJ&utm_term=10006555&utm_id=NA-SkillsNetwork-Channel-SkillsNetworkCoursesIBMDeveloperSkillsNetworkPY0101ENSkillsNetwork19487395-2021-01-01)\n",
        "*   **claimed_sales_millions** - Album's claimed sales (millions in USD) on [SONG://DATABASE](http://www.song-database.com/?utm_medium=Exinfluencer&utm_source=Exinfluencer&utm_content=000026UJ&utm_term=10006555&utm_id=NA-SkillsNetwork-Channel-SkillsNetworkCoursesIBMDeveloperSkillsNetworkPY0101ENSkillsNetwork19487395-2021-01-01)\n",
        "*   **date_released** - Date on which the album was released\n",
        "*   **soundtrack** - Indicates if the album is the movie soundtrack (Y) or (N)\n",
        "*   **rating_of_friends** - Indicates the rating from your friends from 1 to 10\n",
        "\n",
        "<br>\n",
        "<br>\n",
        "\n",
        "The dataset can be seen below:\n",
        "\n",
        "<font size=\"1\">\n",
        "<table font-size:xx-small>\n",
        "  <tr>\n",
        "    <th>Artist</th>\n",
        "    <th>Album</th> \n",
        "    <th>Released</th>\n",
        "    <th>Length</th>\n",
        "    <th>Genre</th> \n",
        "    <th>Music recording sales (millions)</th>\n",
        "    <th>Claimed sales (millions)</th>\n",
        "    <th>Released</th>\n",
        "    <th>Soundtrack</th>\n",
        "    <th>Rating (friends)</th>\n",
        "  </tr>\n",
        "  <tr>\n",
        "    <td>Michael Jackson</td>\n",
        "    <td>Thriller</td> \n",
        "    <td>1982</td>\n",
        "    <td>00:42:19</td>\n",
        "    <td>Pop, rock, R&B</td>\n",
        "    <td>46</td>\n",
        "    <td>65</td>\n",
        "    <td>30-Nov-82</td>\n",
        "    <td></td>\n",
        "    <td>10.0</td>\n",
        "  </tr>\n",
        "  <tr>\n",
        "    <td>AC/DC</td>\n",
        "    <td>Back in Black</td> \n",
        "    <td>1980</td>\n",
        "    <td>00:42:11</td>\n",
        "    <td>Hard rock</td>\n",
        "    <td>26.1</td>\n",
        "    <td>50</td>\n",
        "    <td>25-Jul-80</td>\n",
        "    <td></td>\n",
        "    <td>8.5</td>\n",
        "  </tr>\n",
        "    <tr>\n",
        "    <td>Pink Floyd</td>\n",
        "    <td>The Dark Side of the Moon</td> \n",
        "    <td>1973</td>\n",
        "    <td>00:42:49</td>\n",
        "    <td>Progressive rock</td>\n",
        "    <td>24.2</td>\n",
        "    <td>45</td>\n",
        "    <td>01-Mar-73</td>\n",
        "    <td></td>\n",
        "    <td>9.5</td>\n",
        "  </tr>\n",
        "    <tr>\n",
        "    <td>Whitney Houston</td>\n",
        "    <td>The Bodyguard</td> \n",
        "    <td>1992</td>\n",
        "    <td>00:57:44</td>\n",
        "    <td>Soundtrack/R&B, soul, pop</td>\n",
        "    <td>26.1</td>\n",
        "    <td>50</td>\n",
        "    <td>25-Jul-80</td>\n",
        "    <td>Y</td>\n",
        "    <td>7.0</td>\n",
        "  </tr>\n",
        "    <tr>\n",
        "    <td>Meat Loaf</td>\n",
        "    <td>Bat Out of Hell</td> \n",
        "    <td>1977</td>\n",
        "    <td>00:46:33</td>\n",
        "    <td>Hard rock, progressive rock</td>\n",
        "    <td>20.6</td>\n",
        "    <td>43</td>\n",
        "    <td>21-Oct-77</td>\n",
        "    <td></td>\n",
        "    <td>7.0</td>\n",
        "  </tr>\n",
        "    <tr>\n",
        "    <td>Eagles</td>\n",
        "    <td>Their Greatest Hits (1971-1975)</td> \n",
        "    <td>1976</td>\n",
        "    <td>00:43:08</td>\n",
        "    <td>Rock, soft rock, folk rock</td>\n",
        "    <td>32.2</td>\n",
        "    <td>42</td>\n",
        "    <td>17-Feb-76</td>\n",
        "    <td></td>\n",
        "    <td>9.5</td>\n",
        "  </tr>\n",
        "    <tr>\n",
        "    <td>Bee Gees</td>\n",
        "    <td>Saturday Night Fever</td> \n",
        "    <td>1977</td>\n",
        "    <td>1:15:54</td>\n",
        "    <td>Disco</td>\n",
        "    <td>20.6</td>\n",
        "    <td>40</td>\n",
        "    <td>15-Nov-77</td>\n",
        "    <td>Y</td>\n",
        "    <td>9.0</td>\n",
        "  </tr>\n",
        "    <tr>\n",
        "    <td>Fleetwood Mac</td>\n",
        "    <td>Rumours</td> \n",
        "    <td>1977</td>\n",
        "    <td>00:40:01</td>\n",
        "    <td>Soft rock</td>\n",
        "    <td>27.9</td>\n",
        "    <td>40</td>\n",
        "    <td>04-Feb-77</td>\n",
        "    <td></td>\n",
        "    <td>9.5</td>\n",
        "  </tr>\n",
        "</table></font>\n"
      ],
      "metadata": {
        "id": "GxM24jwcwkNM"
      }
    },
    {
      "cell_type": "markdown",
      "source": [
        "<hr>\n"
      ],
      "metadata": {
        "id": "1b7Shsj9wkNO"
      }
    },
    {
      "cell_type": "markdown",
      "source": [
        "<h2 id=\"tuple\">Tuples</h2>\n"
      ],
      "metadata": {
        "id": "dz9QvlR2wkNO"
      }
    },
    {
      "cell_type": "markdown",
      "source": [
        "In Python, there are different data types: string, integer, and float. These data types can all be contained in a tuple as follows:\n"
      ],
      "metadata": {
        "id": "8A_oFgTLwkNP"
      }
    },
    {
      "cell_type": "markdown",
      "source": [
        "<img src=\"https://cf-courses-data.s3.us.cloud-object-storage.appdomain.cloud/IBMDeveloperSkillsNetwork-PY0101EN-SkillsNetwork/labs/Module%202/images/TuplesType.png\" width=\"750\" align=\"center\" />\n"
      ],
      "metadata": {
        "id": "oGhQTqZTwkNP"
      }
    },
    {
      "cell_type": "markdown",
      "source": [
        "Now, let us create your first tuple with string, integer and float.\n"
      ],
      "metadata": {
        "id": "WfEK00wPwkNP"
      }
    },
    {
      "cell_type": "code",
      "source": [
        "# Create your first tuple\n",
        "\n",
        "tuple1 = (\"disco\",10,1.2 )\n",
        "tuple1"
      ],
      "metadata": {
        "trusted": true,
        "id": "IzuO0b4iwkNQ",
        "outputId": "e8761c1e-8738-4097-e002-732cb72814c1"
      },
      "execution_count": null,
      "outputs": [
        {
          "execution_count": 1,
          "output_type": "execute_result",
          "data": {
            "text/plain": "('disco', 10, 1.2)"
          },
          "metadata": {}
        }
      ]
    },
    {
      "cell_type": "markdown",
      "source": [
        "The type of variable is a **tuple**.\n"
      ],
      "metadata": {
        "id": "QRQku4AxwkNR"
      }
    },
    {
      "cell_type": "code",
      "source": [
        "# Print the type of the tuple you created\n",
        "\n",
        "type(tuple1)"
      ],
      "metadata": {
        "trusted": true,
        "id": "AHAoIiBRwkNR",
        "outputId": "720a7dd8-bc63-40fa-972a-d8fc0f2f19df"
      },
      "execution_count": null,
      "outputs": [
        {
          "execution_count": 2,
          "output_type": "execute_result",
          "data": {
            "text/plain": "tuple"
          },
          "metadata": {}
        }
      ]
    },
    {
      "cell_type": "markdown",
      "source": [
        "<h3 id=\"index\">Indexing</h3>\n"
      ],
      "metadata": {
        "id": "Pqwb9dKDwkNS"
      }
    },
    {
      "cell_type": "markdown",
      "source": [
        "Each element of a tuple can be accessed via an index. The following table represents the relationship between the index and the items in the tuple. Each element can be obtained by the name of the tuple followed by a square bracket with the index number:\n"
      ],
      "metadata": {
        "id": "KB_pP9aBwkNS"
      }
    },
    {
      "cell_type": "markdown",
      "source": [
        "<img src=\"https://cf-courses-data.s3.us.cloud-object-storage.appdomain.cloud/IBMDeveloperSkillsNetwork-PY0101EN-SkillsNetwork/labs/Module%202/images/TuplesIndex.gif\" width=\"750\" align=\"center\">\n"
      ],
      "metadata": {
        "id": "oVsW51a8wkNS"
      }
    },
    {
      "cell_type": "markdown",
      "source": [
        "We can print out each value in the tuple:\n"
      ],
      "metadata": {
        "id": "Srjm75YvwkNS"
      }
    },
    {
      "cell_type": "code",
      "source": [
        "# Print the variable on each index\n",
        "\n",
        "print(tuple1[0])\n",
        "print(tuple1[1])\n",
        "print(tuple1[2])"
      ],
      "metadata": {
        "trusted": true,
        "id": "DY3Dil5pwkNS",
        "outputId": "e2dd2591-7aa6-48aa-a5a8-adaaa94217df"
      },
      "execution_count": null,
      "outputs": [
        {
          "name": "stdout",
          "text": "disco\n10\n1.2\n",
          "output_type": "stream"
        }
      ]
    },
    {
      "cell_type": "markdown",
      "source": [
        "We can print out the **type** of each value in the tuple:\n"
      ],
      "metadata": {
        "id": "qIbOIUv4wkNT"
      }
    },
    {
      "cell_type": "code",
      "source": [
        "# Print the type of value on each index\n",
        "\n",
        "print(type(tuple1[0]))\n",
        "print(type(tuple1[1]))\n",
        "print(type(tuple1[2]))"
      ],
      "metadata": {
        "trusted": true,
        "id": "81UAR4gCwkNT",
        "outputId": "3e7d0deb-921c-450e-c9c7-cfe30f8595e6"
      },
      "execution_count": null,
      "outputs": [
        {
          "name": "stdout",
          "text": "<class 'str'>\n<class 'int'>\n<class 'float'>\n",
          "output_type": "stream"
        }
      ]
    },
    {
      "cell_type": "markdown",
      "source": [
        "We can also use negative indexing. We use the same table above with corresponding negative values:\n"
      ],
      "metadata": {
        "id": "NX45SWabwkNT"
      }
    },
    {
      "cell_type": "markdown",
      "source": [
        "<img src=\"https://cf-courses-data.s3.us.cloud-object-storage.appdomain.cloud/IBMDeveloperSkillsNetwork-PY0101EN-SkillsNetwork/labs/Module%202/images/TuplesNeg.png\" width=\"750\" align=\"center\">\n"
      ],
      "metadata": {
        "id": "ikxQUYJhwkNU"
      }
    },
    {
      "cell_type": "markdown",
      "source": [
        "We can obtain the last element as follows (this time we will not use the print statement to display the values):\n"
      ],
      "metadata": {
        "id": "x6gVFT20wkNU"
      }
    },
    {
      "cell_type": "code",
      "source": [
        "# Use negative index to get the value of the last element\n",
        "\n",
        "tuple1[-1]"
      ],
      "metadata": {
        "trusted": true,
        "id": "XjobL6scwkNU",
        "outputId": "99450e3a-fd7b-477d-9303-e7b129958f37"
      },
      "execution_count": null,
      "outputs": [
        {
          "execution_count": 5,
          "output_type": "execute_result",
          "data": {
            "text/plain": "1.2"
          },
          "metadata": {}
        }
      ]
    },
    {
      "cell_type": "markdown",
      "source": [
        "We can display the next two elements as follows:\n"
      ],
      "metadata": {
        "id": "eWKPMsGSwkNV"
      }
    },
    {
      "cell_type": "code",
      "source": [
        "# Use negative index to get the value of the second last element\n",
        "\n",
        "tuple1[-2]"
      ],
      "metadata": {
        "trusted": true,
        "id": "rfrOgF9_wkNV",
        "outputId": "68c00c8e-d3d9-442b-b401-5da4bbbcb572"
      },
      "execution_count": null,
      "outputs": [
        {
          "execution_count": 6,
          "output_type": "execute_result",
          "data": {
            "text/plain": "10"
          },
          "metadata": {}
        }
      ]
    },
    {
      "cell_type": "code",
      "source": [
        "# Use negative index to get the value of the third last element\n",
        "\n",
        "tuple1[-3]"
      ],
      "metadata": {
        "trusted": true,
        "id": "DZUCZrpnwkNV",
        "outputId": "968ba3ad-7aac-4665-c798-6ba287f97e69"
      },
      "execution_count": null,
      "outputs": [
        {
          "execution_count": 7,
          "output_type": "execute_result",
          "data": {
            "text/plain": "'disco'"
          },
          "metadata": {}
        }
      ]
    },
    {
      "cell_type": "markdown",
      "source": [
        "<h3 id=\"concate\">Concatenate Tuples</h3>\n"
      ],
      "metadata": {
        "id": "tVcIlvK6wkNW"
      }
    },
    {
      "cell_type": "markdown",
      "source": [
        "We can concatenate or combine tuples by using the **+** sign:\n"
      ],
      "metadata": {
        "id": "82Tgw0_AwkNW"
      }
    },
    {
      "cell_type": "code",
      "source": [
        "# Concatenate two tuples\n",
        "\n",
        "tuple2 = tuple1 + (\"hard rock\", 10)\n",
        "tuple2"
      ],
      "metadata": {
        "trusted": true,
        "id": "6QBoV-YswkNW",
        "outputId": "c78b565b-7f73-4cda-dcdc-000a3496eb3c"
      },
      "execution_count": null,
      "outputs": [
        {
          "execution_count": 8,
          "output_type": "execute_result",
          "data": {
            "text/plain": "('disco', 10, 1.2, 'hard rock', 10)"
          },
          "metadata": {}
        }
      ]
    },
    {
      "cell_type": "markdown",
      "source": [
        "We can slice tuples obtaining multiple values as demonstrated by the figure below:\n"
      ],
      "metadata": {
        "id": "XPOJUzCjwkNW"
      }
    },
    {
      "cell_type": "markdown",
      "source": [
        "<img src=\"https://cf-courses-data.s3.us.cloud-object-storage.appdomain.cloud/IBMDeveloperSkillsNetwork-PY0101EN-SkillsNetwork/labs/Module%202/images/TuplesSlice.gif\" width=\"750\" align=\"center\">\n"
      ],
      "metadata": {
        "id": "bsnfBp8SwkNW"
      }
    },
    {
      "cell_type": "markdown",
      "source": [
        "<h3 id=\"slice\">Slicing</h3>\n"
      ],
      "metadata": {
        "id": "nVkM_fFhwkNX"
      }
    },
    {
      "cell_type": "markdown",
      "source": [
        "We can slice tuples, obtaining new tuples with the corresponding elements:\n"
      ],
      "metadata": {
        "id": "Qs27cZY9wkNX"
      }
    },
    {
      "cell_type": "code",
      "source": [
        "# Slice from index 0 to index 2\n",
        "\n",
        "tuple2[0:3]"
      ],
      "metadata": {
        "trusted": true,
        "id": "DPN1WSy1wkNX",
        "outputId": "a0bcbe60-ccd1-448c-d027-2f0f8091996c"
      },
      "execution_count": null,
      "outputs": [
        {
          "execution_count": 9,
          "output_type": "execute_result",
          "data": {
            "text/plain": "('disco', 10, 1.2)"
          },
          "metadata": {}
        }
      ]
    },
    {
      "cell_type": "markdown",
      "source": [
        "We can obtain the last two elements of the tuple:\n"
      ],
      "metadata": {
        "id": "-62m3yptwkNX"
      }
    },
    {
      "cell_type": "code",
      "source": [
        "# Slice from index 3 to index 4\n",
        "\n",
        "tuple2[3:5]"
      ],
      "metadata": {
        "trusted": true,
        "id": "ReAteH7bwkNY",
        "outputId": "b4be8cd0-f2ef-44b1-e9c9-3ddfa4b58d87"
      },
      "execution_count": null,
      "outputs": [
        {
          "execution_count": 10,
          "output_type": "execute_result",
          "data": {
            "text/plain": "('hard rock', 10)"
          },
          "metadata": {}
        }
      ]
    },
    {
      "cell_type": "markdown",
      "source": [
        "We can obtain the length of a tuple using the length command:\n"
      ],
      "metadata": {
        "id": "0SgTizXswkNY"
      }
    },
    {
      "cell_type": "code",
      "source": [
        "# Get the length of tuple\n",
        "\n",
        "len(tuple2)"
      ],
      "metadata": {
        "trusted": true,
        "id": "BtmzqU-cwkNZ",
        "outputId": "00076eab-ccd2-4f2e-f2d6-6bdde53c2b7a"
      },
      "execution_count": null,
      "outputs": [
        {
          "execution_count": 11,
          "output_type": "execute_result",
          "data": {
            "text/plain": "5"
          },
          "metadata": {}
        }
      ]
    },
    {
      "cell_type": "markdown",
      "source": [
        "This figure shows the number of elements:\n"
      ],
      "metadata": {
        "id": "m-DNBcy8wkNZ"
      }
    },
    {
      "cell_type": "markdown",
      "source": [
        "<img src=\"https://cf-courses-data.s3.us.cloud-object-storage.appdomain.cloud/IBMDeveloperSkillsNetwork-PY0101EN-SkillsNetwork/labs/Module%202/images/TuplesElement.png\" width=\"750\" align=\"center\">\n"
      ],
      "metadata": {
        "id": "mKM4kfI6wkNZ"
      }
    },
    {
      "cell_type": "markdown",
      "source": [
        "<h3 id=\"sort\">Sorting</h3>\n"
      ],
      "metadata": {
        "id": "kKRdXDElwkNZ"
      }
    },
    {
      "cell_type": "markdown",
      "source": [
        "Consider the following tuple:\n"
      ],
      "metadata": {
        "id": "clXi48xfwkNZ"
      }
    },
    {
      "cell_type": "code",
      "source": [
        "# A sample tuple\n",
        "\n",
        "Ratings = (0, 9, 6, 5, 10, 8, 9, 6, 2)"
      ],
      "metadata": {
        "tags": [],
        "trusted": true,
        "id": "fDSzBTgjwkNa"
      },
      "execution_count": null,
      "outputs": []
    },
    {
      "cell_type": "markdown",
      "source": [
        "We can sort the values in a tuple and save it to a new tuple:\n"
      ],
      "metadata": {
        "id": "N8Upv-fnwkNa"
      }
    },
    {
      "cell_type": "code",
      "source": [
        "# Sort the tuple\n",
        "\n",
        "RatingsSorted = sorted(Ratings)\n",
        "RatingsSorted"
      ],
      "metadata": {
        "trusted": true,
        "id": "EX2zw_yewkNa",
        "outputId": "3400cbd5-a868-45a6-8517-1a071108e4e9"
      },
      "execution_count": null,
      "outputs": [
        {
          "execution_count": 13,
          "output_type": "execute_result",
          "data": {
            "text/plain": "[0, 2, 5, 6, 6, 8, 9, 9, 10]"
          },
          "metadata": {}
        }
      ]
    },
    {
      "cell_type": "markdown",
      "source": [
        "<h3 id=\"nest\">Nested Tuple</h3>\n"
      ],
      "metadata": {
        "id": "oJ3C1WdUwkNb"
      }
    },
    {
      "cell_type": "markdown",
      "source": [
        "A tuple can contain another tuple as well as other more complex data types. This process is called 'nesting'. Consider the following tuple with several elements:\n"
      ],
      "metadata": {
        "id": "NY3YaTEkwkNc"
      }
    },
    {
      "cell_type": "code",
      "source": [
        "# Create a nest tuple\n",
        "\n",
        "NestedT =(1, 2, (\"pop\", \"rock\") ,(3,4),(\"disco\",(1,2)))"
      ],
      "metadata": {
        "tags": [],
        "trusted": true,
        "id": "UwL5S3VhwkNc"
      },
      "execution_count": null,
      "outputs": []
    },
    {
      "cell_type": "markdown",
      "source": [
        "Each element in the tuple, including other tuples, can be obtained via an index as shown in the figure:\n"
      ],
      "metadata": {
        "id": "2AtacPN1wkNc"
      }
    },
    {
      "cell_type": "markdown",
      "source": [
        "<img src=\"https://cf-courses-data.s3.us.cloud-object-storage.appdomain.cloud/IBMDeveloperSkillsNetwork-PY0101EN-SkillsNetwork/labs/Module%202/images/TuplesNestOne.png\" width=\"750\" align=\"center\">\n"
      ],
      "metadata": {
        "id": "dDTEpZSjwkNc"
      }
    },
    {
      "cell_type": "code",
      "source": [
        "# Print element on each index\n",
        "\n",
        "print(\"Element 0 of Tuple: \", NestedT[0])\n",
        "print(\"Element 1 of Tuple: \", NestedT[1])\n",
        "print(\"Element 2 of Tuple: \", NestedT[2])\n",
        "print(\"Element 3 of Tuple: \", NestedT[3])\n",
        "print(\"Element 4 of Tuple: \", NestedT[4])"
      ],
      "metadata": {
        "trusted": true,
        "id": "sQ1QR6sWwkNd",
        "outputId": "e597a452-e169-4470-f3a1-b6ad42f07d38"
      },
      "execution_count": null,
      "outputs": [
        {
          "name": "stdout",
          "text": "Element 0 of Tuple:  1\nElement 1 of Tuple:  2\nElement 2 of Tuple:  ('pop', 'rock')\nElement 3 of Tuple:  (3, 4)\nElement 4 of Tuple:  ('disco', (1, 2))\n",
          "output_type": "stream"
        }
      ]
    },
    {
      "cell_type": "markdown",
      "source": [
        "We can use the second index to access other tuples as demonstrated in the figure:\n"
      ],
      "metadata": {
        "id": "IFAmQ-rhwkNd"
      }
    },
    {
      "cell_type": "markdown",
      "source": [
        "<img src=\"https://cf-courses-data.s3.us.cloud-object-storage.appdomain.cloud/IBMDeveloperSkillsNetwork-PY0101EN-SkillsNetwork/labs/Module%202/images/TuplesNestTwo.png\" width=\"750\" align=\"center\">\n"
      ],
      "metadata": {
        "id": "GDWYBp4TwkNd"
      }
    },
    {
      "cell_type": "markdown",
      "source": [
        "We can access the nested tuples:\n"
      ],
      "metadata": {
        "id": "fP1cNXp-wkNd"
      }
    },
    {
      "cell_type": "code",
      "source": [
        "# Print element on each index, including nest indexes\n",
        "\n",
        "print(\"Element 2, 0 of Tuple: \",   NestedT[2][0])\n",
        "print(\"Element 2, 1 of Tuple: \",   NestedT[2][1])\n",
        "print(\"Element 3, 0 of Tuple: \",   NestedT[3][0])\n",
        "print(\"Element 3, 1 of Tuple: \",   NestedT[3][1])\n",
        "print(\"Element 4, 0 of Tuple: \",   NestedT[4][0])\n",
        "print(\"Element 4, 1 of Tuple: \",   NestedT[4][1])"
      ],
      "metadata": {
        "trusted": true,
        "id": "B4A-snITwkNd",
        "outputId": "89298232-ac80-49dc-eebe-9993b86a41e9"
      },
      "execution_count": null,
      "outputs": [
        {
          "name": "stdout",
          "text": "Element 2, 0 of Tuple:  pop\nElement 2, 1 of Tuple:  rock\nElement 3, 0 of Tuple:  3\nElement 3, 1 of Tuple:  4\nElement 4, 0 of Tuple:  disco\nElement 4, 1 of Tuple:  (1, 2)\n",
          "output_type": "stream"
        }
      ]
    },
    {
      "cell_type": "markdown",
      "source": [
        "We can access strings in the second nested tuples using a third index:\n"
      ],
      "metadata": {
        "id": "4kra2yx-wkNe"
      }
    },
    {
      "cell_type": "code",
      "source": [
        "# Print the first element in the second nested tuples\n",
        "\n",
        "NestedT[2][1][0]"
      ],
      "metadata": {
        "trusted": true,
        "id": "pHJXIlbhwkNe",
        "outputId": "57c2f742-5611-43b4-f1b7-4d6fca18dc7a"
      },
      "execution_count": null,
      "outputs": [
        {
          "execution_count": 17,
          "output_type": "execute_result",
          "data": {
            "text/plain": "'r'"
          },
          "metadata": {}
        }
      ]
    },
    {
      "cell_type": "code",
      "source": [
        "# Print the second element in the second nested tuples\n",
        "\n",
        "NestedT[2][1][1]"
      ],
      "metadata": {
        "trusted": true,
        "id": "_fN0CNtHwkNe",
        "outputId": "63757b93-8900-4df8-d942-cb9e16f931e0"
      },
      "execution_count": null,
      "outputs": [
        {
          "execution_count": 18,
          "output_type": "execute_result",
          "data": {
            "text/plain": "'o'"
          },
          "metadata": {}
        }
      ]
    },
    {
      "cell_type": "markdown",
      "source": [
        "We can use a tree to visualise the process. Each new index corresponds to a deeper level in the tree:\n"
      ],
      "metadata": {
        "id": "ShDgKA-twkNf"
      }
    },
    {
      "cell_type": "markdown",
      "source": [
        "<img src=\"https://cf-courses-data.s3.us.cloud-object-storage.appdomain.cloud/IBMDeveloperSkillsNetwork-PY0101EN-SkillsNetwork/labs/Module%202/images/TuplesNestThree.gif\" width=\"750\" align=\"center\">\n"
      ],
      "metadata": {
        "id": "3jxO_uduwkNf"
      }
    },
    {
      "cell_type": "markdown",
      "source": [
        "Similarly, we can access elements nested deeper in the tree with a third index:\n"
      ],
      "metadata": {
        "id": "AWqgE7hxwkNf"
      }
    },
    {
      "cell_type": "code",
      "source": [
        "# Print the first element in the second nested tuples\n",
        "\n",
        "NestedT[4][1][0]"
      ],
      "metadata": {
        "trusted": true,
        "id": "5Gr7lZTkwkNf",
        "outputId": "03172ddc-ce30-4c99-db3d-63999a058eba"
      },
      "execution_count": null,
      "outputs": [
        {
          "execution_count": 19,
          "output_type": "execute_result",
          "data": {
            "text/plain": "1"
          },
          "metadata": {}
        }
      ]
    },
    {
      "cell_type": "code",
      "source": [
        "# Print the second element in the second nested tuples\n",
        "\n",
        "NestedT[4][1][1]"
      ],
      "metadata": {
        "trusted": true,
        "id": "y0Vehd-NwkNg",
        "outputId": "6db1072e-9a81-40a8-cbe0-a33b76964057"
      },
      "execution_count": null,
      "outputs": [
        {
          "execution_count": 20,
          "output_type": "execute_result",
          "data": {
            "text/plain": "2"
          },
          "metadata": {}
        }
      ]
    },
    {
      "cell_type": "markdown",
      "source": [
        "The following figure shows the relationship of the tree and the element <code>NestedT\\[4]\\[1]\\[1]</code>:\n"
      ],
      "metadata": {
        "id": "pluNgSHBwkNg"
      }
    },
    {
      "cell_type": "markdown",
      "source": [
        "<img src=\"https://cf-courses-data.s3.us.cloud-object-storage.appdomain.cloud/IBMDeveloperSkillsNetwork-PY0101EN-SkillsNetwork/labs/Module%202/images/TuplesNestFour.gif\" width=\"750\" align=\"center\">\n"
      ],
      "metadata": {
        "id": "2R21O9gewkNg"
      }
    },
    {
      "cell_type": "markdown",
      "source": [
        "<h2 id=\"quiz\">Quiz on Tuples</h2>\n"
      ],
      "metadata": {
        "id": "ej2yzmuwwkNg"
      }
    },
    {
      "cell_type": "markdown",
      "source": [
        "Consider the following tuple:\n"
      ],
      "metadata": {
        "id": "rH3El3jVwkNh"
      }
    },
    {
      "cell_type": "code",
      "source": [
        "# sample tuple\n",
        "\n",
        "genres_tuple = (\"pop\", \"rock\", \"soul\", \"hard rock\", \"soft rock\", \\\n",
        "                \"R&B\", \"progressive rock\", \"disco\") \n",
        "genres_tuple"
      ],
      "metadata": {
        "trusted": true,
        "id": "MzPPMZ5MwkNh",
        "outputId": "572d217a-8479-4882-efc3-a37fad903193"
      },
      "execution_count": null,
      "outputs": [
        {
          "execution_count": 21,
          "output_type": "execute_result",
          "data": {
            "text/plain": "('pop',\n 'rock',\n 'soul',\n 'hard rock',\n 'soft rock',\n 'R&B',\n 'progressive rock',\n 'disco')"
          },
          "metadata": {}
        }
      ]
    },
    {
      "cell_type": "markdown",
      "source": [
        "Find the length of the tuple, <code>genres_tuple</code>:\n"
      ],
      "metadata": {
        "id": "akv_zy3rwkNh"
      }
    },
    {
      "cell_type": "code",
      "source": [
        "# Write your code below and press Shift+Enter to execute\n",
        "\n",
        "len(genres_tuple)"
      ],
      "metadata": {
        "trusted": true,
        "id": "T8Wt-qrVwkNh",
        "outputId": "6a4298b7-758f-47f6-8a19-e5b32a483c4a"
      },
      "execution_count": null,
      "outputs": [
        {
          "execution_count": 22,
          "output_type": "execute_result",
          "data": {
            "text/plain": "8"
          },
          "metadata": {}
        }
      ]
    },
    {
      "cell_type": "markdown",
      "source": [
        "<img src=\"https://cf-courses-data.s3.us.cloud-object-storage.appdomain.cloud/IBMDeveloperSkillsNetwork-PY0101EN-SkillsNetwork/labs/Module%202/images/TuplesQuiz.png\" width=\"1100\" align=\"center\">\n"
      ],
      "metadata": {
        "id": "tZbJJr36wkNh"
      }
    },
    {
      "cell_type": "markdown",
      "source": [
        "<details><summary>Click here for the solution</summary>\n",
        "\n",
        "```python\n",
        "len(genres_tuple)\n",
        "```\n",
        "\n",
        "</details>\n"
      ],
      "metadata": {
        "id": "rgVXhQjjwkNi"
      }
    },
    {
      "cell_type": "markdown",
      "source": [
        "Access the element, with respect to index 3:\n"
      ],
      "metadata": {
        "id": "pY8fXcNywkNi"
      }
    },
    {
      "cell_type": "code",
      "source": [
        "# Write your code below and press Shift+Enter to execute\n",
        "\n",
        "genres_tuple[3]"
      ],
      "metadata": {
        "trusted": true,
        "id": "Sr99aITfwkNi",
        "outputId": "f3945274-c18b-40ca-d85e-dd52a4a961cd"
      },
      "execution_count": null,
      "outputs": [
        {
          "execution_count": 23,
          "output_type": "execute_result",
          "data": {
            "text/plain": "'hard rock'"
          },
          "metadata": {}
        }
      ]
    },
    {
      "cell_type": "markdown",
      "source": [
        "<details><summary>Click here for the solution</summary>\n",
        "\n",
        "```python\n",
        "genres_tuple[3]\n",
        "\n",
        "```\n",
        "\n",
        "</details>\n"
      ],
      "metadata": {
        "id": "7YyzsFpkwkNi"
      }
    },
    {
      "cell_type": "markdown",
      "source": [
        "### Use slicing to obtain indexes 3, 4 and 5:\n"
      ],
      "metadata": {
        "id": "DsRi7MgowkNi"
      }
    },
    {
      "cell_type": "code",
      "source": [
        "# Write your code below and press Shift+Enter to execute\n",
        "\n",
        "genres_tuple[3:6]"
      ],
      "metadata": {
        "trusted": true,
        "id": "zpFtoenhwkNi",
        "outputId": "34c22ad4-94e8-4e6b-b308-238196090193"
      },
      "execution_count": null,
      "outputs": [
        {
          "execution_count": 24,
          "output_type": "execute_result",
          "data": {
            "text/plain": "('hard rock', 'soft rock', 'R&B')"
          },
          "metadata": {}
        }
      ]
    },
    {
      "cell_type": "markdown",
      "source": [
        "<details><summary>Click here for the solution</summary>\n",
        "\n",
        "```python\n",
        "genres_tuple[3:6]\n",
        "\n",
        "```\n",
        "\n",
        "</details>\n"
      ],
      "metadata": {
        "id": "0ym6mR6ywkNj"
      }
    },
    {
      "cell_type": "markdown",
      "source": [
        "Find the first two elements of the tuple <code>genres_tuple</code>:\n"
      ],
      "metadata": {
        "id": "SZjVpZ5lwkNj"
      }
    },
    {
      "cell_type": "code",
      "source": [
        "# Write your code below and press Shift+Enter to execute\n",
        "\n",
        "genres_tuple[:2]"
      ],
      "metadata": {
        "trusted": true,
        "id": "IR-UZHtbwkNj",
        "outputId": "3a87f91a-b2e1-44c0-c135-acaf5e038988"
      },
      "execution_count": null,
      "outputs": [
        {
          "execution_count": 26,
          "output_type": "execute_result",
          "data": {
            "text/plain": "('pop', 'rock')"
          },
          "metadata": {}
        }
      ]
    },
    {
      "cell_type": "markdown",
      "source": [
        "<details><summary>Click here for the solution</summary>\n",
        "\n",
        "```python\n",
        "genres_tuple[0:2]\n",
        "\n",
        "```\n",
        "\n",
        "</details>\n"
      ],
      "metadata": {
        "id": "2iYj6ddhwkNj"
      }
    },
    {
      "cell_type": "markdown",
      "source": [
        "Find the first index of <code>\"disco\"</code>:\n"
      ],
      "metadata": {
        "id": "1OWVL4lXwkNj"
      }
    },
    {
      "cell_type": "code",
      "source": [
        "# Write your code below and press Shift+Enter to execute\n",
        "\n",
        "genres_tuple.index(\"disco\")"
      ],
      "metadata": {
        "trusted": true,
        "id": "9Crwd6SFwkNk",
        "outputId": "d0541847-34cf-4665-a769-0cc4cfb81bfb"
      },
      "execution_count": null,
      "outputs": [
        {
          "execution_count": 30,
          "output_type": "execute_result",
          "data": {
            "text/plain": "7"
          },
          "metadata": {}
        }
      ]
    },
    {
      "cell_type": "markdown",
      "source": [
        "<details><summary>Click here for the solution</summary>\n",
        "\n",
        "```python\n",
        "genres_tuple.index(\"disco\")\n",
        "\n",
        "```\n",
        "\n",
        "</details>\n"
      ],
      "metadata": {
        "id": "Kdj17FEHwkNk"
      }
    },
    {
      "cell_type": "markdown",
      "source": [
        "Generate a sorted List from the Tuple <code>C_tuple=(-5, 1, -3)</code>:\n"
      ],
      "metadata": {
        "id": "lHV7nJYswkNk"
      }
    },
    {
      "cell_type": "code",
      "source": [
        "# Write your code below and press Shift+Enter to execute\n",
        "C_tuple = (-5, 1, -3)\n",
        "sortedList = sorted(C_tuple)\n",
        "sortedList"
      ],
      "metadata": {
        "trusted": true,
        "id": "QsT04A-JwkNk",
        "outputId": "07cf58ad-42e1-46b9-9216-6adcc3f2ad1f"
      },
      "execution_count": null,
      "outputs": [
        {
          "execution_count": 32,
          "output_type": "execute_result",
          "data": {
            "text/plain": "[-5, -3, 1]"
          },
          "metadata": {}
        }
      ]
    },
    {
      "cell_type": "markdown",
      "source": [
        "<details><summary>Click here for the solution</summary>\n",
        "\n",
        "```python\n",
        "C_tuple = (-5, 1, -3)\n",
        "C_list = sorted(C_tuple)\n",
        "C_list\n",
        "\n",
        "```\n",
        "\n",
        "</details>\n"
      ],
      "metadata": {
        "id": "cJFxBY47wkNk"
      }
    },
    {
      "cell_type": "markdown",
      "source": [
        "## Author\n",
        "\n",
        "<a href=\"https://www.linkedin.com/in/joseph-s-50398b136/?utm_medium=Exinfluencer&utm_source=Exinfluencer&utm_content=000026UJ&utm_term=10006555&utm_id=NA-SkillsNetwork-Channel-SkillsNetworkCoursesIBMDeveloperSkillsNetworkPY0101ENSkillsNetwork19487395-2021-01-01\" target=\"_blank\">Joseph Santarcangelo</a>\n",
        "\n",
        "## Other contributors\n",
        "\n",
        "<a href=\"https://www.linkedin.com/in/jiahui-mavis-zhou-a4537814a?utm_medium=Exinfluencer&utm_source=Exinfluencer&utm_content=000026UJ&utm_term=10006555&utm_id=NA-SkillsNetwork-Channel-SkillsNetworkCoursesIBMDeveloperSkillsNetworkPY0101ENSkillsNetwork19487395-2021-01-01\">Mavis Zhou</a>\n",
        "\n",
        "## Change Log\n",
        "\n",
        "| Date (YYYY-MM-DD) | Version | Changed By | Change Description                 |\n",
        "| ----------------- | ------- | ---------- | ---------------------------------- |\n",
        "| 2022-01-10        | 2.1     | Malika     | Removed the readme for GitShare    |\n",
        "| 2020-08-26        | 2.0     | Lavanya    | Moved lab to course repo in GitLab |\n",
        "|                   |         |            |                                    |\n",
        "|                   |         |            |                                    |\n",
        "\n",
        "## <h3 align=\"center\"> © IBM Corporation 2020. All rights reserved. <h3/>\n"
      ],
      "metadata": {
        "id": "2VS4QLLQwkNl"
      }
    }
  ]
}