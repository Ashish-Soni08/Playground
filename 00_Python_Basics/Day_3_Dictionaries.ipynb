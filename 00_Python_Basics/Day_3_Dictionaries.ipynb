{
  "metadata": {
    "kernelspec": {
      "name": "python",
      "display_name": "Pyolite",
      "language": "python"
    },
    "language_info": {
      "codemirror_mode": {
        "name": "python",
        "version": 3
      },
      "file_extension": ".py",
      "mimetype": "text/x-python",
      "name": "python",
      "nbconvert_exporter": "python",
      "pygments_lexer": "ipython3",
      "version": "3.8"
    },
    "colab": {
      "name": "Day_3_Dictionaries.ipynb",
      "provenance": [],
      "include_colab_link": true
    }
  },
  "nbformat_minor": 0,
  "nbformat": 4,
  "cells": [
    {
      "cell_type": "markdown",
      "metadata": {
        "id": "view-in-github",
        "colab_type": "text"
      },
      "source": [
        "<a href=\"https://colab.research.google.com/github/Ashish-Soni08/100-Days-Of-Code/blob/main/Day_3_Dictionaries.ipynb\" target=\"_parent\"><img src=\"https://colab.research.google.com/assets/colab-badge.svg\" alt=\"Open In Colab\"/></a>"
      ]
    },
    {
      "cell_type": "markdown",
      "source": [
        "<center>\n",
        "    <img src=\"https://cf-courses-data.s3.us.cloud-object-storage.appdomain.cloud/IBMDeveloperSkillsNetwork-PY0101EN-SkillsNetwork/IDSNlogo.png\" width=\"300\" alt=\"cognitiveclass.ai logo\"  />\n",
        "</center>\n",
        "\n",
        "# Dictionaries in Python\n",
        "\n",
        "Estimated time needed: **25** minutes\n",
        "\n",
        "## Objectives\n",
        "\n",
        "After completing this lab you will be able to:\n",
        "\n",
        "*   Work with and perform operations on dictionaries in Python\n"
      ],
      "metadata": {
        "id": "6qBa6_VTw-kK"
      }
    },
    {
      "cell_type": "markdown",
      "source": [
        "<h2>Table of Contents</h2>\n",
        "<div class=\"alert alert-block alert-info\" style=\"margin-top: 20px\">\n",
        "    <ul>\n",
        "        <li>\n",
        "            <a href=\"https://#dic\">Dictionaries</a>\n",
        "            <ul>\n",
        "                <li><a href=\"https://content/?utm_medium=Exinfluencer&utm_source=Exinfluencer&utm_content=000026UJ&utm_term=10006555&utm_id=NA-SkillsNetwork-Channel-SkillsNetworkCoursesIBMDeveloperSkillsNetworkPY0101ENSkillsNetwork19487395-2021-01-01\">What are Dictionaries?</a></li>\n",
        "                <li><a href=\"https://key/?utm_medium=Exinfluencer&utm_source=Exinfluencer&utm_content=000026UJ&utm_term=10006555&utm_id=NA-SkillsNetwork-Channel-SkillsNetworkCoursesIBMDeveloperSkillsNetworkPY0101ENSkillsNetwork19487395-2021-01-01\">Keys</a></li>\n",
        "            </ul>\n",
        "        </li>\n",
        "        <li>\n",
        "            <a href=\"https://#quiz\">Quiz on Dictionaries</a>\n",
        "        </li>\n",
        "    </ul>\n",
        "\n",
        "</div>\n",
        "\n",
        "<hr>\n"
      ],
      "metadata": {
        "id": "0rLQxTgyw-kP"
      }
    },
    {
      "cell_type": "markdown",
      "source": [
        "<h2 id=\"Dic\">Dictionaries</h2>\n"
      ],
      "metadata": {
        "id": "N7pqMrMxw-kQ"
      }
    },
    {
      "cell_type": "markdown",
      "source": [
        "<h3 id=\"content\">What are Dictionaries?</h3>\n"
      ],
      "metadata": {
        "id": "SSj0HQaZw-kR"
      }
    },
    {
      "cell_type": "markdown",
      "source": [
        "A dictionary consists of keys and values. It is helpful to compare a dictionary to a list. Instead of being indexed numerically like a list, dictionaries have keys. These keys are the keys that are used to access values within a dictionary.\n"
      ],
      "metadata": {
        "id": "O-UCBac5w-kR"
      }
    },
    {
      "cell_type": "markdown",
      "source": [
        "<img src=\"https://cf-courses-data.s3.us.cloud-object-storage.appdomain.cloud/IBMDeveloperSkillsNetwork-PY0101EN-SkillsNetwork/labs/Module%202/images/DictsList.png\" width=\"650\" />\n"
      ],
      "metadata": {
        "id": "2PlTczj2w-kS"
      }
    },
    {
      "cell_type": "markdown",
      "source": [
        "An example of a Dictionary <code>Dict</code>:\n"
      ],
      "metadata": {
        "id": "casza4ekw-kS"
      }
    },
    {
      "cell_type": "code",
      "source": [
        "# Create the dictionary\n",
        "\n",
        "Dict = {\"key1\": 1, \"key2\": \"2\", \"key3\": [3, 3, 3], \"key4\": (4, 4, 4), ('key5'): 5, (0, 1): 6}\n",
        "Dict"
      ],
      "metadata": {
        "jupyter": {
          "outputs_hidden": false
        },
        "trusted": true,
        "id": "DBXkLflWw-kS",
        "outputId": "c6e2e723-372e-4f19-a17b-aacbfdaba21a"
      },
      "execution_count": null,
      "outputs": [
        {
          "execution_count": 1,
          "output_type": "execute_result",
          "data": {
            "text/plain": "{'key1': 1,\n 'key2': '2',\n 'key3': [3, 3, 3],\n 'key4': (4, 4, 4),\n 'key5': 5,\n (0, 1): 6}"
          },
          "metadata": {}
        }
      ]
    },
    {
      "cell_type": "markdown",
      "source": [
        "The keys can be strings:\n"
      ],
      "metadata": {
        "id": "cOzDUXtRw-kU"
      }
    },
    {
      "cell_type": "code",
      "source": [
        "# Access to the value by the key\n",
        "\n",
        "Dict[\"key1\"]"
      ],
      "metadata": {
        "jupyter": {
          "outputs_hidden": false
        },
        "trusted": true,
        "id": "U89W8372w-kU",
        "outputId": "611d2922-e7be-4375-82d0-8e3e1eb23619"
      },
      "execution_count": null,
      "outputs": [
        {
          "execution_count": 2,
          "output_type": "execute_result",
          "data": {
            "text/plain": "1"
          },
          "metadata": {}
        }
      ]
    },
    {
      "cell_type": "markdown",
      "source": [
        "Keys can also be any immutable object such as a tuple:\n"
      ],
      "metadata": {
        "id": "ovTLwyd-w-kU"
      }
    },
    {
      "cell_type": "code",
      "source": [
        "# Access to the value by the key\n",
        "\n",
        "Dict[(0, 1)]"
      ],
      "metadata": {
        "jupyter": {
          "outputs_hidden": false
        },
        "trusted": true,
        "id": "bspvjiriw-kV",
        "outputId": "0122c967-536f-47bd-b08f-52c1a3e6be99"
      },
      "execution_count": null,
      "outputs": [
        {
          "execution_count": 3,
          "output_type": "execute_result",
          "data": {
            "text/plain": "6"
          },
          "metadata": {}
        }
      ]
    },
    {
      "cell_type": "markdown",
      "source": [
        "Each key is separated from its value by a colon \"<code>:</code>\".  Commas separate the items, and the whole dictionary is enclosed in curly braces. An empty dictionary without any items is written with just two curly braces, like this  \"<code>{}</code>\".\n"
      ],
      "metadata": {
        "id": "vfisHZcjw-kV"
      }
    },
    {
      "cell_type": "code",
      "source": [
        "# Create a sample dictionary\n",
        "\n",
        "release_year_dict = {\"Thriller\": \"1982\", \"Back in Black\": \"1980\", \\\n",
        "                    \"The Dark Side of the Moon\": \"1973\", \"The Bodyguard\": \"1992\", \\\n",
        "                    \"Bat Out of Hell\": \"1977\", \"Their Greatest Hits (1971-1975)\": \"1976\", \\\n",
        "                    \"Saturday Night Fever\": \"1977\", \"Rumours\": \"1977\"}\n",
        "release_year_dict"
      ],
      "metadata": {
        "jupyter": {
          "outputs_hidden": false
        },
        "trusted": true,
        "id": "XU-ooflnw-kV",
        "outputId": "d8ff5b47-1503-46d3-a2c3-458499f8aa7a"
      },
      "execution_count": null,
      "outputs": [
        {
          "execution_count": 4,
          "output_type": "execute_result",
          "data": {
            "text/plain": "{'Thriller': '1982',\n 'Back in Black': '1980',\n 'The Dark Side of the Moon': '1973',\n 'The Bodyguard': '1992',\n 'Bat Out of Hell': '1977',\n 'Their Greatest Hits (1971-1975)': '1976',\n 'Saturday Night Fever': '1977',\n 'Rumours': '1977'}"
          },
          "metadata": {}
        }
      ]
    },
    {
      "cell_type": "markdown",
      "source": [
        "In summary, like a list, a dictionary holds a sequence of elements. Each element is represented by a key and its corresponding value. Dictionaries are created with two curly braces containing keys and values separated by a colon. For every key, there can only be one single value, however,  multiple keys can hold the same value. Keys can only be strings, numbers, or tuples, but values can be any data type.\n"
      ],
      "metadata": {
        "id": "6KxX4hH7w-kW"
      }
    },
    {
      "cell_type": "markdown",
      "source": [
        "It is helpful to visualize the dictionary as a table, as in the following image. The first column represents the keys, the second column represents the values.\n"
      ],
      "metadata": {
        "id": "CmVB0TTmw-kW"
      }
    },
    {
      "cell_type": "markdown",
      "source": [
        "<img src=\"https://cf-courses-data.s3.us.cloud-object-storage.appdomain.cloud/IBMDeveloperSkillsNetwork-PY0101EN-SkillsNetwork/labs/Module%202/images/DictsStructure.png\" width=\"650\" />\n"
      ],
      "metadata": {
        "id": "CF5r3zA8w-kW"
      }
    },
    {
      "cell_type": "markdown",
      "source": [
        "<h3 id=\"key\">Keys</h3>\n"
      ],
      "metadata": {
        "id": "i-vMlO2Ow-kW"
      }
    },
    {
      "cell_type": "markdown",
      "source": [
        "You can retrieve the values based on the names:\n"
      ],
      "metadata": {
        "id": "KyuT5RdMw-kX"
      }
    },
    {
      "cell_type": "code",
      "source": [
        "# Get value by keys\n",
        "\n",
        "release_year_dict['Thriller'] "
      ],
      "metadata": {
        "jupyter": {
          "outputs_hidden": false
        },
        "trusted": true,
        "id": "E5NzrlU_w-kX",
        "outputId": "0120d675-221c-4680-fd13-7330b34b8fdd"
      },
      "execution_count": null,
      "outputs": [
        {
          "execution_count": 5,
          "output_type": "execute_result",
          "data": {
            "text/plain": "'1982'"
          },
          "metadata": {}
        }
      ]
    },
    {
      "cell_type": "markdown",
      "source": [
        "This corresponds to:\n"
      ],
      "metadata": {
        "id": "aW8uvNg0w-kX"
      }
    },
    {
      "cell_type": "markdown",
      "source": [
        "<img src=\"https://cf-courses-data.s3.us.cloud-object-storage.appdomain.cloud/IBMDeveloperSkillsNetwork-PY0101EN-SkillsNetwork/labs/Module%202/images/DictsKeyOne.png\" width=\"500\" />\n"
      ],
      "metadata": {
        "id": "jx87eYuaw-kX"
      }
    },
    {
      "cell_type": "markdown",
      "source": [
        "Similarly for <b>The Bodyguard</b>\n"
      ],
      "metadata": {
        "id": "FmScZb-bw-kX"
      }
    },
    {
      "cell_type": "code",
      "source": [
        "# Get value by key\n",
        "\n",
        "release_year_dict['The Bodyguard'] "
      ],
      "metadata": {
        "jupyter": {
          "outputs_hidden": false
        },
        "trusted": true,
        "id": "_YmEc2bZw-kY",
        "outputId": "b9b08eb1-0ced-4e82-8560-888e16ef8035"
      },
      "execution_count": null,
      "outputs": [
        {
          "execution_count": 6,
          "output_type": "execute_result",
          "data": {
            "text/plain": "'1992'"
          },
          "metadata": {}
        }
      ]
    },
    {
      "cell_type": "markdown",
      "source": [
        "<img src=\"https://cf-courses-data.s3.us.cloud-object-storage.appdomain.cloud/IBMDeveloperSkillsNetwork-PY0101EN-SkillsNetwork/labs/Module%202/images/DictsKeyTwo.png\" width=\"500\" />\n"
      ],
      "metadata": {
        "id": "YmeK6jaLw-kY"
      }
    },
    {
      "cell_type": "markdown",
      "source": [
        "Now let us retrieve the keys of the dictionary using the method <code>keys()</code>:\n"
      ],
      "metadata": {
        "id": "jGn2GgKAw-kY"
      }
    },
    {
      "cell_type": "code",
      "source": [
        "# Get all the keys in dictionary\n",
        "\n",
        "release_year_dict.keys() "
      ],
      "metadata": {
        "jupyter": {
          "outputs_hidden": false
        },
        "trusted": true,
        "id": "J-tPoPnmw-kY",
        "outputId": "345be5ae-b0f6-40ad-e4e3-6d5f7cb58f70"
      },
      "execution_count": null,
      "outputs": [
        {
          "execution_count": 7,
          "output_type": "execute_result",
          "data": {
            "text/plain": "dict_keys(['Thriller', 'Back in Black', 'The Dark Side of the Moon', 'The Bodyguard', 'Bat Out of Hell', 'Their Greatest Hits (1971-1975)', 'Saturday Night Fever', 'Rumours'])"
          },
          "metadata": {}
        }
      ]
    },
    {
      "cell_type": "markdown",
      "source": [
        "You can retrieve the values using the method  <code>values()</code>:\n"
      ],
      "metadata": {
        "id": "8V_X2z0ew-kY"
      }
    },
    {
      "cell_type": "code",
      "source": [
        "# Get all the values in dictionary\n",
        "\n",
        "release_year_dict.values() "
      ],
      "metadata": {
        "jupyter": {
          "outputs_hidden": false
        },
        "trusted": true,
        "id": "OShnhPTlw-kZ",
        "outputId": "8a32ad65-8108-48d0-e567-213d5e6a8fdd"
      },
      "execution_count": null,
      "outputs": [
        {
          "execution_count": 8,
          "output_type": "execute_result",
          "data": {
            "text/plain": "dict_values(['1982', '1980', '1973', '1992', '1977', '1976', '1977', '1977'])"
          },
          "metadata": {}
        }
      ]
    },
    {
      "cell_type": "markdown",
      "source": [
        "We can add an entry:\n"
      ],
      "metadata": {
        "id": "h5LztM98w-kZ"
      }
    },
    {
      "cell_type": "code",
      "source": [
        "# Append value with key into dictionary\n",
        "\n",
        "release_year_dict['Graduation'] = '2007'\n",
        "release_year_dict"
      ],
      "metadata": {
        "jupyter": {
          "outputs_hidden": false
        },
        "trusted": true,
        "id": "wiA-KyBrw-kZ",
        "outputId": "c5e774d8-1935-4098-f67b-025445201779"
      },
      "execution_count": null,
      "outputs": [
        {
          "execution_count": 9,
          "output_type": "execute_result",
          "data": {
            "text/plain": "{'Thriller': '1982',\n 'Back in Black': '1980',\n 'The Dark Side of the Moon': '1973',\n 'The Bodyguard': '1992',\n 'Bat Out of Hell': '1977',\n 'Their Greatest Hits (1971-1975)': '1976',\n 'Saturday Night Fever': '1977',\n 'Rumours': '1977',\n 'Graduation': '2007'}"
          },
          "metadata": {}
        }
      ]
    },
    {
      "cell_type": "markdown",
      "source": [
        "We can delete an entry:\n"
      ],
      "metadata": {
        "id": "8RjpzP--w-ka"
      }
    },
    {
      "cell_type": "code",
      "source": [
        "# Delete entries by key\n",
        "\n",
        "del(release_year_dict['Thriller'])\n",
        "del(release_year_dict['Graduation'])\n",
        "release_year_dict"
      ],
      "metadata": {
        "jupyter": {
          "outputs_hidden": false
        },
        "trusted": true,
        "id": "dJef_gNuw-ka",
        "outputId": "29ccb38f-4c9b-4fbb-dd62-fc3bfdc7f854"
      },
      "execution_count": null,
      "outputs": [
        {
          "execution_count": 10,
          "output_type": "execute_result",
          "data": {
            "text/plain": "{'Back in Black': '1980',\n 'The Dark Side of the Moon': '1973',\n 'The Bodyguard': '1992',\n 'Bat Out of Hell': '1977',\n 'Their Greatest Hits (1971-1975)': '1976',\n 'Saturday Night Fever': '1977',\n 'Rumours': '1977'}"
          },
          "metadata": {}
        }
      ]
    },
    {
      "cell_type": "markdown",
      "source": [
        "We can verify if an element is in the dictionary:\n"
      ],
      "metadata": {
        "id": "POXPsDttw-ka"
      }
    },
    {
      "cell_type": "code",
      "source": [
        "# Verify the key is in the dictionary\n",
        "\n",
        "'The Bodyguard' in release_year_dict"
      ],
      "metadata": {
        "jupyter": {
          "outputs_hidden": false
        },
        "trusted": true,
        "id": "L-lbt2cEw-ka",
        "outputId": "a402eb73-304b-4e58-ee1e-0190afe89f0f"
      },
      "execution_count": null,
      "outputs": [
        {
          "execution_count": 11,
          "output_type": "execute_result",
          "data": {
            "text/plain": "True"
          },
          "metadata": {}
        }
      ]
    },
    {
      "cell_type": "markdown",
      "source": [
        "<hr>\n"
      ],
      "metadata": {
        "id": "6E4fWb7Tw-ka"
      }
    },
    {
      "cell_type": "markdown",
      "source": [
        "<h2 id=\"quiz\">Quiz on Dictionaries</h2>\n"
      ],
      "metadata": {
        "id": "NATjUiyww-kb"
      }
    },
    {
      "cell_type": "markdown",
      "source": [
        "<b>You will need this dictionary for the next two questions:</b>\n"
      ],
      "metadata": {
        "id": "F3sZN7A2w-kb"
      }
    },
    {
      "cell_type": "code",
      "source": [
        "# Question sample dictionary\n",
        "\n",
        "soundtrack_dic = {\"The Bodyguard\":\"1992\", \"Saturday Night Fever\":\"1977\"}\n",
        "soundtrack_dic "
      ],
      "metadata": {
        "trusted": true,
        "id": "fS6GinHdw-kb",
        "outputId": "4ad14df1-dadd-46f9-97ca-1c42f7f8214c"
      },
      "execution_count": null,
      "outputs": [
        {
          "execution_count": 12,
          "output_type": "execute_result",
          "data": {
            "text/plain": "{'The Bodyguard': '1992', 'Saturday Night Fever': '1977'}"
          },
          "metadata": {}
        }
      ]
    },
    {
      "cell_type": "markdown",
      "source": [
        "a) In the dictionary <code>soundtrack_dic</code> what are the keys ?\n"
      ],
      "metadata": {
        "id": "yipnh0HKw-kb"
      }
    },
    {
      "cell_type": "code",
      "source": [
        "# Write your code below and press Shift+Enter to execute\n",
        "\n",
        "soundtrack_dic.keys()"
      ],
      "metadata": {
        "trusted": true,
        "id": "kX21Fwpnw-kc",
        "outputId": "2f8d1b14-595e-4229-f8c1-dd7882de9eb4"
      },
      "execution_count": null,
      "outputs": [
        {
          "execution_count": 13,
          "output_type": "execute_result",
          "data": {
            "text/plain": "dict_keys(['The Bodyguard', 'Saturday Night Fever'])"
          },
          "metadata": {}
        }
      ]
    },
    {
      "cell_type": "markdown",
      "source": [
        "<details><summary>Click here for the solution</summary>\n",
        "\n",
        "```python\n",
        "soundtrack_dic.keys() # The Keys \"The Bodyguard\" and \"Saturday Night Fever\" \n",
        "\n",
        "```\n",
        "\n",
        "</details>\n"
      ],
      "metadata": {
        "id": "2cmo0ktpw-kc"
      }
    },
    {
      "cell_type": "markdown",
      "source": [
        "b) In the dictionary <code>soundtrack_dic</code> what are the values ?\n"
      ],
      "metadata": {
        "id": "7KHlmVQlw-kc"
      }
    },
    {
      "cell_type": "code",
      "source": [
        "# Write your code below and press Shift+Enter to execute\n",
        "\n",
        "soundtrack_dic.values()"
      ],
      "metadata": {
        "trusted": true,
        "id": "MJCn_Kozw-kc",
        "outputId": "35bbc68b-e6e0-4331-849d-0afe095e1f85"
      },
      "execution_count": null,
      "outputs": [
        {
          "execution_count": 14,
          "output_type": "execute_result",
          "data": {
            "text/plain": "dict_values(['1992', '1977'])"
          },
          "metadata": {}
        }
      ]
    },
    {
      "cell_type": "markdown",
      "source": [
        "<details><summary>Click here for the solution</summary>\n",
        "\n",
        "```python\n",
        "soundtrack_dic.values() # The values are \"1992\" and \"1977\"\n",
        "\n",
        "```\n",
        "\n",
        "</details>\n"
      ],
      "metadata": {
        "id": "32betq16w-kc"
      }
    },
    {
      "cell_type": "markdown",
      "source": [
        "<hr>\n"
      ],
      "metadata": {
        "id": "CZ8FUvstw-kd"
      }
    },
    {
      "cell_type": "markdown",
      "source": [
        "<b>You will need this dictionary for the following questions:</b>\n"
      ],
      "metadata": {
        "id": "VWwaqHCgw-kd"
      }
    },
    {
      "cell_type": "markdown",
      "source": [
        "The Albums <b>Back in Black</b>, <b>The Bodyguard</b> and <b>Thriller</b> have the following music recording sales in millions 50, 50 and 65 respectively:\n"
      ],
      "metadata": {
        "id": "arw4zWk3w-kd"
      }
    },
    {
      "cell_type": "markdown",
      "source": [
        "a) Create a dictionary <code>album_sales_dict</code> where the keys are the album name and the sales in millions are the values.\n"
      ],
      "metadata": {
        "id": "dAiratZtw-ke"
      }
    },
    {
      "cell_type": "code",
      "source": [
        "# Write your code below and press Shift+Enter to execute\n",
        "\n",
        "album_sales_dict = {\"Back in Black\": 50, \"The Bodyguard\": 50, \"Thriller\": 65}"
      ],
      "metadata": {
        "trusted": true,
        "id": "Luh-ZvaVw-ke"
      },
      "execution_count": null,
      "outputs": []
    },
    {
      "cell_type": "markdown",
      "source": [
        "<details><summary>Click here for the solution</summary>\n",
        "\n",
        "```python\n",
        "album_sales_dict = {\"The Bodyguard\":50, \"Back in Black\":50, \"Thriller\":65}\n",
        "\n",
        "```\n",
        "\n",
        "</details>\n"
      ],
      "metadata": {
        "id": "1NqPPynAw-ke"
      }
    },
    {
      "cell_type": "markdown",
      "source": [
        "b) Use the dictionary to find the total sales of <b>Thriller</b>:\n"
      ],
      "metadata": {
        "id": "mAYhgsLRw-ke"
      }
    },
    {
      "cell_type": "code",
      "source": [
        "# Write your code below and press Shift+Enter to execute\n",
        "\n",
        "album_sales_dict[\"Thriller\"]"
      ],
      "metadata": {
        "jupyter": {
          "outputs_hidden": false
        },
        "trusted": true,
        "id": "JcgdPhf0w-ke",
        "outputId": "fba2415f-9b2e-425f-87bc-5aca4c3f3e2c"
      },
      "execution_count": null,
      "outputs": [
        {
          "execution_count": 16,
          "output_type": "execute_result",
          "data": {
            "text/plain": "65"
          },
          "metadata": {}
        }
      ]
    },
    {
      "cell_type": "markdown",
      "source": [
        "<details><summary>Click here for the solution</summary>\n",
        "\n",
        "```python\n",
        "album_sales_dict[\"Thriller\"]\n",
        "\n",
        "```\n",
        "\n",
        "</details>\n"
      ],
      "metadata": {
        "id": "TL-LN36nw-kf"
      }
    },
    {
      "cell_type": "markdown",
      "source": [
        "c) Find the names of the albums from the dictionary using the method <code>keys()</code>:\n"
      ],
      "metadata": {
        "id": "Iyw2gEXOw-kf"
      }
    },
    {
      "cell_type": "code",
      "source": [
        "# Write your code below and press Shift+Enter to execute\n",
        "\n",
        "album_sales_dict.keys()"
      ],
      "metadata": {
        "jupyter": {
          "outputs_hidden": false
        },
        "trusted": true,
        "id": "GEiyorvAw-kf",
        "outputId": "60fb4c89-18f5-4eae-f0f7-30cf8f191425"
      },
      "execution_count": null,
      "outputs": [
        {
          "execution_count": 17,
          "output_type": "execute_result",
          "data": {
            "text/plain": "dict_keys(['Back in Black', 'The Bodyguard', 'Thriller'])"
          },
          "metadata": {}
        }
      ]
    },
    {
      "cell_type": "markdown",
      "source": [
        "<details><summary>Click here for the solution</summary>\n",
        "\n",
        "```python\n",
        "album_sales_dict.keys()\n",
        "\n",
        "```\n",
        "\n",
        "</details>\n"
      ],
      "metadata": {
        "id": "kz-yU993w-kg"
      }
    },
    {
      "cell_type": "markdown",
      "source": [
        "d) Find the values of the recording sales from the dictionary using the method <code>values</code>:\n"
      ],
      "metadata": {
        "id": "izAGhkpcw-kg"
      }
    },
    {
      "cell_type": "code",
      "source": [
        "# Write your code below and press Shift+Enter to execute\n",
        "\n",
        "album_sales_dict.values()"
      ],
      "metadata": {
        "jupyter": {
          "outputs_hidden": false
        },
        "trusted": true,
        "id": "ACWlBQNlw-kg",
        "outputId": "16692f14-ba0a-40cd-c034-06e35555f7ee"
      },
      "execution_count": null,
      "outputs": [
        {
          "execution_count": 18,
          "output_type": "execute_result",
          "data": {
            "text/plain": "dict_values([50, 50, 65])"
          },
          "metadata": {}
        }
      ]
    },
    {
      "cell_type": "markdown",
      "source": [
        "<details><summary>Click here for the solution</summary>\n",
        "\n",
        "```python\n",
        "album_sales_dict.values()\n",
        "\n",
        "```\n",
        "\n",
        "</details>\n"
      ],
      "metadata": {
        "id": "ePD-69Cdw-kg"
      }
    },
    {
      "cell_type": "markdown",
      "source": [
        "<hr>\n",
        "<h2>The last exercise!</h2>\n",
        "<p>Congratulations, you have completed your first lesson and hands-on lab in Python. \n",
        "<hr>\n"
      ],
      "metadata": {
        "id": "LDr-OJP5w-kh"
      }
    },
    {
      "cell_type": "markdown",
      "source": [
        "## Author\n",
        "\n",
        "<a href=\"https://www.linkedin.com/in/joseph-s-50398b136/?utm_medium=Exinfluencer&utm_source=Exinfluencer&utm_content=000026UJ&utm_term=10006555&utm_id=NA-SkillsNetwork-Channel-SkillsNetworkCoursesIBMDeveloperSkillsNetworkPY0101ENSkillsNetwork19487395-2021-01-01\" target=\"_blank\">Joseph Santarcangelo</a>\n",
        "\n",
        "## Other contributors\n",
        "\n",
        "<a href=\"https://www.linkedin.com/in/jiahui-mavis-zhou-a4537814a?utm_medium=Exinfluencer&utm_source=Exinfluencer&utm_content=000026UJ&utm_term=10006555&utm_id=NA-SkillsNetwork-Channel-SkillsNetworkCoursesIBMDeveloperSkillsNetworkPY0101ENSkillsNetwork19487395-2021-01-01\">Mavis Zhou</a>\n",
        "\n",
        "## Change Log\n",
        "\n",
        "| Date (YYYY-MM-DD) | Version | Changed By    | Change Description                                                  |\n",
        "| ----------------- | ------- | ------------- | ------------------------------------------------------------------- |\n",
        "| 2022-01-10        | 2.2     | Malika Singla | Removed the readme for GitShare                                     |\n",
        "| 2020-09-09        | 2.1     | Malika Singla | Updated the variable soundtrack_dict to soundtrack_dic in Questions |\n",
        "| 2020-08-26        | 2.0     | Lavanya       | Moved lab to course repo in GitLab                                  |\n",
        "|                   |         |               |                                                                     |\n",
        "|                   |         |               |                                                                     |\n",
        "\n",
        "## <h3 align=\"center\"> © IBM Corporation 2020. All rights reserved. <h3/>\n"
      ],
      "metadata": {
        "id": "IQJrRirYw-kh"
      }
    }
  ]
}