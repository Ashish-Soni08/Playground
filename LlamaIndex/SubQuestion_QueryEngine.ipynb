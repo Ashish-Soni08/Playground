{
  "nbformat": 4,
  "nbformat_minor": 0,
  "metadata": {
    "colab": {
      "provenance": [],
      "include_colab_link": true
    },
    "kernelspec": {
      "name": "python3",
      "display_name": "Python 3"
    },
    "language_info": {
      "name": "python"
    }
  },
  "cells": [
    {
      "cell_type": "markdown",
      "metadata": {
        "id": "view-in-github",
        "colab_type": "text"
      },
      "source": [
        "<a href=\"https://colab.research.google.com/github/Ashish-Soni08/Playground/blob/main/LlamaIndex/SubQuestion_QueryEngine.ipynb\" target=\"_parent\"><img src=\"https://colab.research.google.com/assets/colab-badge.svg\" alt=\"Open In Colab\"/></a>"
      ]
    },
    {
      "cell_type": "markdown",
      "source": [
        "# Compare Documents\n",
        "\n",
        "In this tutorial, we delve into executing complex queries by breaking them down into more manageable sub-queries using SubQuestionQueryEngine.\n",
        "\n",
        "[Documentation](https://gpt-index.readthedocs.io/en/stable/examples/usecases/10k_sub_question.html)"
      ],
      "metadata": {
        "id": "NzWzjWew9zW-"
      }
    },
    {
      "cell_type": "code",
      "execution_count": 1,
      "metadata": {
        "id": "sirmT_ZV9yJK"
      },
      "outputs": [],
      "source": [
        "%%capture\n",
        "\n",
        "!pip install llama-index pypdf"
      ]
    },
    {
      "cell_type": "code",
      "source": [
        "# NOTE: This is ONLY necessary in jupyter notebook.\n",
        "# Details: Jupyter runs an event-loop behind the scenes.\n",
        "#          This results in nested event-loops when we start an event-loop to make async queries.\n",
        "#          This is normally not allowed, we use nest_asyncio to allow it for convenience.\n",
        "import nest_asyncio\n",
        "\n",
        "nest_asyncio.apply()"
      ],
      "metadata": {
        "id": "QIGU-duuLu_L"
      },
      "execution_count": 2,
      "outputs": []
    },
    {
      "cell_type": "code",
      "source": [
        "import logging\n",
        "import sys\n",
        "\n",
        "logging.basicConfig(stream=sys.stdout, level=logging.INFO)\n",
        "logging.getLogger().handlers = []\n",
        "logging.getLogger().addHandler(logging.StreamHandler(stream=sys.stdout))\n",
        "\n",
        "import openai\n",
        "openai.api_key = '' # OPENAI_API_KEY"
      ],
      "metadata": {
        "id": "uQcsPrXS9-qn"
      },
      "execution_count": 3,
      "outputs": []
    },
    {
      "cell_type": "code",
      "source": [
        "from llama_index import SimpleDirectoryReader, ServiceContext, VectorStoreIndex\n",
        "from llama_index import set_global_service_context\n",
        "from llama_index.response.pprint_utils import pprint_response\n",
        "from llama_index.tools import QueryEngineTool, ToolMetadata\n",
        "from llama_index.query_engine import SubQuestionQueryEngine\n",
        "from llama_index.llms import OpenAI\n",
        "from IPython.display import display, HTML"
      ],
      "metadata": {
        "id": "Mu7ZI3_O-CDC"
      },
      "execution_count": 4,
      "outputs": []
    },
    {
      "cell_type": "markdown",
      "source": [
        "# Download Documents"
      ],
      "metadata": {
        "id": "BtyqMo5gITnY"
      }
    },
    {
      "cell_type": "code",
      "source": [
        "!wget 'https://raw.githubusercontent.com/jerryjliu/llama_index/main/docs/examples/data/10k/uber_2021.pdf' -O './uber_2021.pdf'\n",
        "!wget 'https://raw.githubusercontent.com/jerryjliu/llama_index/main/docs/examples/data/10k/lyft_2021.pdf' -O './lyft_2021.pdf'"
      ],
      "metadata": {
        "colab": {
          "base_uri": "https://localhost:8080/"
        },
        "id": "e5dvgILwITzn",
        "outputId": "d617efd8-29fa-430c-b1b9-aea476050a89"
      },
      "execution_count": 5,
      "outputs": [
        {
          "output_type": "stream",
          "name": "stdout",
          "text": [
            "--2023-10-28 07:15:14--  https://raw.githubusercontent.com/jerryjliu/llama_index/main/docs/examples/data/10k/uber_2021.pdf\n",
            "Resolving raw.githubusercontent.com (raw.githubusercontent.com)... 185.199.108.133, 185.199.109.133, 185.199.110.133, ...\n",
            "Connecting to raw.githubusercontent.com (raw.githubusercontent.com)|185.199.108.133|:443... connected.\n",
            "HTTP request sent, awaiting response... 200 OK\n",
            "Length: 1880483 (1.8M) [application/octet-stream]\n",
            "Saving to: ‘./uber_2021.pdf’\n",
            "\n",
            "./uber_2021.pdf     100%[===================>]   1.79M  --.-KB/s    in 0.07s   \n",
            "\n",
            "2023-10-28 07:15:14 (27.5 MB/s) - ‘./uber_2021.pdf’ saved [1880483/1880483]\n",
            "\n",
            "--2023-10-28 07:15:14--  https://raw.githubusercontent.com/jerryjliu/llama_index/main/docs/examples/data/10k/lyft_2021.pdf\n",
            "Resolving raw.githubusercontent.com (raw.githubusercontent.com)... 185.199.108.133, 185.199.109.133, 185.199.110.133, ...\n",
            "Connecting to raw.githubusercontent.com (raw.githubusercontent.com)|185.199.108.133|:443... connected.\n",
            "HTTP request sent, awaiting response... 200 OK\n",
            "Length: 1440303 (1.4M) [application/octet-stream]\n",
            "Saving to: ‘./lyft_2021.pdf’\n",
            "\n",
            "./lyft_2021.pdf     100%[===================>]   1.37M  --.-KB/s    in 0.07s   \n",
            "\n",
            "2023-10-28 07:15:14 (20.9 MB/s) - ‘./lyft_2021.pdf’ saved [1440303/1440303]\n",
            "\n"
          ]
        }
      ]
    },
    {
      "cell_type": "markdown",
      "source": [
        "# Load uber and lyft documents"
      ],
      "metadata": {
        "id": "dj4J1NYO__6L"
      }
    },
    {
      "cell_type": "code",
      "source": [
        "lyft_docs = SimpleDirectoryReader(input_files=[\"lyft_2021.pdf\"]).load_data()\n",
        "uber_docs = SimpleDirectoryReader(input_files=[\"uber_2021.pdf\"]).load_data()"
      ],
      "metadata": {
        "id": "-gqVPUhF-MsC"
      },
      "execution_count": 6,
      "outputs": []
    },
    {
      "cell_type": "code",
      "source": [
        "print(f'Loaded lyft 10-K with {len(lyft_docs)} pages')\n",
        "print(f'Loaded Uber 10-K with {len(uber_docs)} pages')"
      ],
      "metadata": {
        "colab": {
          "base_uri": "https://localhost:8080/"
        },
        "id": "6WRclpxW-QOX",
        "outputId": "cba2b5e1-0c18-4195-8ed4-55ef7d98ec1c"
      },
      "execution_count": 7,
      "outputs": [
        {
          "output_type": "stream",
          "name": "stdout",
          "text": [
            "Loaded lyft 10-K with 238 pages\n",
            "Loaded Uber 10-K with 307 pages\n"
          ]
        }
      ]
    },
    {
      "cell_type": "code",
      "source": [
        "llm = OpenAI(temperature=0, model=\"gpt-3.5-turbo\")\n",
        "service_context = ServiceContext.from_defaults(llm=llm)"
      ],
      "metadata": {
        "id": "Q-NNs9pgLHmF",
        "colab": {
          "base_uri": "https://localhost:8080/"
        },
        "outputId": "83492aff-816f-4e01-f8a1-2649e6002992"
      },
      "execution_count": 8,
      "outputs": [
        {
          "output_type": "stream",
          "name": "stderr",
          "text": [
            "[nltk_data] Downloading package punkt to /tmp/llama_index...\n",
            "[nltk_data]   Unzipping tokenizers/punkt.zip.\n"
          ]
        }
      ]
    },
    {
      "cell_type": "markdown",
      "source": [
        "# Build indices"
      ],
      "metadata": {
        "id": "c9l5XFXOACgA"
      }
    },
    {
      "cell_type": "code",
      "source": [
        "lyft_index = VectorStoreIndex.from_documents(lyft_docs, service_context=service_context)\n",
        "uber_index = VectorStoreIndex.from_documents(uber_docs, service_context=service_context)"
      ],
      "metadata": {
        "id": "xBzg6G9H-QuH"
      },
      "execution_count": 9,
      "outputs": []
    },
    {
      "cell_type": "markdown",
      "source": [
        "# Basic QA"
      ],
      "metadata": {
        "id": "OG9N9PT-AG_8"
      }
    },
    {
      "cell_type": "code",
      "source": [
        "lyft_engine = lyft_index.as_query_engine(similarity_top_k=3)\n"
      ],
      "metadata": {
        "id": "tMTcHwSs-Uf1"
      },
      "execution_count": 10,
      "outputs": []
    },
    {
      "cell_type": "code",
      "source": [
        "uber_engine = uber_index.as_query_engine(similarity_top_k=3)\n"
      ],
      "metadata": {
        "id": "Og6bs-Nm-U61"
      },
      "execution_count": 11,
      "outputs": []
    },
    {
      "cell_type": "code",
      "source": [
        "response = await lyft_engine.aquery('What is the revenue of Lyft in 2021? Answer in millions with page reference')\n"
      ],
      "metadata": {
        "id": "ImwBL7W2-XyR"
      },
      "execution_count": 12,
      "outputs": []
    },
    {
      "cell_type": "code",
      "source": [
        "# print the response\n",
        "display(HTML(f'<p style=\"font-size:20px\">{(response.response)}</p>'))"
      ],
      "metadata": {
        "colab": {
          "base_uri": "https://localhost:8080/",
          "height": 54
        },
        "id": "v-fLA2rG_lM-",
        "outputId": "dcc5e110-c342-4366-850f-85ebb3a43d1b"
      },
      "execution_count": 13,
      "outputs": [
        {
          "output_type": "display_data",
          "data": {
            "text/plain": [
              "<IPython.core.display.HTML object>"
            ],
            "text/html": [
              "<p style=\"font-size:20px\">The revenue of Lyft in 2021 was $3,208.3 million. (Page reference: 63)</p>"
            ]
          },
          "metadata": {}
        }
      ]
    },
    {
      "cell_type": "code",
      "source": [
        "response = await uber_engine.aquery('What is the revenue of Uber in 2021? Answer in millions, with page reference')\n"
      ],
      "metadata": {
        "id": "WUW9z_MN-YUt"
      },
      "execution_count": 14,
      "outputs": []
    },
    {
      "cell_type": "code",
      "source": [
        "# print the response\n",
        "display(HTML(f'<p style=\"font-size:20px\">{(response.response)}</p>'))"
      ],
      "metadata": {
        "colab": {
          "base_uri": "https://localhost:8080/",
          "height": 54
        },
        "id": "LSyKvMZd_mkw",
        "outputId": "6fa1e0b6-c5ca-40cc-b70f-dcceb2e42134"
      },
      "execution_count": 15,
      "outputs": [
        {
          "output_type": "display_data",
          "data": {
            "text/plain": [
              "<IPython.core.display.HTML object>"
            ],
            "text/html": [
              "<p style=\"font-size:20px\">The revenue of Uber in 2021 was $17,455 million. (Page 98)</p>"
            ]
          },
          "metadata": {}
        }
      ]
    },
    {
      "cell_type": "markdown",
      "source": [
        "# For comparing between uber and lyft"
      ],
      "metadata": {
        "id": "AN6j0tLYAJya"
      }
    },
    {
      "cell_type": "code",
      "source": [
        "query_engine_tools = [\n",
        "    QueryEngineTool(\n",
        "        query_engine=lyft_engine,\n",
        "        metadata=ToolMetadata(name='lyft_10k', description='Provides information about Lyft financials for year 2021')\n",
        "    ),\n",
        "    QueryEngineTool(\n",
        "        query_engine=uber_engine,\n",
        "        metadata=ToolMetadata(name='uber_10k', description='Provides information about Uber financials for year 2021')\n",
        "    ),\n",
        "]\n",
        "\n",
        "s_engine = SubQuestionQueryEngine.from_defaults(query_engine_tools=query_engine_tools)"
      ],
      "metadata": {
        "id": "7Q6NHot0-dGY"
      },
      "execution_count": 16,
      "outputs": []
    },
    {
      "cell_type": "code",
      "source": [
        "response = await s_engine.aquery('Compare revenue growth of Uber and Lyft from 2020 to 2021')"
      ],
      "metadata": {
        "colab": {
          "base_uri": "https://localhost:8080/"
        },
        "id": "liOSDYiK-iy6",
        "outputId": "029dd770-f439-4c74-add8-59763af64b5a"
      },
      "execution_count": 17,
      "outputs": [
        {
          "output_type": "stream",
          "name": "stdout",
          "text": [
            "Generated 4 sub questions.\n",
            "\u001b[1;3;38;2;237;90;200m[uber_10k] Q: What was the revenue of Uber in 2020?\n",
            "\u001b[0m\u001b[1;3;38;2;90;149;237m[uber_10k] Q: What was the revenue of Uber in 2021?\n",
            "\u001b[0m\u001b[1;3;38;2;11;159;203m[lyft_10k] Q: What was the revenue of Lyft in 2020?\n",
            "\u001b[0m\u001b[1;3;38;2;155;135;227m[lyft_10k] Q: What was the revenue of Lyft in 2021?\n",
            "\u001b[0m\u001b[1;3;38;2;237;90;200m[uber_10k] A: The revenue of Uber in 2020 was $11,139 million.\n",
            "\u001b[0m\u001b[1;3;38;2;155;135;227m[lyft_10k] A: The revenue of Lyft in 2021 was $3,208,323,000.\n",
            "\u001b[0m\u001b[1;3;38;2;90;149;237m[uber_10k] A: The revenue of Uber in 2021 was $17,455 million.\n",
            "\u001b[0m\u001b[1;3;38;2;11;159;203m[lyft_10k] A: The revenue of Lyft in 2020 was $2,364,681.\n",
            "\u001b[0m"
          ]
        }
      ]
    },
    {
      "cell_type": "code",
      "source": [
        "# print the response\n",
        "display(HTML(f'<p style=\"font-size:20px\">{(response.response)}</p>'))"
      ],
      "metadata": {
        "colab": {
          "base_uri": "https://localhost:8080/",
          "height": 54
        },
        "id": "trxesUfp_kCf",
        "outputId": "a2c88b2b-c90c-4b15-b441-6c61b02c17d1"
      },
      "execution_count": 18,
      "outputs": [
        {
          "output_type": "display_data",
          "data": {
            "text/plain": [
              "<IPython.core.display.HTML object>"
            ],
            "text/html": [
              "<p style=\"font-size:20px\">The revenue growth of Uber from 2020 to 2021 was higher compared to Lyft.</p>"
            ]
          },
          "metadata": {}
        }
      ]
    }
  ]
}