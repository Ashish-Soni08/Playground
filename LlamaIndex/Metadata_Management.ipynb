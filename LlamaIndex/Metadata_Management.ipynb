{
  "cells": [
    {
      "cell_type": "markdown",
      "metadata": {
        "id": "view-in-github",
        "colab_type": "text"
      },
      "source": [
        "<a href=\"https://colab.research.google.com/github/Ashish-Soni08/Playground/blob/main/LlamaIndex/Metadata_Management.ipynb\" target=\"_parent\"><img src=\"https://colab.research.google.com/assets/colab-badge.svg\" alt=\"Open In Colab\"/></a>"
      ]
    },
    {
      "cell_type": "markdown",
      "id": "b07531d9-7473-480d-bee6-c1ee4cbc207c",
      "metadata": {
        "id": "b07531d9-7473-480d-bee6-c1ee4cbc207c"
      },
      "source": [
        "# Extracting Metadata for Better Document Indexing and Understanding\n",
        "\n",
        "In many cases, especially with long documents, a chunk of text may lack the context necessary to disambiguate the chunk from other similar chunks of text. One method of addressing this is manually labelling each chunk in our dataset or knowledge base. However, this can be labour intensive and time consuming for a large number or continually updated set of documents.\n",
        "\n",
        "To combat this, we use LLMs to extract certain contextual information relevant to the document to better help the retrieval and language models disambiguate similar-looking passages.\n",
        "\n",
        "We do this through our brand-new `MetadataExtractor` modules."
      ]
    },
    {
      "cell_type": "markdown",
      "id": "f887966e",
      "metadata": {
        "id": "f887966e"
      },
      "source": [
        "If you're opening this Notebook on colab, you will probably need to install LlamaIndex 🦙."
      ]
    },
    {
      "cell_type": "code",
      "execution_count": 1,
      "id": "69d1b1f2",
      "metadata": {
        "id": "69d1b1f2"
      },
      "outputs": [],
      "source": [
        "%%capture\n",
        "\n",
        "!pip install llama-index pypdf"
      ]
    },
    {
      "cell_type": "code",
      "execution_count": 2,
      "id": "91c807cc-1334-4f92-8a9e-9ccd702f3578",
      "metadata": {
        "id": "91c807cc-1334-4f92-8a9e-9ccd702f3578"
      },
      "outputs": [],
      "source": [
        "import nest_asyncio\n",
        "\n",
        "nest_asyncio.apply()\n",
        "\n",
        "import os\n",
        "import openai\n",
        "\n",
        "openai.api_key = '' # OPENAI_API_KEY"
      ]
    },
    {
      "cell_type": "code",
      "execution_count": 3,
      "id": "0adb8e4a-6728-4073-8256-8b3be4ab1e64",
      "metadata": {
        "id": "0adb8e4a-6728-4073-8256-8b3be4ab1e64"
      },
      "outputs": [],
      "source": [
        "from llama_index import ServiceContext\n",
        "from llama_index.llms import OpenAI\n",
        "from llama_index.schema import MetadataMode"
      ]
    },
    {
      "cell_type": "code",
      "execution_count": 4,
      "id": "a0231dff-7443-46bf-9b9d-759198d3408e",
      "metadata": {
        "id": "a0231dff-7443-46bf-9b9d-759198d3408e"
      },
      "outputs": [],
      "source": [
        "llm = OpenAI(temperature=0.1, model=\"gpt-3.5-turbo\", max_tokens=512)"
      ]
    },
    {
      "cell_type": "markdown",
      "id": "2db2cf90-f295-4a3d-a47c-4b2b1dd2d7c5",
      "metadata": {
        "id": "2db2cf90-f295-4a3d-a47c-4b2b1dd2d7c5"
      },
      "source": [
        "We create a node parser that extracts the document title and hypothetical question embeddings relevant to the document chunk.\n",
        "\n",
        "We also show how to instantiate the `SummaryExtractor` and `KeywordExtractor`, as well as how to create your own custom extractor\n",
        "based on the `MetadataFeatureExtractor` base class"
      ]
    },
    {
      "cell_type": "code",
      "execution_count": 5,
      "id": "3bda151d-6fb8-427e-82fc-0f3bb469d705",
      "metadata": {
        "id": "3bda151d-6fb8-427e-82fc-0f3bb469d705"
      },
      "outputs": [],
      "source": [
        "from llama_index.node_parser import SimpleNodeParser\n",
        "from llama_index.node_parser.extractors import (\n",
        "    MetadataExtractor,\n",
        "    SummaryExtractor,\n",
        "    QuestionsAnsweredExtractor,\n",
        "    TitleExtractor,\n",
        "    KeywordExtractor,\n",
        "    EntityExtractor,\n",
        "    MetadataFeatureExtractor,\n",
        ")\n",
        "from llama_index.text_splitter import TokenTextSplitter\n",
        "\n",
        "text_splitter = TokenTextSplitter(\n",
        "    separator=\" \", chunk_size=512, chunk_overlap=128\n",
        ")\n",
        "\n",
        "\n",
        "class CustomExtractor(MetadataFeatureExtractor):\n",
        "    def extract(self, nodes):\n",
        "        metadata_list = [\n",
        "            {\n",
        "                \"custom\": (\n",
        "                    node.metadata[\"document_title\"]\n",
        "                    + \"\\n\"\n",
        "                    + node.metadata[\"excerpt_keywords\"]\n",
        "                )\n",
        "            }\n",
        "            for node in nodes\n",
        "        ]\n",
        "        return metadata_list\n",
        "\n",
        "\n",
        "metadata_extractor = MetadataExtractor(\n",
        "    extractors=[\n",
        "        TitleExtractor(nodes=5, llm=llm),\n",
        "        QuestionsAnsweredExtractor(questions=3, llm=llm),\n",
        "    ],\n",
        ")\n",
        "\n",
        "node_parser = SimpleNodeParser.from_defaults(\n",
        "    text_splitter=text_splitter,\n",
        "    metadata_extractor=metadata_extractor,\n",
        ")"
      ]
    },
    {
      "cell_type": "code",
      "execution_count": 6,
      "id": "c72c45a9-dcad-4925-b2f7-d25fe5d80c2d",
      "metadata": {
        "id": "c72c45a9-dcad-4925-b2f7-d25fe5d80c2d"
      },
      "outputs": [],
      "source": [
        "from llama_index import SimpleDirectoryReader"
      ]
    },
    {
      "cell_type": "markdown",
      "id": "e4e54937-e9e7-48ed-8600-72cd2f3c529b",
      "metadata": {
        "id": "e4e54937-e9e7-48ed-8600-72cd2f3c529b"
      },
      "source": [
        "We first load the 10k annual SEC report for Uber and Lyft for the years 2019 and 2020 respectively."
      ]
    },
    {
      "cell_type": "code",
      "execution_count": 7,
      "id": "a2e5ef50-82ef-4936-bbc2-c022f67007a0",
      "metadata": {
        "colab": {
          "base_uri": "https://localhost:8080/"
        },
        "id": "a2e5ef50-82ef-4936-bbc2-c022f67007a0",
        "outputId": "a7bf3b2d-206c-4f7f-ec6c-c05dba4f2a1a"
      },
      "outputs": [
        {
          "output_type": "stream",
          "name": "stdout",
          "text": [
            "--2023-10-28 07:31:02--  https://www.dropbox.com/scl/fi/6dlqdk6e2k1mjhi8dee5j/uber.pdf?rlkey=2jyoe49bg2vwdlz30l76czq6g&dl=1\n",
            "Resolving www.dropbox.com (www.dropbox.com)... 162.125.1.18, 2620:100:6022:18::a27d:4212\n",
            "Connecting to www.dropbox.com (www.dropbox.com)|162.125.1.18|:443... connected.\n",
            "HTTP request sent, awaiting response... 302 Found\n",
            "Location: https://uc836d4a9337a31f04e209287e62.dl.dropboxusercontent.com/cd/0/inline/CGfK7z3X33ouk78YCYBCyMcwauuLu_edKu7x9UqQKItPT5JpM8k8gslLbZLybXVhETNXNp_mL_A4d44_BeXWWjbKxmJZYbclwiXXr8IiD4IrD23aUyvdDthIDtMVC66-mQ4/file?dl=1# [following]\n",
            "--2023-10-28 07:31:03--  https://uc836d4a9337a31f04e209287e62.dl.dropboxusercontent.com/cd/0/inline/CGfK7z3X33ouk78YCYBCyMcwauuLu_edKu7x9UqQKItPT5JpM8k8gslLbZLybXVhETNXNp_mL_A4d44_BeXWWjbKxmJZYbclwiXXr8IiD4IrD23aUyvdDthIDtMVC66-mQ4/file?dl=1\n",
            "Resolving uc836d4a9337a31f04e209287e62.dl.dropboxusercontent.com (uc836d4a9337a31f04e209287e62.dl.dropboxusercontent.com)... 162.125.65.15, 2620:100:6021:15::a27d:410f\n",
            "Connecting to uc836d4a9337a31f04e209287e62.dl.dropboxusercontent.com (uc836d4a9337a31f04e209287e62.dl.dropboxusercontent.com)|162.125.65.15|:443... connected.\n",
            "HTTP request sent, awaiting response... 302 Found\n",
            "Location: /cd/0/inline2/CGeXiSAfkgXOVbxvp7xkWS0tLFoPgDpCzScTaqBggNN_ntWlExHFYU31MkuFbyEqdhUPQAymF3XWm4gcrj8uNIJJrv_oyEwq2y1IYHAI5AjPDxG_PkZgazyVhFSU89iS7Ey1-WZ3TfLwaB6DV3QpHrwW6va2yfHRWlAyrm2uXJf00vfCEsngokFjKC7gM0ssN1AUx6LQfvcfaI1WoX060qm750c6qGqko4MGNo0EtDcV2BPIw8fg8uHj8qBvBscylhs8gPVwvz9WtvEwC57ItiVILhiUmmepQbxRpf7V8hRguDAAP3DtSWqpTyOJUq5XQMxf6svVA8_g8JRreDEX5ePNRA-l3WKh6TalDaCMgqQZSw/file?dl=1 [following]\n",
            "--2023-10-28 07:31:04--  https://uc836d4a9337a31f04e209287e62.dl.dropboxusercontent.com/cd/0/inline2/CGeXiSAfkgXOVbxvp7xkWS0tLFoPgDpCzScTaqBggNN_ntWlExHFYU31MkuFbyEqdhUPQAymF3XWm4gcrj8uNIJJrv_oyEwq2y1IYHAI5AjPDxG_PkZgazyVhFSU89iS7Ey1-WZ3TfLwaB6DV3QpHrwW6va2yfHRWlAyrm2uXJf00vfCEsngokFjKC7gM0ssN1AUx6LQfvcfaI1WoX060qm750c6qGqko4MGNo0EtDcV2BPIw8fg8uHj8qBvBscylhs8gPVwvz9WtvEwC57ItiVILhiUmmepQbxRpf7V8hRguDAAP3DtSWqpTyOJUq5XQMxf6svVA8_g8JRreDEX5ePNRA-l3WKh6TalDaCMgqQZSw/file?dl=1\n",
            "Reusing existing connection to uc836d4a9337a31f04e209287e62.dl.dropboxusercontent.com:443.\n",
            "HTTP request sent, awaiting response... 200 OK\n",
            "Length: 2829436 (2.7M) [application/binary]\n",
            "Saving to: ‘data/10k-132.pdf’\n",
            "\n",
            "data/10k-132.pdf    100%[===================>]   2.70M  2.51MB/s    in 1.1s    \n",
            "\n",
            "2023-10-28 07:31:05 (2.51 MB/s) - ‘data/10k-132.pdf’ saved [2829436/2829436]\n",
            "\n",
            "--2023-10-28 07:31:05--  https://www.dropbox.com/scl/fi/qn7g3vrk5mqb18ko4e5in/lyft.pdf?rlkey=j6jxtjwo8zbstdo4wz3ns8zoj&dl=1\n",
            "Resolving www.dropbox.com (www.dropbox.com)... 162.125.1.18, 2620:100:6022:18::a27d:4212\n",
            "Connecting to www.dropbox.com (www.dropbox.com)|162.125.1.18|:443... connected.\n",
            "HTTP request sent, awaiting response... 302 Found\n",
            "Location: https://uc76091c7bc318e9130b8e6c16be.dl.dropboxusercontent.com/cd/0/inline/CGdsC8APvMmfhxZ7mGCxZRD9fFSrBG_WCF5omkemIIFM448ixiVu7Td4UNIpE3BJukDX3WdGAUD8DYosKT7SThvJOelxPcqejV7sQbKnohrLsaY4LYRVVW5UoXGg4w_GoTk/file?dl=1# [following]\n",
            "--2023-10-28 07:31:06--  https://uc76091c7bc318e9130b8e6c16be.dl.dropboxusercontent.com/cd/0/inline/CGdsC8APvMmfhxZ7mGCxZRD9fFSrBG_WCF5omkemIIFM448ixiVu7Td4UNIpE3BJukDX3WdGAUD8DYosKT7SThvJOelxPcqejV7sQbKnohrLsaY4LYRVVW5UoXGg4w_GoTk/file?dl=1\n",
            "Resolving uc76091c7bc318e9130b8e6c16be.dl.dropboxusercontent.com (uc76091c7bc318e9130b8e6c16be.dl.dropboxusercontent.com)... 162.125.2.15, 2620:100:6017:15::a27d:20f\n",
            "Connecting to uc76091c7bc318e9130b8e6c16be.dl.dropboxusercontent.com (uc76091c7bc318e9130b8e6c16be.dl.dropboxusercontent.com)|162.125.2.15|:443... connected.\n",
            "HTTP request sent, awaiting response... 302 Found\n",
            "Location: /cd/0/inline2/CGcr016_gxCpNgLGVKsBNfiw1C74_wSezG-Rh6ISf6jVG6YmwImVefON0dNSKYq3K2898NDGKBQi86mkIvCZ0p7RSYuNPh0w3v6FZCvNJdLKTlO9fcVrl7bo-B0JQIUG4S91jf2j_8AwI4xj41Q3oMMjOUjwUEI-hoRUB8N-JTPm9-4oFHXuz1ldMMDc_4EP9jVvDVX0A5GOZX68xipKnqCwBalicQsV1gxWYPR9nlhwPPLIBLb2mOeT7Jb1wp3xl9besbBRtIUAbb0yysPSHnHfBaN2-X2eX9RlaYn3lNciWNjWs472t506-v-5Kw-0KdRIVe4YcJ2EXP6Lquu_TG5cumef_8o9QkIbTQgtTgR35w/file?dl=1 [following]\n",
            "--2023-10-28 07:31:06--  https://uc76091c7bc318e9130b8e6c16be.dl.dropboxusercontent.com/cd/0/inline2/CGcr016_gxCpNgLGVKsBNfiw1C74_wSezG-Rh6ISf6jVG6YmwImVefON0dNSKYq3K2898NDGKBQi86mkIvCZ0p7RSYuNPh0w3v6FZCvNJdLKTlO9fcVrl7bo-B0JQIUG4S91jf2j_8AwI4xj41Q3oMMjOUjwUEI-hoRUB8N-JTPm9-4oFHXuz1ldMMDc_4EP9jVvDVX0A5GOZX68xipKnqCwBalicQsV1gxWYPR9nlhwPPLIBLb2mOeT7Jb1wp3xl9besbBRtIUAbb0yysPSHnHfBaN2-X2eX9RlaYn3lNciWNjWs472t506-v-5Kw-0KdRIVe4YcJ2EXP6Lquu_TG5cumef_8o9QkIbTQgtTgR35w/file?dl=1\n",
            "Reusing existing connection to uc76091c7bc318e9130b8e6c16be.dl.dropboxusercontent.com:443.\n",
            "HTTP request sent, awaiting response... 200 OK\n",
            "Length: 3416577 (3.3M) [application/binary]\n",
            "Saving to: ‘data/10k-vFinal.pdf’\n",
            "\n",
            "data/10k-vFinal.pdf 100%[===================>]   3.26M  --.-KB/s    in 0.05s   \n",
            "\n",
            "2023-10-28 07:31:07 (61.2 MB/s) - ‘data/10k-vFinal.pdf’ saved [3416577/3416577]\n",
            "\n"
          ]
        }
      ],
      "source": [
        "!mkdir -p data\n",
        "!wget -O \"data/10k-132.pdf\" \"https://www.dropbox.com/scl/fi/6dlqdk6e2k1mjhi8dee5j/uber.pdf?rlkey=2jyoe49bg2vwdlz30l76czq6g&dl=1\"\n",
        "!wget -O \"data/10k-vFinal.pdf\" \"https://www.dropbox.com/scl/fi/qn7g3vrk5mqb18ko4e5in/lyft.pdf?rlkey=j6jxtjwo8zbstdo4wz3ns8zoj&dl=1\""
      ]
    },
    {
      "cell_type": "code",
      "execution_count": 8,
      "id": "38a46bf6-9539-4ac2-ad97-eb909992b94d",
      "metadata": {
        "id": "38a46bf6-9539-4ac2-ad97-eb909992b94d"
      },
      "outputs": [],
      "source": [
        "# Note the uninformative document file name, which may be a common scenario in a production setting\n",
        "uber_docs = SimpleDirectoryReader(input_files=[\"data/10k-132.pdf\"]).load_data()\n",
        "uber_front_pages = uber_docs[0:3]\n",
        "uber_content = uber_docs[63:69]\n",
        "uber_docs = uber_front_pages + uber_content"
      ]
    },
    {
      "cell_type": "code",
      "execution_count": 9,
      "id": "269f8ecc-489d-435f-9d81-a9c64fd4d400",
      "metadata": {
        "colab": {
          "base_uri": "https://localhost:8080/",
          "height": 49,
          "referenced_widgets": [
            "584c4013f3a641d98058131195e4a979",
            "5793c30d52fd425f868f9cc9397c037a",
            "e6e80d9a99dd4a4091025a9c136119fe",
            "8078bdac29244bde8c4be2e39612fed4",
            "bf3aec8cb03d45fb83e0de7d1d5139f8",
            "e0763659e0694421ab1779938e5c9bce",
            "17c2e0d750ff44198ff3c086b0b4e417",
            "08b85dab8ad243a7bd408686d501cc70",
            "305ed3281dfc4b358a7dbcf277815db2",
            "0c959c1a4f7842359b41dc94976f4463",
            "1cfbb1cd5c694853922833a0c14ee843"
          ]
        },
        "id": "269f8ecc-489d-435f-9d81-a9c64fd4d400",
        "outputId": "43869e99-789a-42d3-f707-a98a7a50c8eb"
      },
      "outputs": [
        {
          "output_type": "display_data",
          "data": {
            "text/plain": [
              "Extracting questions:   0%|          | 0/21 [00:00<?, ?it/s]"
            ],
            "application/vnd.jupyter.widget-view+json": {
              "version_major": 2,
              "version_minor": 0,
              "model_id": "584c4013f3a641d98058131195e4a979"
            }
          },
          "metadata": {}
        }
      ],
      "source": [
        "uber_nodes = node_parser.get_nodes_from_documents(uber_docs)"
      ]
    },
    {
      "cell_type": "code",
      "execution_count": 10,
      "id": "8da4d824-d518-4d37-8322-a35adac05157",
      "metadata": {
        "colab": {
          "base_uri": "https://localhost:8080/"
        },
        "id": "8da4d824-d518-4d37-8322-a35adac05157",
        "outputId": "2172d61e-b30c-4e3b-cb7a-e8a37b704c8e"
      },
      "outputs": [
        {
          "output_type": "execute_result",
          "data": {
            "text/plain": [
              "{'page_label': '64',\n",
              " 'file_name': '10k-132.pdf',\n",
              " 'document_title': 'Exploring the Diverse Landscape of 2019: A Comprehensive Annual Report on Uber Technologies, Inc.',\n",
              " 'questions_this_excerpt_can_answer': '1. How does Uber measure the adoption and frequency of transactions on its platform?\\n2. What is the definition of \"Trips\" according to Uber and how does it help measure the scale and usage of their platform?\\n3. How does Uber count unique consumers and why is it important for assessing the penetration of their services in different countries?'}"
            ]
          },
          "metadata": {},
          "execution_count": 10
        }
      ],
      "source": [
        "uber_nodes[6].metadata"
      ]
    },
    {
      "cell_type": "code",
      "execution_count": 11,
      "id": "93e70bfb-6c02-401b-be91-3827f358b22c",
      "metadata": {
        "id": "93e70bfb-6c02-401b-be91-3827f358b22c"
      },
      "outputs": [],
      "source": [
        "# Note the uninformative document file name, which may be a common scenario in a production setting\n",
        "lyft_docs = SimpleDirectoryReader(\n",
        "    input_files=[\"data/10k-vFinal.pdf\"]\n",
        ").load_data()\n",
        "lyft_front_pages = lyft_docs[0:3]\n",
        "lyft_content = lyft_docs[68:73]\n",
        "lyft_docs = lyft_front_pages + lyft_content"
      ]
    },
    {
      "cell_type": "code",
      "execution_count": 12,
      "id": "e3720b40-c50c-4185-aaf4-289ff8ab057e",
      "metadata": {
        "colab": {
          "base_uri": "https://localhost:8080/",
          "height": 49,
          "referenced_widgets": [
            "695f08825c4d40acbf5dd252b9630581",
            "4da376426ef447e5b48ab2ba92e2ebe4",
            "ce659945e0d34bc5a5110e0e6674830c",
            "50573c7d9c2f4cfcbe9cd47e9d947f32",
            "205914a1ab5f48069ca6816ceee0afe6",
            "6ca22d7f009144969e9349f717c533b4",
            "26c764dcdff249298349558639d9714d",
            "ca59c7597643425096f5e7ebfd09f5e8",
            "cba1c2b6f74e476797f181939d95af94",
            "7d622a2ded79476f9bc22a9737c46566",
            "2ce465d32f074094bd98ce98b227521a"
          ]
        },
        "id": "e3720b40-c50c-4185-aaf4-289ff8ab057e",
        "outputId": "7f053acc-84d4-421b-efb2-8a747bd62655"
      },
      "outputs": [
        {
          "output_type": "display_data",
          "data": {
            "text/plain": [
              "Extracting questions:   0%|          | 0/19 [00:00<?, ?it/s]"
            ],
            "application/vnd.jupyter.widget-view+json": {
              "version_major": 2,
              "version_minor": 0,
              "model_id": "695f08825c4d40acbf5dd252b9630581"
            }
          },
          "metadata": {}
        }
      ],
      "source": [
        "lyft_nodes = node_parser.get_nodes_from_documents(lyft_docs)"
      ]
    },
    {
      "cell_type": "code",
      "execution_count": 13,
      "id": "98740f96-afdd-45ff-bcc0-2c50965a7349",
      "metadata": {
        "colab": {
          "base_uri": "https://localhost:8080/"
        },
        "id": "98740f96-afdd-45ff-bcc0-2c50965a7349",
        "outputId": "94d517ae-6207-460e-906b-4a5e165c6bdc"
      },
      "outputs": [
        {
          "output_type": "execute_result",
          "data": {
            "text/plain": [
              "{'page_label': '2',\n",
              " 'file_name': '10k-vFinal.pdf',\n",
              " 'document_title': 'Lyft, Inc. Annual Report on Form 10-K for the fiscal year ended December 31, 2020',\n",
              " 'questions_this_excerpt_can_answer': \"1. What is the aggregate market value of Lyft, Inc.'s common stock held by non-affiliates as of June 30, 2020?\\n2. How many shares of Class A common stock and Class B common stock does Lyft, Inc. have outstanding as of February 22, 2021?\\n3. Has Lyft, Inc. filed a report on and attestation to its management's assessment of the effectiveness of its internal control over financial reporting under Section 404(b) of the Sarbanes-Oxley Act?\"}"
            ]
          },
          "metadata": {},
          "execution_count": 13
        }
      ],
      "source": [
        "lyft_nodes[2].metadata"
      ]
    },
    {
      "cell_type": "markdown",
      "id": "ddd5805f-c459-40ae-a21c-5fa0de750a60",
      "metadata": {
        "id": "ddd5805f-c459-40ae-a21c-5fa0de750a60"
      },
      "source": [
        "Since we are asking fairly sophisticated questions, we utilize a subquestion query engine for all QnA pipelines below, and prompt it to pay more attention to the relevance of the retrieved sources."
      ]
    },
    {
      "cell_type": "markdown",
      "id": "12cd959f-80ac-4d10-9246-d27cc6c1096a",
      "metadata": {
        "id": "12cd959f-80ac-4d10-9246-d27cc6c1096a"
      },
      "source": [
        "## Querying an Index With No Extra Metadata"
      ]
    },
    {
      "cell_type": "code",
      "execution_count": 14,
      "id": "37dd8992-3716-44da-9309-154fb5946e98",
      "metadata": {
        "colab": {
          "base_uri": "https://localhost:8080/"
        },
        "id": "37dd8992-3716-44da-9309-154fb5946e98",
        "outputId": "e13b63fd-917a-43bc-d4a2-e503649f4663"
      },
      "outputs": [
        {
          "output_type": "stream",
          "name": "stdout",
          "text": [
            "LLM sees:\n",
            " [Excerpt from document]\n",
            "page_label: 65\n",
            "file_name: 10k-132.pdf\n",
            "Excerpt:\n",
            "-----\n",
            "income (loss) attributable to  Uber Technologies, Inc. to Adjusted EBITDA. \n",
            "            \n",
            "  Year Ended December 31,   2017 to 2018   2018 to 2019   \n",
            "(In millions, exce pt percenta ges)  2017   2018   2019   % Chan ge  % Chan ge  \n",
            "Adjusted EBITDA ................................  $ (2,642) $ (1,847) $ (2,725)  30%  (48)%\n",
            "-----\n"
          ]
        }
      ],
      "source": [
        "from copy import deepcopy\n",
        "\n",
        "nodes_no_metadata = deepcopy(uber_nodes) + deepcopy(lyft_nodes)\n",
        "for node in nodes_no_metadata:\n",
        "    node.metadata = {\n",
        "        k: node.metadata[k]\n",
        "        for k in node.metadata\n",
        "        if k in [\"page_label\", \"file_name\"]\n",
        "    }\n",
        "print(\n",
        "    \"LLM sees:\\n\",\n",
        "    (nodes_no_metadata)[9].get_content(metadata_mode=MetadataMode.ALL),\n",
        ")"
      ]
    },
    {
      "cell_type": "code",
      "execution_count": 15,
      "id": "b8ff619d-67ed-4263-bfc7-2a7a1b7320e7",
      "metadata": {
        "id": "b8ff619d-67ed-4263-bfc7-2a7a1b7320e7"
      },
      "outputs": [],
      "source": [
        "from llama_index import VectorStoreIndex\n",
        "from llama_index.query_engine import SubQuestionQueryEngine\n",
        "from llama_index.tools import QueryEngineTool, ToolMetadata"
      ]
    },
    {
      "cell_type": "code",
      "execution_count": 32,
      "id": "028a65d7-8065-4798-acec-1c3486633e14",
      "metadata": {
        "id": "028a65d7-8065-4798-acec-1c3486633e14"
      },
      "outputs": [],
      "source": [
        "index_no_metadata = VectorStoreIndex(\n",
        "    nodes=nodes_no_metadata,\n",
        "    service_context=ServiceContext.from_defaults(llm=OpenAI(model=\"gpt-3.5-turbo-0613\")),\n",
        ")\n",
        "engine_no_metadata = index_no_metadata.as_query_engine(\n",
        "    similarity_top_k=10,\n",
        ")"
      ]
    },
    {
      "cell_type": "code",
      "execution_count": 33,
      "id": "73ea9e05-ff5a-49b6-8e52-139d156cde47",
      "metadata": {
        "id": "73ea9e05-ff5a-49b6-8e52-139d156cde47"
      },
      "outputs": [],
      "source": [
        "final_engine_no_metadata = SubQuestionQueryEngine.from_defaults(\n",
        "    query_engine_tools=[\n",
        "        QueryEngineTool(\n",
        "            query_engine=engine_no_metadata,\n",
        "            metadata=ToolMetadata(\n",
        "                name=\"sec_filing_documents\",\n",
        "                description=\"financial information on companies\",\n",
        "            ),\n",
        "        )\n",
        "    ],\n",
        "    use_async=True,\n",
        ")"
      ]
    },
    {
      "cell_type": "code",
      "execution_count": 34,
      "id": "fd5a3e51-e252-4e24-bc2b-fbc32ce078dd",
      "metadata": {
        "colab": {
          "base_uri": "https://localhost:8080/"
        },
        "id": "fd5a3e51-e252-4e24-bc2b-fbc32ce078dd",
        "outputId": "de426e36-89e2-48c8-cb92-f64cfae216d2"
      },
      "outputs": [
        {
          "output_type": "stream",
          "name": "stdout",
          "text": [
            "Generated 4 sub questions.\n",
            "\u001b[1;3;38;2;237;90;200m[sec_filing_documents] Q: What was the cost due to research and development for Uber in 2019 in millions of USD?\n",
            "\u001b[0m\u001b[1;3;38;2;90;149;237m[sec_filing_documents] Q: What was the cost due to sales and marketing for Uber in 2019 in millions of USD?\n",
            "\u001b[0m\u001b[1;3;38;2;11;159;203m[sec_filing_documents] Q: What was the cost due to research and development for Lyft in 2019 in millions of USD?\n",
            "\u001b[0m\u001b[1;3;38;2;155;135;227m[sec_filing_documents] Q: What was the cost due to sales and marketing for Lyft in 2019 in millions of USD?\n",
            "\u001b[0m\u001b[1;3;38;2;90;149;237m[sec_filing_documents] A: The cost due to sales and marketing for Uber in 2019 was $814.1 million.\n",
            "\u001b[0m\u001b[1;3;38;2;237;90;200m[sec_filing_documents] A: The cost due to research and development for Uber in 2019 was $1,505.6 million.\n",
            "\u001b[0m\u001b[1;3;38;2;155;135;227m[sec_filing_documents] A: The cost due to sales and marketing for Lyft in 2019 was $814.1 million.\n",
            "\u001b[0m\u001b[1;3;38;2;11;159;203m[sec_filing_documents] A: The cost due to research and development for Lyft in 2019 was $276.6 million.\n",
            "\u001b[0m"
          ]
        }
      ],
      "source": [
        "response_no_metadata = final_engine_no_metadata.query(\n",
        "    \"\"\"\n",
        "    What was the cost due to research and development v.s. sales and marketing for uber and lyft in 2019 in millions of USD?\n",
        "    Give your answer as a JSON.\n",
        "    \"\"\"\n",
        ")\n",
        "# {\"Uber\": {\"Research and Development\": 4836, \"Sales and Marketing\": 4626},\n",
        "#  \"Lyft\": {\"Research and Development\": 1505.6, \"Sales and Marketing\": 814 }}"
      ]
    },
    {
      "cell_type": "code",
      "source": [
        "print(response_no_metadata.response)"
      ],
      "metadata": {
        "colab": {
          "base_uri": "https://localhost:8080/"
        },
        "id": "YkVNE0jMM7QK",
        "outputId": "446fd2fe-2b9a-4a74-fe14-b93e32cbb642"
      },
      "id": "YkVNE0jMM7QK",
      "execution_count": 35,
      "outputs": [
        {
          "output_type": "stream",
          "name": "stdout",
          "text": [
            "{\n",
            "  \"Uber\": {\n",
            "    \"Research and Development\": 1505.6,\n",
            "    \"Sales and Marketing\": 814.1\n",
            "  },\n",
            "  \"Lyft\": {\n",
            "    \"Research and Development\": 276.6,\n",
            "    \"Sales and Marketing\": 814.1\n",
            "  }\n",
            "}\n"
          ]
        }
      ]
    },
    {
      "cell_type": "markdown",
      "id": "e9dafdad-c18c-4e0f-8a35-b691ca73e1f2",
      "metadata": {
        "id": "e9dafdad-c18c-4e0f-8a35-b691ca73e1f2"
      },
      "source": [
        "**RESULT**: As we can see, the QnA agent does not seem to know where to look for the right documents. As a result it gets the Lyft and Uber data completely mixed up."
      ]
    },
    {
      "cell_type": "markdown",
      "id": "9878905f-c47d-46b2-9ad9-063538e717e1",
      "metadata": {
        "id": "9878905f-c47d-46b2-9ad9-063538e717e1"
      },
      "source": [
        "## Querying an Index With Extracted Metadata"
      ]
    },
    {
      "cell_type": "code",
      "execution_count": 24,
      "id": "97f00a18-e9e6-47db-bef5-cbf5bb5016be",
      "metadata": {
        "colab": {
          "base_uri": "https://localhost:8080/"
        },
        "id": "97f00a18-e9e6-47db-bef5-cbf5bb5016be",
        "outputId": "ebae2e1f-5f65-459c-816b-46107b4a0a1f"
      },
      "outputs": [
        {
          "output_type": "stream",
          "name": "stdout",
          "text": [
            "LLM sees:\n",
            " [Excerpt from document]\n",
            "page_label: 65\n",
            "file_name: 10k-132.pdf\n",
            "document_title: Exploring the Diverse Landscape of 2019: A Comprehensive Annual Report on Uber Technologies, Inc.\n",
            "questions_this_excerpt_can_answer: 1. What was the percentage change in Adjusted EBITDA for Uber Technologies, Inc. from 2017 to 2018 and from 2018 to 2019?\n",
            "2. What was the income (loss) attributable to Uber Technologies, Inc. in millions for the years 2017, 2018, and 2019?\n",
            "3. How does the Adjusted EBITDA for Uber Technologies, Inc. in 2019 compare to the previous two years in terms of percentage change?\n",
            "Excerpt:\n",
            "-----\n",
            "income (loss) attributable to  Uber Technologies, Inc. to Adjusted EBITDA. \n",
            "            \n",
            "  Year Ended December 31,   2017 to 2018   2018 to 2019   \n",
            "(In millions, exce pt percenta ges)  2017   2018   2019   % Chan ge  % Chan ge  \n",
            "Adjusted EBITDA ................................  $ (2,642) $ (1,847) $ (2,725)  30%  (48)%\n",
            "-----\n"
          ]
        }
      ],
      "source": [
        "print(\n",
        "    \"LLM sees:\\n\",\n",
        "    (uber_nodes + lyft_nodes)[9].get_content(metadata_mode=MetadataMode.ALL),\n",
        ")"
      ]
    },
    {
      "cell_type": "code",
      "execution_count": 36,
      "id": "c7d255de-3034-4035-93bc-45d535ce1700",
      "metadata": {
        "id": "c7d255de-3034-4035-93bc-45d535ce1700"
      },
      "outputs": [],
      "source": [
        "index = VectorStoreIndex(\n",
        "    nodes=uber_nodes + lyft_nodes,\n",
        "    service_context=ServiceContext.from_defaults(llm=OpenAI(model=\"gpt-3.5-turbo-0613\")),\n",
        ")\n",
        "engine = index.as_query_engine(\n",
        "    similarity_top_k=10,\n",
        ")"
      ]
    },
    {
      "cell_type": "code",
      "execution_count": 37,
      "id": "bbe42516-a2ca-4986-9012-cb15682323f5",
      "metadata": {
        "id": "bbe42516-a2ca-4986-9012-cb15682323f5"
      },
      "outputs": [],
      "source": [
        "final_engine = SubQuestionQueryEngine.from_defaults(\n",
        "    query_engine_tools=[\n",
        "        QueryEngineTool(\n",
        "            query_engine=engine,\n",
        "            metadata=ToolMetadata(\n",
        "                name=\"sec_filing_documents\",\n",
        "                description=\"financial information on companies.\",\n",
        "            ),\n",
        "        )\n",
        "    ],\n",
        "    use_async=True,\n",
        ")"
      ]
    },
    {
      "cell_type": "code",
      "execution_count": 38,
      "id": "f48ac2d9-58e9-4b98-9bad-b8ce1eea7934",
      "metadata": {
        "colab": {
          "base_uri": "https://localhost:8080/"
        },
        "id": "f48ac2d9-58e9-4b98-9bad-b8ce1eea7934",
        "outputId": "c42a20fc-e124-4a19-e0c9-6e7d2ae32388"
      },
      "outputs": [
        {
          "output_type": "stream",
          "name": "stdout",
          "text": [
            "Generated 4 sub questions.\n",
            "\u001b[1;3;38;2;237;90;200m[sec_filing_documents] Q: What was the cost due to research and development for Uber in 2019 in millions of USD?\n",
            "\u001b[0m\u001b[1;3;38;2;90;149;237m[sec_filing_documents] Q: What was the cost due to sales and marketing for Uber in 2019 in millions of USD?\n",
            "\u001b[0m\u001b[1;3;38;2;11;159;203m[sec_filing_documents] Q: What was the cost due to research and development for Lyft in 2019 in millions of USD?\n",
            "\u001b[0m\u001b[1;3;38;2;155;135;227m[sec_filing_documents] Q: What was the cost due to sales and marketing for Lyft in 2019 in millions of USD?\n",
            "\u001b[0m\u001b[1;3;38;2;237;90;200m[sec_filing_documents] A: The cost due to research and development for Uber in 2019 was not provided in the given context.\n",
            "\u001b[0m\u001b[1;3;38;2;155;135;227m[sec_filing_documents] A: The cost due to sales and marketing for Lyft in 2019 was $4,626 million.\n",
            "\u001b[0m\u001b[1;3;38;2;90;149;237m[sec_filing_documents] A: The cost due to sales and marketing for Uber in 2019 was $7,208 million.\n",
            "\u001b[0m\u001b[1;3;38;2;11;159;203m[sec_filing_documents] A: The cost due to research and development for Lyft in 2019 was $1,505.6 million.\n",
            "\u001b[0m"
          ]
        }
      ],
      "source": [
        "response = final_engine.query(\n",
        "    \"\"\"\n",
        "    What was the cost due to research and development v.s. sales and marketing for uber and lyft in 2019 in millions of USD?\n",
        "    Give your answer as a JSON.\n",
        "    \"\"\"\n",
        ")\n",
        "# Correct answer:\n",
        "# {\"Uber\": {\"Research and Development\": 4836, \"Sales and Marketing\": 4626},\n",
        "#  \"Lyft\": {\"Research and Development\": 1505.6, \"Sales and Marketing\": 814 }}"
      ]
    },
    {
      "cell_type": "code",
      "source": [
        "print(response.response)"
      ],
      "metadata": {
        "colab": {
          "base_uri": "https://localhost:8080/"
        },
        "id": "teHIfQmgNAZE",
        "outputId": "b6c1f2eb-c486-433d-f95d-4c4f82422cda"
      },
      "id": "teHIfQmgNAZE",
      "execution_count": 39,
      "outputs": [
        {
          "output_type": "stream",
          "name": "stdout",
          "text": [
            "{\n",
            "  \"Uber\": {\n",
            "    \"Research and Development\": 0,\n",
            "    \"Sales and Marketing\": 7208\n",
            "  },\n",
            "  \"Lyft\": {\n",
            "    \"Research and Development\": 1505.6,\n",
            "    \"Sales and Marketing\": 4626\n",
            "  }\n",
            "}\n"
          ]
        }
      ]
    },
    {
      "cell_type": "markdown",
      "id": "8bee6d91-84f4-4bde-89dc-d010f9aebc3e",
      "metadata": {
        "id": "8bee6d91-84f4-4bde-89dc-d010f9aebc3e"
      },
      "source": [
        "**RESULT**: As we can see, the LLM answers the questions correctly. (not with GPT-3.5-turbo)"
      ]
    }
  ],
  "metadata": {
    "kernelspec": {
      "display_name": "llama-index",
      "language": "python",
      "name": "python3"
    },
    "language_info": {
      "codemirror_mode": {
        "name": "ipython",
        "version": 3
      },
      "file_extension": ".py",
      "mimetype": "text/x-python",
      "name": "python",
      "nbconvert_exporter": "python",
      "pygments_lexer": "ipython3"
    },
    "colab": {
      "provenance": [],
      "include_colab_link": true
    },
    "widgets": {
      "application/vnd.jupyter.widget-state+json": {
        "584c4013f3a641d98058131195e4a979": {
          "model_module": "@jupyter-widgets/controls",
          "model_name": "HBoxModel",
          "model_module_version": "1.5.0",
          "state": {
            "_dom_classes": [],
            "_model_module": "@jupyter-widgets/controls",
            "_model_module_version": "1.5.0",
            "_model_name": "HBoxModel",
            "_view_count": null,
            "_view_module": "@jupyter-widgets/controls",
            "_view_module_version": "1.5.0",
            "_view_name": "HBoxView",
            "box_style": "",
            "children": [
              "IPY_MODEL_5793c30d52fd425f868f9cc9397c037a",
              "IPY_MODEL_e6e80d9a99dd4a4091025a9c136119fe",
              "IPY_MODEL_8078bdac29244bde8c4be2e39612fed4"
            ],
            "layout": "IPY_MODEL_bf3aec8cb03d45fb83e0de7d1d5139f8"
          }
        },
        "5793c30d52fd425f868f9cc9397c037a": {
          "model_module": "@jupyter-widgets/controls",
          "model_name": "HTMLModel",
          "model_module_version": "1.5.0",
          "state": {
            "_dom_classes": [],
            "_model_module": "@jupyter-widgets/controls",
            "_model_module_version": "1.5.0",
            "_model_name": "HTMLModel",
            "_view_count": null,
            "_view_module": "@jupyter-widgets/controls",
            "_view_module_version": "1.5.0",
            "_view_name": "HTMLView",
            "description": "",
            "description_tooltip": null,
            "layout": "IPY_MODEL_e0763659e0694421ab1779938e5c9bce",
            "placeholder": "​",
            "style": "IPY_MODEL_17c2e0d750ff44198ff3c086b0b4e417",
            "value": "Extracting questions: 100%"
          }
        },
        "e6e80d9a99dd4a4091025a9c136119fe": {
          "model_module": "@jupyter-widgets/controls",
          "model_name": "FloatProgressModel",
          "model_module_version": "1.5.0",
          "state": {
            "_dom_classes": [],
            "_model_module": "@jupyter-widgets/controls",
            "_model_module_version": "1.5.0",
            "_model_name": "FloatProgressModel",
            "_view_count": null,
            "_view_module": "@jupyter-widgets/controls",
            "_view_module_version": "1.5.0",
            "_view_name": "ProgressView",
            "bar_style": "success",
            "description": "",
            "description_tooltip": null,
            "layout": "IPY_MODEL_08b85dab8ad243a7bd408686d501cc70",
            "max": 21,
            "min": 0,
            "orientation": "horizontal",
            "style": "IPY_MODEL_305ed3281dfc4b358a7dbcf277815db2",
            "value": 21
          }
        },
        "8078bdac29244bde8c4be2e39612fed4": {
          "model_module": "@jupyter-widgets/controls",
          "model_name": "HTMLModel",
          "model_module_version": "1.5.0",
          "state": {
            "_dom_classes": [],
            "_model_module": "@jupyter-widgets/controls",
            "_model_module_version": "1.5.0",
            "_model_name": "HTMLModel",
            "_view_count": null,
            "_view_module": "@jupyter-widgets/controls",
            "_view_module_version": "1.5.0",
            "_view_name": "HTMLView",
            "description": "",
            "description_tooltip": null,
            "layout": "IPY_MODEL_0c959c1a4f7842359b41dc94976f4463",
            "placeholder": "​",
            "style": "IPY_MODEL_1cfbb1cd5c694853922833a0c14ee843",
            "value": " 21/21 [00:47&lt;00:00,  2.25s/it]"
          }
        },
        "bf3aec8cb03d45fb83e0de7d1d5139f8": {
          "model_module": "@jupyter-widgets/base",
          "model_name": "LayoutModel",
          "model_module_version": "1.2.0",
          "state": {
            "_model_module": "@jupyter-widgets/base",
            "_model_module_version": "1.2.0",
            "_model_name": "LayoutModel",
            "_view_count": null,
            "_view_module": "@jupyter-widgets/base",
            "_view_module_version": "1.2.0",
            "_view_name": "LayoutView",
            "align_content": null,
            "align_items": null,
            "align_self": null,
            "border": null,
            "bottom": null,
            "display": null,
            "flex": null,
            "flex_flow": null,
            "grid_area": null,
            "grid_auto_columns": null,
            "grid_auto_flow": null,
            "grid_auto_rows": null,
            "grid_column": null,
            "grid_gap": null,
            "grid_row": null,
            "grid_template_areas": null,
            "grid_template_columns": null,
            "grid_template_rows": null,
            "height": null,
            "justify_content": null,
            "justify_items": null,
            "left": null,
            "margin": null,
            "max_height": null,
            "max_width": null,
            "min_height": null,
            "min_width": null,
            "object_fit": null,
            "object_position": null,
            "order": null,
            "overflow": null,
            "overflow_x": null,
            "overflow_y": null,
            "padding": null,
            "right": null,
            "top": null,
            "visibility": null,
            "width": null
          }
        },
        "e0763659e0694421ab1779938e5c9bce": {
          "model_module": "@jupyter-widgets/base",
          "model_name": "LayoutModel",
          "model_module_version": "1.2.0",
          "state": {
            "_model_module": "@jupyter-widgets/base",
            "_model_module_version": "1.2.0",
            "_model_name": "LayoutModel",
            "_view_count": null,
            "_view_module": "@jupyter-widgets/base",
            "_view_module_version": "1.2.0",
            "_view_name": "LayoutView",
            "align_content": null,
            "align_items": null,
            "align_self": null,
            "border": null,
            "bottom": null,
            "display": null,
            "flex": null,
            "flex_flow": null,
            "grid_area": null,
            "grid_auto_columns": null,
            "grid_auto_flow": null,
            "grid_auto_rows": null,
            "grid_column": null,
            "grid_gap": null,
            "grid_row": null,
            "grid_template_areas": null,
            "grid_template_columns": null,
            "grid_template_rows": null,
            "height": null,
            "justify_content": null,
            "justify_items": null,
            "left": null,
            "margin": null,
            "max_height": null,
            "max_width": null,
            "min_height": null,
            "min_width": null,
            "object_fit": null,
            "object_position": null,
            "order": null,
            "overflow": null,
            "overflow_x": null,
            "overflow_y": null,
            "padding": null,
            "right": null,
            "top": null,
            "visibility": null,
            "width": null
          }
        },
        "17c2e0d750ff44198ff3c086b0b4e417": {
          "model_module": "@jupyter-widgets/controls",
          "model_name": "DescriptionStyleModel",
          "model_module_version": "1.5.0",
          "state": {
            "_model_module": "@jupyter-widgets/controls",
            "_model_module_version": "1.5.0",
            "_model_name": "DescriptionStyleModel",
            "_view_count": null,
            "_view_module": "@jupyter-widgets/base",
            "_view_module_version": "1.2.0",
            "_view_name": "StyleView",
            "description_width": ""
          }
        },
        "08b85dab8ad243a7bd408686d501cc70": {
          "model_module": "@jupyter-widgets/base",
          "model_name": "LayoutModel",
          "model_module_version": "1.2.0",
          "state": {
            "_model_module": "@jupyter-widgets/base",
            "_model_module_version": "1.2.0",
            "_model_name": "LayoutModel",
            "_view_count": null,
            "_view_module": "@jupyter-widgets/base",
            "_view_module_version": "1.2.0",
            "_view_name": "LayoutView",
            "align_content": null,
            "align_items": null,
            "align_self": null,
            "border": null,
            "bottom": null,
            "display": null,
            "flex": null,
            "flex_flow": null,
            "grid_area": null,
            "grid_auto_columns": null,
            "grid_auto_flow": null,
            "grid_auto_rows": null,
            "grid_column": null,
            "grid_gap": null,
            "grid_row": null,
            "grid_template_areas": null,
            "grid_template_columns": null,
            "grid_template_rows": null,
            "height": null,
            "justify_content": null,
            "justify_items": null,
            "left": null,
            "margin": null,
            "max_height": null,
            "max_width": null,
            "min_height": null,
            "min_width": null,
            "object_fit": null,
            "object_position": null,
            "order": null,
            "overflow": null,
            "overflow_x": null,
            "overflow_y": null,
            "padding": null,
            "right": null,
            "top": null,
            "visibility": null,
            "width": null
          }
        },
        "305ed3281dfc4b358a7dbcf277815db2": {
          "model_module": "@jupyter-widgets/controls",
          "model_name": "ProgressStyleModel",
          "model_module_version": "1.5.0",
          "state": {
            "_model_module": "@jupyter-widgets/controls",
            "_model_module_version": "1.5.0",
            "_model_name": "ProgressStyleModel",
            "_view_count": null,
            "_view_module": "@jupyter-widgets/base",
            "_view_module_version": "1.2.0",
            "_view_name": "StyleView",
            "bar_color": null,
            "description_width": ""
          }
        },
        "0c959c1a4f7842359b41dc94976f4463": {
          "model_module": "@jupyter-widgets/base",
          "model_name": "LayoutModel",
          "model_module_version": "1.2.0",
          "state": {
            "_model_module": "@jupyter-widgets/base",
            "_model_module_version": "1.2.0",
            "_model_name": "LayoutModel",
            "_view_count": null,
            "_view_module": "@jupyter-widgets/base",
            "_view_module_version": "1.2.0",
            "_view_name": "LayoutView",
            "align_content": null,
            "align_items": null,
            "align_self": null,
            "border": null,
            "bottom": null,
            "display": null,
            "flex": null,
            "flex_flow": null,
            "grid_area": null,
            "grid_auto_columns": null,
            "grid_auto_flow": null,
            "grid_auto_rows": null,
            "grid_column": null,
            "grid_gap": null,
            "grid_row": null,
            "grid_template_areas": null,
            "grid_template_columns": null,
            "grid_template_rows": null,
            "height": null,
            "justify_content": null,
            "justify_items": null,
            "left": null,
            "margin": null,
            "max_height": null,
            "max_width": null,
            "min_height": null,
            "min_width": null,
            "object_fit": null,
            "object_position": null,
            "order": null,
            "overflow": null,
            "overflow_x": null,
            "overflow_y": null,
            "padding": null,
            "right": null,
            "top": null,
            "visibility": null,
            "width": null
          }
        },
        "1cfbb1cd5c694853922833a0c14ee843": {
          "model_module": "@jupyter-widgets/controls",
          "model_name": "DescriptionStyleModel",
          "model_module_version": "1.5.0",
          "state": {
            "_model_module": "@jupyter-widgets/controls",
            "_model_module_version": "1.5.0",
            "_model_name": "DescriptionStyleModel",
            "_view_count": null,
            "_view_module": "@jupyter-widgets/base",
            "_view_module_version": "1.2.0",
            "_view_name": "StyleView",
            "description_width": ""
          }
        },
        "695f08825c4d40acbf5dd252b9630581": {
          "model_module": "@jupyter-widgets/controls",
          "model_name": "HBoxModel",
          "model_module_version": "1.5.0",
          "state": {
            "_dom_classes": [],
            "_model_module": "@jupyter-widgets/controls",
            "_model_module_version": "1.5.0",
            "_model_name": "HBoxModel",
            "_view_count": null,
            "_view_module": "@jupyter-widgets/controls",
            "_view_module_version": "1.5.0",
            "_view_name": "HBoxView",
            "box_style": "",
            "children": [
              "IPY_MODEL_4da376426ef447e5b48ab2ba92e2ebe4",
              "IPY_MODEL_ce659945e0d34bc5a5110e0e6674830c",
              "IPY_MODEL_50573c7d9c2f4cfcbe9cd47e9d947f32"
            ],
            "layout": "IPY_MODEL_205914a1ab5f48069ca6816ceee0afe6"
          }
        },
        "4da376426ef447e5b48ab2ba92e2ebe4": {
          "model_module": "@jupyter-widgets/controls",
          "model_name": "HTMLModel",
          "model_module_version": "1.5.0",
          "state": {
            "_dom_classes": [],
            "_model_module": "@jupyter-widgets/controls",
            "_model_module_version": "1.5.0",
            "_model_name": "HTMLModel",
            "_view_count": null,
            "_view_module": "@jupyter-widgets/controls",
            "_view_module_version": "1.5.0",
            "_view_name": "HTMLView",
            "description": "",
            "description_tooltip": null,
            "layout": "IPY_MODEL_6ca22d7f009144969e9349f717c533b4",
            "placeholder": "​",
            "style": "IPY_MODEL_26c764dcdff249298349558639d9714d",
            "value": "Extracting questions: 100%"
          }
        },
        "ce659945e0d34bc5a5110e0e6674830c": {
          "model_module": "@jupyter-widgets/controls",
          "model_name": "FloatProgressModel",
          "model_module_version": "1.5.0",
          "state": {
            "_dom_classes": [],
            "_model_module": "@jupyter-widgets/controls",
            "_model_module_version": "1.5.0",
            "_model_name": "FloatProgressModel",
            "_view_count": null,
            "_view_module": "@jupyter-widgets/controls",
            "_view_module_version": "1.5.0",
            "_view_name": "ProgressView",
            "bar_style": "success",
            "description": "",
            "description_tooltip": null,
            "layout": "IPY_MODEL_ca59c7597643425096f5e7ebfd09f5e8",
            "max": 19,
            "min": 0,
            "orientation": "horizontal",
            "style": "IPY_MODEL_cba1c2b6f74e476797f181939d95af94",
            "value": 19
          }
        },
        "50573c7d9c2f4cfcbe9cd47e9d947f32": {
          "model_module": "@jupyter-widgets/controls",
          "model_name": "HTMLModel",
          "model_module_version": "1.5.0",
          "state": {
            "_dom_classes": [],
            "_model_module": "@jupyter-widgets/controls",
            "_model_module_version": "1.5.0",
            "_model_name": "HTMLModel",
            "_view_count": null,
            "_view_module": "@jupyter-widgets/controls",
            "_view_module_version": "1.5.0",
            "_view_name": "HTMLView",
            "description": "",
            "description_tooltip": null,
            "layout": "IPY_MODEL_7d622a2ded79476f9bc22a9737c46566",
            "placeholder": "​",
            "style": "IPY_MODEL_2ce465d32f074094bd98ce98b227521a",
            "value": " 19/19 [00:49&lt;00:00,  3.17s/it]"
          }
        },
        "205914a1ab5f48069ca6816ceee0afe6": {
          "model_module": "@jupyter-widgets/base",
          "model_name": "LayoutModel",
          "model_module_version": "1.2.0",
          "state": {
            "_model_module": "@jupyter-widgets/base",
            "_model_module_version": "1.2.0",
            "_model_name": "LayoutModel",
            "_view_count": null,
            "_view_module": "@jupyter-widgets/base",
            "_view_module_version": "1.2.0",
            "_view_name": "LayoutView",
            "align_content": null,
            "align_items": null,
            "align_self": null,
            "border": null,
            "bottom": null,
            "display": null,
            "flex": null,
            "flex_flow": null,
            "grid_area": null,
            "grid_auto_columns": null,
            "grid_auto_flow": null,
            "grid_auto_rows": null,
            "grid_column": null,
            "grid_gap": null,
            "grid_row": null,
            "grid_template_areas": null,
            "grid_template_columns": null,
            "grid_template_rows": null,
            "height": null,
            "justify_content": null,
            "justify_items": null,
            "left": null,
            "margin": null,
            "max_height": null,
            "max_width": null,
            "min_height": null,
            "min_width": null,
            "object_fit": null,
            "object_position": null,
            "order": null,
            "overflow": null,
            "overflow_x": null,
            "overflow_y": null,
            "padding": null,
            "right": null,
            "top": null,
            "visibility": null,
            "width": null
          }
        },
        "6ca22d7f009144969e9349f717c533b4": {
          "model_module": "@jupyter-widgets/base",
          "model_name": "LayoutModel",
          "model_module_version": "1.2.0",
          "state": {
            "_model_module": "@jupyter-widgets/base",
            "_model_module_version": "1.2.0",
            "_model_name": "LayoutModel",
            "_view_count": null,
            "_view_module": "@jupyter-widgets/base",
            "_view_module_version": "1.2.0",
            "_view_name": "LayoutView",
            "align_content": null,
            "align_items": null,
            "align_self": null,
            "border": null,
            "bottom": null,
            "display": null,
            "flex": null,
            "flex_flow": null,
            "grid_area": null,
            "grid_auto_columns": null,
            "grid_auto_flow": null,
            "grid_auto_rows": null,
            "grid_column": null,
            "grid_gap": null,
            "grid_row": null,
            "grid_template_areas": null,
            "grid_template_columns": null,
            "grid_template_rows": null,
            "height": null,
            "justify_content": null,
            "justify_items": null,
            "left": null,
            "margin": null,
            "max_height": null,
            "max_width": null,
            "min_height": null,
            "min_width": null,
            "object_fit": null,
            "object_position": null,
            "order": null,
            "overflow": null,
            "overflow_x": null,
            "overflow_y": null,
            "padding": null,
            "right": null,
            "top": null,
            "visibility": null,
            "width": null
          }
        },
        "26c764dcdff249298349558639d9714d": {
          "model_module": "@jupyter-widgets/controls",
          "model_name": "DescriptionStyleModel",
          "model_module_version": "1.5.0",
          "state": {
            "_model_module": "@jupyter-widgets/controls",
            "_model_module_version": "1.5.0",
            "_model_name": "DescriptionStyleModel",
            "_view_count": null,
            "_view_module": "@jupyter-widgets/base",
            "_view_module_version": "1.2.0",
            "_view_name": "StyleView",
            "description_width": ""
          }
        },
        "ca59c7597643425096f5e7ebfd09f5e8": {
          "model_module": "@jupyter-widgets/base",
          "model_name": "LayoutModel",
          "model_module_version": "1.2.0",
          "state": {
            "_model_module": "@jupyter-widgets/base",
            "_model_module_version": "1.2.0",
            "_model_name": "LayoutModel",
            "_view_count": null,
            "_view_module": "@jupyter-widgets/base",
            "_view_module_version": "1.2.0",
            "_view_name": "LayoutView",
            "align_content": null,
            "align_items": null,
            "align_self": null,
            "border": null,
            "bottom": null,
            "display": null,
            "flex": null,
            "flex_flow": null,
            "grid_area": null,
            "grid_auto_columns": null,
            "grid_auto_flow": null,
            "grid_auto_rows": null,
            "grid_column": null,
            "grid_gap": null,
            "grid_row": null,
            "grid_template_areas": null,
            "grid_template_columns": null,
            "grid_template_rows": null,
            "height": null,
            "justify_content": null,
            "justify_items": null,
            "left": null,
            "margin": null,
            "max_height": null,
            "max_width": null,
            "min_height": null,
            "min_width": null,
            "object_fit": null,
            "object_position": null,
            "order": null,
            "overflow": null,
            "overflow_x": null,
            "overflow_y": null,
            "padding": null,
            "right": null,
            "top": null,
            "visibility": null,
            "width": null
          }
        },
        "cba1c2b6f74e476797f181939d95af94": {
          "model_module": "@jupyter-widgets/controls",
          "model_name": "ProgressStyleModel",
          "model_module_version": "1.5.0",
          "state": {
            "_model_module": "@jupyter-widgets/controls",
            "_model_module_version": "1.5.0",
            "_model_name": "ProgressStyleModel",
            "_view_count": null,
            "_view_module": "@jupyter-widgets/base",
            "_view_module_version": "1.2.0",
            "_view_name": "StyleView",
            "bar_color": null,
            "description_width": ""
          }
        },
        "7d622a2ded79476f9bc22a9737c46566": {
          "model_module": "@jupyter-widgets/base",
          "model_name": "LayoutModel",
          "model_module_version": "1.2.0",
          "state": {
            "_model_module": "@jupyter-widgets/base",
            "_model_module_version": "1.2.0",
            "_model_name": "LayoutModel",
            "_view_count": null,
            "_view_module": "@jupyter-widgets/base",
            "_view_module_version": "1.2.0",
            "_view_name": "LayoutView",
            "align_content": null,
            "align_items": null,
            "align_self": null,
            "border": null,
            "bottom": null,
            "display": null,
            "flex": null,
            "flex_flow": null,
            "grid_area": null,
            "grid_auto_columns": null,
            "grid_auto_flow": null,
            "grid_auto_rows": null,
            "grid_column": null,
            "grid_gap": null,
            "grid_row": null,
            "grid_template_areas": null,
            "grid_template_columns": null,
            "grid_template_rows": null,
            "height": null,
            "justify_content": null,
            "justify_items": null,
            "left": null,
            "margin": null,
            "max_height": null,
            "max_width": null,
            "min_height": null,
            "min_width": null,
            "object_fit": null,
            "object_position": null,
            "order": null,
            "overflow": null,
            "overflow_x": null,
            "overflow_y": null,
            "padding": null,
            "right": null,
            "top": null,
            "visibility": null,
            "width": null
          }
        },
        "2ce465d32f074094bd98ce98b227521a": {
          "model_module": "@jupyter-widgets/controls",
          "model_name": "DescriptionStyleModel",
          "model_module_version": "1.5.0",
          "state": {
            "_model_module": "@jupyter-widgets/controls",
            "_model_module_version": "1.5.0",
            "_model_name": "DescriptionStyleModel",
            "_view_count": null,
            "_view_module": "@jupyter-widgets/base",
            "_view_module_version": "1.2.0",
            "_view_name": "StyleView",
            "description_width": ""
          }
        }
      }
    }
  },
  "nbformat": 4,
  "nbformat_minor": 5
}