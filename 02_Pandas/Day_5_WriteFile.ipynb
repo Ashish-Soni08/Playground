{
  "metadata": {
    "interpreter": {
      "hash": "aee8b7b246df8f9039afb4144a1f6fd8d2ca17a180786b69acc140d282b71a49"
    },
    "kernelspec": {
      "name": "python",
      "display_name": "Pyolite",
      "language": "python"
    },
    "language_info": {
      "codemirror_mode": {
        "name": "python",
        "version": 3
      },
      "file_extension": ".py",
      "mimetype": "text/x-python",
      "name": "python",
      "nbconvert_exporter": "python",
      "pygments_lexer": "ipython3",
      "version": "3.8"
    },
    "colab": {
      "name": "Day_5_WriteFile.ipynb",
      "provenance": [],
      "include_colab_link": true
    }
  },
  "nbformat_minor": 0,
  "nbformat": 4,
  "cells": [
    {
      "cell_type": "markdown",
      "metadata": {
        "id": "view-in-github",
        "colab_type": "text"
      },
      "source": [
        "<a href=\"https://colab.research.google.com/github/Ashish-Soni08/100-Days-Of-Code/blob/main/Day_5_WriteFile.ipynb\" target=\"_parent\"><img src=\"https://colab.research.google.com/assets/colab-badge.svg\" alt=\"Open In Colab\"/></a>"
      ]
    },
    {
      "cell_type": "markdown",
      "source": [
        "<p style=\"text-align:center\">\n",
        "    <a href=\"https://skills.network/?utm_medium=Exinfluencer&utm_source=Exinfluencer&utm_content=000026UJ&utm_term=10006555&utm_id=NA-SkillsNetwork-Channel-SkillsNetworkCoursesIBMDeveloperSkillsNetworkPY0101ENSkillsNetwork19487395-2022-01-01\" target=\"_blank\">\n",
        "    <img src=\"https://cf-courses-data.s3.us.cloud-object-storage.appdomain.cloud/assets/logos/SN_web_lightmode.png\" width=\"200\" alt=\"Skills Network Logo\"  />\n",
        "    </a>\n",
        "</p>\n",
        "\n",
        "# Write and Save Files in Python\n",
        "\n",
        "Estimated time needed: **25** minutes\n",
        "\n",
        "## Objectives\n",
        "\n",
        "After completing this lab you will be able to:\n",
        "\n",
        "*   Write to files using Python libraries\n"
      ],
      "metadata": {
        "id": "06erU3ihv1q9"
      }
    },
    {
      "cell_type": "markdown",
      "source": [
        "<h2>Table of Contents</h2>\n",
        "<div class=\"alert alert-block alert-info\" style=\"margin-top: 20px\">\n",
        "    <ul>\n",
        "        <li><a href=\"https://write/?utm_medium=Exinfluencer&utm_source=Exinfluencer&utm_content=000026UJ&utm_term=10006555&utm_id=NA-SkillsNetwork-Channel-SkillsNetworkCoursesIBMDeveloperSkillsNetworkPY0101ENSkillsNetwork19487395-2022-01-01\">Writing Files</a></li>\n",
        "        <li><a href=\"https://append/?utm_medium=Exinfluencer&utm_source=Exinfluencer&utm_content=000026UJ&utm_term=10006555&utm_id=NA-SkillsNetwork-Channel-SkillsNetworkCoursesIBMDeveloperSkillsNetworkPY0101ENSkillsNetwork19487395-2022-01-01\">Appending Files</a></li>\n",
        "        <li><a href=\"https://add/?utm_medium=Exinfluencer&utm_source=Exinfluencer&utm_content=000026UJ&utm_term=10006555&utm_id=NA-SkillsNetwork-Channel-SkillsNetworkCoursesIBMDeveloperSkillsNetworkPY0101ENSkillsNetwork19487395-2022-01-01\">Additional File modes</a></li>\n",
        "        <li><a href=\"https://copy/?utm_medium=Exinfluencer&utm_source=Exinfluencer&utm_content=000026UJ&utm_term=10006555&utm_id=NA-SkillsNetwork-Channel-SkillsNetworkCoursesIBMDeveloperSkillsNetworkPY0101ENSkillsNetwork19487395-2022-01-01\">Copy a File</a></li>\n",
        "    </ul>\n",
        "\n",
        "</div>\n",
        "\n",
        "<hr>\n"
      ],
      "metadata": {
        "id": "Pt7OFfLpv1rI"
      }
    },
    {
      "cell_type": "markdown",
      "source": [
        "<h2 id=\"write\">Writing Files</h2>\n"
      ],
      "metadata": {
        "id": "IIoF0FFGv1rJ"
      }
    },
    {
      "cell_type": "markdown",
      "source": [
        "We can open a file object using the method <code>write()</code> to save the text file to a list. To write to a file, the mode argument must be set to **w**. Let’s write a file **Example2.txt** with the line: **“This is line A”**\n"
      ],
      "metadata": {
        "id": "fdkdn5sjv1rK"
      }
    },
    {
      "cell_type": "code",
      "source": [
        "# Write line to file\n",
        "exmp2 = 'Example2.txt'\n",
        "with open(exmp2, 'w') as writefile:\n",
        "    writefile.write(\"This is line A\")"
      ],
      "metadata": {
        "trusted": true,
        "id": "zcN3J2-Uv1rL"
      },
      "execution_count": null,
      "outputs": []
    },
    {
      "cell_type": "markdown",
      "source": [
        "We can read the file to see if it worked:\n"
      ],
      "metadata": {
        "id": "Qo7Cx8D0v1rN"
      }
    },
    {
      "cell_type": "code",
      "source": [
        "# Read file\n",
        "\n",
        "with open(exmp2, 'r') as testwritefile:\n",
        "    print(testwritefile.read())"
      ],
      "metadata": {
        "trusted": true,
        "id": "v1gGpqvMv1rN",
        "outputId": "42de1f9e-70f1-4fc7-f739-a8efd1de2218"
      },
      "execution_count": null,
      "outputs": [
        {
          "name": "stdout",
          "text": "This is line A\n",
          "output_type": "stream"
        }
      ]
    },
    {
      "cell_type": "markdown",
      "source": [
        "We can write multiple lines:\n"
      ],
      "metadata": {
        "id": "8gGVT8gFv1rP"
      }
    },
    {
      "cell_type": "code",
      "source": [
        "# Write lines to file\n",
        "\n",
        "with open(exmp2, 'w') as writefile:\n",
        "    writefile.write(\"This is line A\\n\")\n",
        "    writefile.write(\"This is line B\\n\")"
      ],
      "metadata": {
        "trusted": true,
        "id": "ymyjvG11v1rQ"
      },
      "execution_count": null,
      "outputs": []
    },
    {
      "cell_type": "markdown",
      "source": [
        "The method <code>.write()</code> works similar to the method <code>.readline()</code>, except instead of reading a new line it writes a new line. The process is illustrated in the figure. The different colour coding of the grid represents a new line added to the file after each method call.\n"
      ],
      "metadata": {
        "id": "Bdaaj1gtv1rR"
      }
    },
    {
      "cell_type": "markdown",
      "source": [
        "<img src=\"https://cf-courses-data.s3.us.cloud-object-storage.appdomain.cloud/IBMDeveloperSkillsNetwork-PY0101EN-SkillsNetwork/labs/Module%204/images/WriteLine.png\" width=\"500\" />\n"
      ],
      "metadata": {
        "id": "ypOTpBS3v1rX"
      }
    },
    {
      "cell_type": "markdown",
      "source": [
        "You can check the file to see if your results are correct\n"
      ],
      "metadata": {
        "id": "IlyiDyycv1rZ"
      }
    },
    {
      "cell_type": "code",
      "source": [
        "# Check whether write to file\n",
        "\n",
        "with open(exmp2, 'r') as testwritefile:\n",
        "    print(testwritefile.read())"
      ],
      "metadata": {
        "trusted": true,
        "id": "0Z70X12Uv1ra",
        "outputId": "1c0e22b9-e07c-4c20-8050-296acc5626cc"
      },
      "execution_count": null,
      "outputs": [
        {
          "name": "stdout",
          "text": "This is line A\nThis is line B\n\n",
          "output_type": "stream"
        }
      ]
    },
    {
      "cell_type": "markdown",
      "source": [
        "We write a list to a **.txt** file  as follows:\n"
      ],
      "metadata": {
        "id": "I_LXS0fUv1rc"
      }
    },
    {
      "cell_type": "code",
      "source": [
        "# Sample list of text\n",
        "\n",
        "Lines = [\"This is line A\\n\", \"This is line B\\n\", \"This is line C\\n\"]\n",
        "Lines"
      ],
      "metadata": {
        "trusted": true,
        "id": "jCSmot-lv1re",
        "outputId": "1441f453-ccf0-4c26-aa62-9194450aea9a"
      },
      "execution_count": null,
      "outputs": [
        {
          "execution_count": 5,
          "output_type": "execute_result",
          "data": {
            "text/plain": "['This is line A\\n', 'This is line B\\n', 'This is line C\\n']"
          },
          "metadata": {}
        }
      ]
    },
    {
      "cell_type": "code",
      "source": [
        "# Write the strings in the list to text file\n",
        "\n",
        "with open('Example2.txt', 'w') as writefile:\n",
        "    for line in Lines:\n",
        "        print(line)\n",
        "        writefile.write(line)"
      ],
      "metadata": {
        "trusted": true,
        "id": "w3EjJcc4v1rf",
        "outputId": "7f3b8c07-e510-4c3f-e42b-81a2ef3ca1cc"
      },
      "execution_count": null,
      "outputs": [
        {
          "name": "stdout",
          "text": "This is line A\n\nThis is line B\n\nThis is line C\n\n",
          "output_type": "stream"
        }
      ]
    },
    {
      "cell_type": "markdown",
      "source": [
        "We can verify the file is written by reading it and printing out the values:\n"
      ],
      "metadata": {
        "id": "bl71-pWMv1rh"
      }
    },
    {
      "cell_type": "code",
      "source": [
        "# Verify if writing to file is successfully executed\n",
        "\n",
        "with open('Example2.txt', 'r') as testwritefile:\n",
        "    print(testwritefile.read())"
      ],
      "metadata": {
        "trusted": true,
        "id": "0qeFYnF8v1ri",
        "outputId": "83dc2a62-bac4-401c-aacc-9790bf8dd073"
      },
      "execution_count": null,
      "outputs": [
        {
          "name": "stdout",
          "text": "This is line A\nThis is line B\nThis is line C\n\n",
          "output_type": "stream"
        }
      ]
    },
    {
      "cell_type": "markdown",
      "source": [
        "However, note that setting the mode to **w** overwrites all the existing data in the file.\n"
      ],
      "metadata": {
        "id": "OITFBtxkv1rj"
      }
    },
    {
      "cell_type": "code",
      "source": [
        "with open('Example2.txt', 'w') as writefile:\n",
        "    writefile.write(\"Overwrite\\n\")\n",
        "with open('Example2.txt', 'r') as testwritefile:\n",
        "    print(testwritefile.read())"
      ],
      "metadata": {
        "trusted": true,
        "id": "bTQykaCdv1rk",
        "outputId": "b943e0e3-693b-4887-95ba-2c75ee7a47d3"
      },
      "execution_count": null,
      "outputs": [
        {
          "name": "stdout",
          "text": "Overwrite\n\n",
          "output_type": "stream"
        }
      ]
    },
    {
      "cell_type": "markdown",
      "source": [
        "<hr>\n",
        "<h2 id=\"Append\">Appending Files</h2>\n"
      ],
      "metadata": {
        "id": "OGLG56YDv1rl"
      }
    },
    {
      "cell_type": "markdown",
      "source": [
        "We can write to files without losing any of the existing data as follows by setting the mode argument to append: **a**.  you can append a new line as follows:\n"
      ],
      "metadata": {
        "id": "A0LtHbg-v1rm"
      }
    },
    {
      "cell_type": "code",
      "source": [
        "# Write a new line to text file\n",
        "\n",
        "with open('Example2.txt', 'a') as testwritefile:\n",
        "    testwritefile.write(\"This is line C\\n\")\n",
        "    testwritefile.write(\"This is line D\\n\")\n",
        "    testwritefile.write(\"This is line E\\n\")"
      ],
      "metadata": {
        "trusted": true,
        "id": "Ts5Rd_CPv1rn"
      },
      "execution_count": null,
      "outputs": []
    },
    {
      "cell_type": "markdown",
      "source": [
        "You can verify the file has changed by running the following cell:\n"
      ],
      "metadata": {
        "id": "xBlBUaxtv1rt"
      }
    },
    {
      "cell_type": "code",
      "source": [
        "# Verify if the new line is in the text file\n",
        "\n",
        "with open('Example2.txt', 'r') as testwritefile:\n",
        "    print(testwritefile.read())"
      ],
      "metadata": {
        "trusted": true,
        "id": "eF4iIv6Nv1rv",
        "outputId": "a6ba4b2e-9b00-4793-88e6-5643da96f69d"
      },
      "execution_count": null,
      "outputs": [
        {
          "name": "stdout",
          "text": "Overwrite\nThis is line C\nThis is line D\nThis is line E\n\n",
          "output_type": "stream"
        }
      ]
    },
    {
      "cell_type": "markdown",
      "source": [
        "<hr>\n",
        "<h2 id=\"add\">Additional modes</h2> \n"
      ],
      "metadata": {
        "id": "nC0gKb4yv1rx"
      }
    },
    {
      "cell_type": "markdown",
      "source": [
        "It's fairly ineffecient to open the file in **a** or **w** and then reopening it in **r** to read any lines. Luckily we can access the file in the following modes:\n",
        "\n",
        "*   **r+** : Reading and writing. Cannot truncate the file.\n",
        "*   **w+** : Writing and reading. Truncates the file.\n",
        "*   **a+** : Appending and Reading. Creates a new file, if none exists.\n",
        "\n",
        "You dont have to dwell on the specifics of each mode for this lab.\n"
      ],
      "metadata": {
        "id": "uLSZwaLAv1rx"
      }
    },
    {
      "cell_type": "markdown",
      "source": [
        "Let's try out the **a+** mode:\n"
      ],
      "metadata": {
        "id": "R9GT_HNQv1r6"
      }
    },
    {
      "cell_type": "code",
      "source": [
        "with open('Example2.txt', 'a+') as testwritefile:\n",
        "    testwritefile.write(\"This is line E\\n\")\n",
        "    print(testwritefile.read())"
      ],
      "metadata": {
        "trusted": true,
        "id": "iNs6-jGfv1r6",
        "outputId": "d1344c49-9a83-4130-9823-30dd50b89139"
      },
      "execution_count": null,
      "outputs": [
        {
          "name": "stdout",
          "text": "",
          "output_type": "stream"
        },
        {
          "name": "stdout",
          "text": "\n",
          "output_type": "stream"
        }
      ]
    },
    {
      "cell_type": "markdown",
      "source": [
        "There were no errors but <code>read()</code> also did not output anything. This is because of our location in the file.\n"
      ],
      "metadata": {
        "id": "DQZrfEbMv1r7"
      }
    },
    {
      "cell_type": "markdown",
      "source": [
        "Most of the file methods we've looked at work in a certain location in the file. <code>.write() </code> writes at a certain location in the file. <code>.read()</code> reads at a certain location in the file and so on. You can think of this as moving your pointer around in the notepad to make changes at specific location.\n"
      ],
      "metadata": {
        "id": "02w4xCN-v1r7"
      }
    },
    {
      "cell_type": "markdown",
      "source": [
        "Opening the file in **w** is akin to opening the .txt file, moving your cursor to the beginning of the text file, writing new text and deleting everything that follows.\n",
        "Whereas opening the file in **a** is similiar to opening the .txt file, moving your cursor to the very end and then adding the new pieces of text. <br>\n",
        "It is often very useful to know where the 'cursor' is in a file and be able to control it. The following methods allow us to do precisely this -\n",
        "\n",
        "*   <code>.tell()</code> - returns the current position in bytes\n",
        "*   <code>.seek(offset,from)</code> - changes the position by 'offset' bytes with respect to 'from'. From can take the value of 0,1,2 corresponding to beginning, relative to current position and end\n"
      ],
      "metadata": {
        "id": "ZXftDSKuv1r8"
      }
    },
    {
      "cell_type": "markdown",
      "source": [
        "Now lets revisit **a+**\n"
      ],
      "metadata": {
        "id": "N7ZkSwefv1r8"
      }
    },
    {
      "cell_type": "code",
      "source": [
        "with open('Example2.txt', 'a+') as testwritefile:\n",
        "    print(\"Initial Location: {}\".format(testwritefile.tell()))\n",
        "    \n",
        "    data = testwritefile.read()\n",
        "    if (not data):  #empty strings return false in python\n",
        "            print('Read nothing') \n",
        "    else: \n",
        "            print(testwritefile.read())\n",
        "            \n",
        "    testwritefile.seek(0,0) # move 0 bytes from beginning.\n",
        "    \n",
        "    print(\"\\nNew Location : {}\".format(testwritefile.tell()))\n",
        "    data = testwritefile.read()\n",
        "    if (not data): \n",
        "            print('Read nothing') \n",
        "    else: \n",
        "            print(data)\n",
        "    \n",
        "    print(\"Location after read: {}\".format(testwritefile.tell()) )"
      ],
      "metadata": {
        "trusted": true,
        "id": "6-rFzsOnv1r9",
        "outputId": "abef34a9-ef98-44d8-8cb4-c960796fda9c"
      },
      "execution_count": null,
      "outputs": [
        {
          "name": "stdout",
          "text": "Initial Location: 30\nRead nothing\n\nNew Location : 0\nLine 1\nLine 2\nLine 3\nfinished\n\nLocation after read: 30\n",
          "output_type": "stream"
        }
      ]
    },
    {
      "cell_type": "markdown",
      "source": [
        "Finally, a note on the difference between **w+** and **r+**. Both of these modes allow access to read and write methods, however, opening a file in **w+** overwrites it and deletes all pre-existing data. <br>\n",
        "To work with a file on existing data, use **r+** and **a+**. While using **r+**, it can be useful to add a <code>.truncate()</code> method at the end of your data. This will reduce the file to your data and delete everything that follows. <br>\n",
        "In the following code block, Run the code as it is first and then run it with the <code>.truncate()</code>.\n"
      ],
      "metadata": {
        "id": "rIirIFinv1r-"
      }
    },
    {
      "cell_type": "code",
      "source": [
        "with open('Example2.txt', 'r+') as testwritefile:\n",
        "    data = testwritefile.readlines()\n",
        "    testwritefile.seek(0,0) #write at beginning of file\n",
        "   \n",
        "    testwritefile.write(\"Line 1\" + \"\\n\")\n",
        "    testwritefile.write(\"Line 2\" + \"\\n\")\n",
        "    testwritefile.write(\"Line 3\" + \"\\n\")\n",
        "    testwritefile.write(\"finished\\n\")\n",
        "    #Uncomment the line below\n",
        "    #testwritefile.truncate()\n",
        "    testwritefile.seek(0,0)\n",
        "    print(testwritefile.read())\n",
        "    "
      ],
      "metadata": {
        "trusted": true,
        "id": "iPDAmuB1v1r_",
        "outputId": "c1b1e8cb-4ed3-4baa-8e98-3ec45c1fa920"
      },
      "execution_count": null,
      "outputs": [
        {
          "name": "stdout",
          "text": "Line 1\nLine 2\nLine 3\nfinished\n\n",
          "output_type": "stream"
        }
      ]
    },
    {
      "cell_type": "markdown",
      "source": [
        "<hr>\n"
      ],
      "metadata": {
        "id": "XnZEdgn6v1sA"
      }
    },
    {
      "cell_type": "markdown",
      "source": [
        "<h2 id=\"copy\">Copy a File</h2> \n"
      ],
      "metadata": {
        "id": "c0QjlfpKv1sA"
      }
    },
    {
      "cell_type": "markdown",
      "source": [
        "Let's copy the file **Example2.txt** to the file **Example3.txt**:\n"
      ],
      "metadata": {
        "id": "FWXqhInEv1sB"
      }
    },
    {
      "cell_type": "code",
      "source": [
        "# Copy file to another\n",
        "\n",
        "with open('Example2.txt','r') as readfile:\n",
        "    with open('Example3.txt','w') as writefile:\n",
        "          for line in readfile:\n",
        "                writefile.write(line)"
      ],
      "metadata": {
        "trusted": true,
        "id": "FPNuv6vKv1sB"
      },
      "execution_count": null,
      "outputs": []
    },
    {
      "cell_type": "markdown",
      "source": [
        "We can read the file to see if everything works:\n"
      ],
      "metadata": {
        "id": "-CPlQO06v1sB"
      }
    },
    {
      "cell_type": "code",
      "source": [
        "# Verify if the copy is successfully executed\n",
        "\n",
        "with open('Example3.txt','r') as testwritefile:\n",
        "    print(testwritefile.read())"
      ],
      "metadata": {
        "trusted": true,
        "id": "mwb69g7Wv1sC",
        "outputId": "b52a2974-a418-4a16-cd7f-2313da54c48b"
      },
      "execution_count": null,
      "outputs": [
        {
          "name": "stdout",
          "text": "Line 1\nLine 2\nLine 3\nfinished\n\n",
          "output_type": "stream"
        }
      ]
    },
    {
      "cell_type": "markdown",
      "source": [
        "After reading files, we can also write data into files and save them in different file formats like **.txt, .csv, .xls (for excel files) etc**. You will come across these in further examples\n"
      ],
      "metadata": {
        "id": "VkClW0I8v1sC"
      }
    },
    {
      "cell_type": "markdown",
      "source": [
        "**NOTE:** If you wish to open and view the `example3.txt` file, download this lab [here](https://cf-courses-data.s3.us.cloud-object-storage.appdomain.cloud/IBMDeveloperSkillsNetwork-PY0101EN-SkillsNetwork/labs/Module%204/PY0101EN-4-2-WriteFile.ipynb) and run it locally on your machine. Then go to the working directory to ensure the `example3.txt` file exists and contains the summary data that we wrote.\n"
      ],
      "metadata": {
        "id": "WC2BQzrmv1sD"
      }
    },
    {
      "cell_type": "markdown",
      "source": [
        "<hr>\n"
      ],
      "metadata": {
        "id": "KT39mK8sv1sD"
      }
    },
    {
      "cell_type": "markdown",
      "source": [
        "<h2> Exercise </h2>\n"
      ],
      "metadata": {
        "id": "gkwaTacav1sD"
      }
    },
    {
      "cell_type": "markdown",
      "source": [
        "Your local university's Raptors fan club maintains a register of its active members on a .txt document. Every month they update the file by removing the members who are not active. You have been tasked with automating this with your Python skills. <br>\n",
        "Given the file `currentMem`, Remove each member with a 'no' in their Active column. Keep track of each of the removed members and append them to the `exMem` file. Make sure that the format of the original files in preserved.   (*Hint: Do this by reading/writing whole lines and ensuring the header remains* ) <br>\n",
        "Run the code block below prior to starting the exercise. The skeleton code has been provided for you. Edit only the `cleanFiles` function.\n"
      ],
      "metadata": {
        "id": "ff4RQlhev1sE"
      }
    },
    {
      "cell_type": "code",
      "source": [
        "#Run this prior to starting the exercise\n",
        "from random import randint as rnd\n",
        "\n",
        "memReg = 'members.txt'\n",
        "exReg = 'inactive.txt'\n",
        "fee =('yes','no')\n",
        "\n",
        "def genFiles(current,old):\n",
        "    with open(current,'w+') as writefile: \n",
        "        writefile.write('Membership No  Date Joined  Active  \\n')\n",
        "        data = \"{:^13}  {:<11}  {:<6}\\n\"\n",
        "\n",
        "        for rowno in range(20):\n",
        "            date = str(rnd(2015,2020))+ '-' + str(rnd(1,12))+'-'+str(rnd(1,25))\n",
        "            writefile.write(data.format(rnd(10000,99999),date,fee[rnd(0,1)]))\n",
        "\n",
        "\n",
        "    with open(old,'w+') as writefile: \n",
        "        writefile.write('Membership No  Date Joined  Active  \\n')\n",
        "        data = \"{:^13}  {:<11}  {:<6}\\n\"\n",
        "        for rowno in range(3):\n",
        "            date = str(rnd(2015,2020))+ '-' + str(rnd(1,12))+'-'+str(rnd(1,25))\n",
        "            writefile.write(data.format(rnd(10000,99999),date,fee[1]))\n",
        "\n",
        "\n",
        "genFiles(memReg,exReg)\n"
      ],
      "metadata": {
        "trusted": true,
        "id": "I5ZZzf9Wv1sE"
      },
      "execution_count": null,
      "outputs": []
    },
    {
      "cell_type": "markdown",
      "source": [
        "Now that you've run the prerequisite code cell above, which prepared the files for this exercise, you are ready to move on to the implementation.\n",
        "\n",
        "#### **Exercise:** Implement the cleanFiles function in the code cell below.\n"
      ],
      "metadata": {
        "id": "m1KMmtf0v1sE"
      }
    },
    {
      "cell_type": "code",
      "source": [
        "  \n",
        "'''\n",
        "The two arguments for this function are the files:\n",
        "    - currentMem: File containing list of current members\n",
        "    - exMem: File containing list of old members\n",
        "    \n",
        "    This function should remove all rows from currentMem containing 'no' \n",
        "    in the 'Active' column and appends them to exMem.\n",
        "    '''\n",
        "def cleanFiles(currentMem,exMem):\n",
        "    with open(currentMem,'r+') as writeFile: \n",
        "        with open(exMem,'a+') as appendFile:\n",
        "            #get the data\n",
        "            writeFile.seek(0)\n",
        "            members = writeFile.readlines()\n",
        "            #remove header\n",
        "            header = members[0]\n",
        "            members.pop(0)\n",
        "                \n",
        "            inactive = [member for member in members if ('no' in member)]\n",
        "            '''\n",
        "            The above is the same as \n",
        "\n",
        "            for member in members:\n",
        "            if 'no' in member:\n",
        "                inactive.append(member)\n",
        "            '''\n",
        "            #go to the beginning of the write file\n",
        "            writeFile.seek(0) \n",
        "            writeFile.write(header)\n",
        "            for member in members:\n",
        "                if (member in inactive):\n",
        "                    appendFile.write(member)\n",
        "                else:\n",
        "                    writeFile.write(member)      \n",
        "            writeFile.truncate()\n",
        "\n",
        "\n",
        "# code to help you see the files\n",
        "\n",
        "headers = \"Membership No  Date Joined  Active  \\n\"\n",
        "\n",
        "with open(memReg,'r') as readFile:\n",
        "    print(\"Active Members: \\n\\n\")\n",
        "    print(readFile.read())\n",
        "    \n",
        "with open(exReg,'r') as readFile:\n",
        "    print(\"Inactive Members: \\n\\n\")\n",
        "    print(readFile.read())\n",
        "\n",
        "# The code below is to help you view the files.\n",
        "# Do not modify this code for this exercise.\n",
        "memReg = 'members.txt'\n",
        "exReg = 'inactive.txt'\n",
        "cleanFiles(memReg,exReg)\n",
        "\n",
        "\n",
        "headers = \"Membership No  Date Joined  Active  \\n\"\n",
        "with open(memReg,'r') as readFile:\n",
        "    print(\"Active Members: \\n\\n\")\n",
        "    print(readFile.read())\n",
        "    \n",
        "with open(exReg,'r') as readFile:\n",
        "    print(\"Inactive Members: \\n\\n\")\n",
        "    print(readFile.read())\n",
        "                \n",
        "    "
      ],
      "metadata": {
        "trusted": true,
        "id": "ogflN8-yv1sF",
        "outputId": "9b82ccdc-1e08-4c6a-801b-fd7c46554530"
      },
      "execution_count": null,
      "outputs": [
        {
          "name": "stdout",
          "text": "Active Members: \n\n\nMembership No  Date Joined  Active  \n    42550      2018-7-17    no    \n    26937      2020-10-5    no    \n    14533      2020-5-22    no    \n    10257      2016-10-8    no    \n    99354      2016-9-17    yes   \n    40928      2017-9-1     no    \n    83283      2018-7-7     no    \n    98817      2017-5-25    yes   \n    20457      2018-3-15    yes   \n    42428      2018-11-1    yes   \n    20599      2015-5-15    yes   \n    62090      2018-5-5     yes   \n    39833      2017-1-18    no    \n    84136      2020-7-3     yes   \n    51342      2017-7-4     yes   \n    72726      2017-1-22    no    \n    94025      2018-1-17    no    \n    93335      2018-9-17    yes   \n    88125      2017-9-23    yes   \n    30580      2018-2-11    yes   \n\nInactive Members: \n\n\nMembership No  Date Joined  Active  \n    75420      2019-12-14   no    \n    19170      2020-5-7     no    \n    32631      2020-2-17    no    \n\nActive Members: \n\n\nMembership No  Date Joined  Active  \n    99354      2016-9-17    yes   \n    98817      2017-5-25    yes   \n    20457      2018-3-15    yes   \n    42428      2018-11-1    yes   \n    20599      2015-5-15    yes   \n    62090      2018-5-5     yes   \n    84136      2020-7-3     yes   \n    51342      2017-7-4     yes   \n    93335      2018-9-17    yes   \n    88125      2017-9-23    yes   \n    30580      2018-2-11    yes   \n\nInactive Members: \n\n\nMembership No  Date Joined  Active  \n    75420      2019-12-14   no    \n    19170      2020-5-7     no    \n    32631      2020-2-17    no    \n    42550      2018-7-17    no    \n    26937      2020-10-5    no    \n    14533      2020-5-22    no    \n    10257      2016-10-8    no    \n    40928      2017-9-1     no    \n    83283      2018-7-7     no    \n    39833      2017-1-18    no    \n    72726      2017-1-22    no    \n    94025      2018-1-17    no    \n\n",
          "output_type": "stream"
        }
      ]
    },
    {
      "cell_type": "markdown",
      "source": [
        "The code cell below is to verify your solution. Please do not modify the code and run it to test your implementation of `cleanFiles`.\n"
      ],
      "metadata": {
        "id": "vpzatsmKv1sG"
      }
    },
    {
      "cell_type": "code",
      "source": [
        "def testMsg(passed):\n",
        "    if passed:\n",
        "       return 'Test Passed'\n",
        "    else :\n",
        "       return 'Test Failed'\n",
        "\n",
        "testWrite = \"testWrite.txt\"\n",
        "testAppend = \"testAppend.txt\" \n",
        "passed = True\n",
        "\n",
        "genFiles(testWrite,testAppend)\n",
        "\n",
        "with open(testWrite,'r') as file:\n",
        "    ogWrite = file.readlines()\n",
        "\n",
        "with open(testAppend,'r') as file:\n",
        "    ogAppend = file.readlines()\n",
        "\n",
        "try:\n",
        "    cleanFiles(testWrite,testAppend)\n",
        "except:\n",
        "    print('Error')\n",
        "\n",
        "with open(testWrite,'r') as file:\n",
        "    clWrite = file.readlines()\n",
        "\n",
        "with open(testAppend,'r') as file:\n",
        "    clAppend = file.readlines()\n",
        "        \n",
        "# checking if total no of rows is same, including headers\n",
        "\n",
        "if (len(ogWrite) + len(ogAppend) != len(clWrite) + len(clAppend)):\n",
        "    print(\"The number of rows do not add up. Make sure your final files have the same header and format.\")\n",
        "    passed = False\n",
        "    \n",
        "for line in clWrite:\n",
        "    if  'no' in line:\n",
        "        passed = False\n",
        "        print(\"Inactive members in file\")\n",
        "        break\n",
        "    else:\n",
        "        if line not in ogWrite:\n",
        "            print(\"Data in file does not match original file\")\n",
        "            passed = False\n",
        "print (\"{}\".format(testMsg(passed)))\n",
        "    \n",
        "\n"
      ],
      "metadata": {
        "trusted": true,
        "id": "ZRDXEGM5v1sG",
        "outputId": "3c2c58e3-f181-4daa-e756-e642e9d89e9a"
      },
      "execution_count": null,
      "outputs": [
        {
          "name": "stdout",
          "text": "Test Passed\n",
          "output_type": "stream"
        }
      ]
    },
    {
      "cell_type": "markdown",
      "source": [
        "<details><summary>Click here for the solution</summary>\n",
        "\n",
        "```python\n",
        "def cleanFiles(currentMem,exMem):\n",
        "    with open(currentMem,'r+') as writeFile: \n",
        "        with open(exMem,'a+') as appendFile:\n",
        "            #get the data\n",
        "            writeFile.seek(0)\n",
        "            members = writeFile.readlines()\n",
        "            #remove header\n",
        "            header = members[0]\n",
        "            members.pop(0)\n",
        "                \n",
        "            inactive = [member for member in members if ('no' in member)]\n",
        "            '''\n",
        "            The above is the same as \n",
        "\n",
        "            for member in members:\n",
        "            if 'no' in member:\n",
        "                inactive.append(member)\n",
        "            '''\n",
        "            #go to the beginning of the write file\n",
        "            writeFile.seek(0) \n",
        "            writeFile.write(header)\n",
        "            for member in members:\n",
        "                if (member in inactive):\n",
        "                    appendFile.write(member)\n",
        "                else:\n",
        "                    writeFile.write(member)      \n",
        "            writeFile.truncate()\n",
        "                \n",
        "memReg = 'members.txt'\n",
        "exReg = 'inactive.txt'\n",
        "cleanFiles(memReg,exReg)\n",
        "\n",
        "# code to help you see the files\n",
        "\n",
        "headers = \"Membership No  Date Joined  Active  \\n\"\n",
        "\n",
        "with open(memReg,'r') as readFile:\n",
        "    print(\"Active Members: \\n\\n\")\n",
        "    print(readFile.read())\n",
        "    \n",
        "with open(exReg,'r') as readFile:\n",
        "    print(\"Inactive Members: \\n\\n\")\n",
        "    print(readFile.read())\n",
        "    \n",
        "```\n",
        "\n",
        "</details>\n"
      ],
      "metadata": {
        "id": "8SIkzVI7v1sH"
      }
    },
    {
      "cell_type": "markdown",
      "source": [
        "<hr>\n",
        "<h2>The last exercise!</h2>\n",
        "<p>Congratulations, you have completed this lesson and hands-on lab in Python. \n",
        "<hr>\n"
      ],
      "metadata": {
        "id": "tga8bbpFv1sJ"
      }
    },
    {
      "cell_type": "markdown",
      "source": [
        "## Author\n",
        "\n",
        "<a href=\"https://www.linkedin.com/in/joseph-s-50398b136/?utm_medium=Exinfluencer&utm_source=Exinfluencer&utm_content=000026UJ&utm_term=10006555&utm_id=NA-SkillsNetwork-Channel-SkillsNetworkCoursesIBMDeveloperSkillsNetworkPY0101ENSkillsNetwork19487395-2022-01-01\" target=\"_blank\">Joseph Santarcangelo</a>\n",
        "\n",
        "### Other Contributors\n",
        "\n",
        "<a href=\"https://www.linkedin.com/in/jiahui-mavis-zhou-a4537814a?utm_medium=Exinfluencer&utm_source=Exinfluencer&utm_content=000026UJ&utm_term=10006555&utm_id=NA-SkillsNetwork-Channel-SkillsNetworkCoursesIBMDeveloperSkillsNetworkPY0101ENSkillsNetwork19487395-2022-01-01\">Mavis Zhou</a>\n",
        "\n",
        "## Change Log\n",
        "\n",
        "| Date (YYYY-MM-DD) | Version | Changed By  | Change Description                  |\n",
        "| ----------------- | ------- | ----------- | ----------------------------------- |\n",
        "| 2022-01-10        | 2.1     | Malika      | Removed the readme for GitShare     |\n",
        "| 2020-10-16        | 1.3     | Arjun Swani | Added exercise                      |\n",
        "| 2020-10-16        | 1.2     | Arjun Swani | Added section additional file modes |\n",
        "| 2020-10-16        | 1.1     | Arjun Swani | Made append a different section     |\n",
        "| 2020-08-28        | 0.2     | Lavanya     | Moved lab to course repo in GitLab  |\n",
        "\n",
        "<hr>\n",
        "\n",
        "## <h3 align=\"center\"> © IBM Corporation 2020. All rights reserved. <h3/>\n"
      ],
      "metadata": {
        "id": "bOE07omCv1sL"
      }
    }
  ]
}